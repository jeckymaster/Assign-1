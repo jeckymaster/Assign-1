{
 "cells": [
  {
   "cell_type": "markdown",
   "id": "962e63ab",
   "metadata": {},
   "source": [
    "1. Make a class called Thing with no contents and print it. Then, create an object called example from this class and also print it. Are the printed values the same or different?"
   ]
  },
  {
   "cell_type": "code",
   "execution_count": 8,
   "id": "093531ff",
   "metadata": {},
   "outputs": [],
   "source": [
    "class Thing:\n",
    "    pass"
   ]
  },
  {
   "cell_type": "code",
   "execution_count": 9,
   "id": "d7df004d",
   "metadata": {},
   "outputs": [
    {
     "name": "stdout",
     "output_type": "stream",
     "text": [
      "<__main__.Thing object at 0x00000179F2AC1160>\n"
     ]
    }
   ],
   "source": [
    "print(Thing())"
   ]
  },
  {
   "cell_type": "code",
   "execution_count": 10,
   "id": "28d7a273",
   "metadata": {},
   "outputs": [
    {
     "name": "stdout",
     "output_type": "stream",
     "text": [
      "<__main__.Thing object at 0x00000179F2C19A90>\n"
     ]
    }
   ],
   "source": [
    "example = Thing()\n",
    "print(example)"
   ]
  },
  {
   "cell_type": "markdown",
   "id": "905c4b60",
   "metadata": {},
   "source": [
    "    Yes, they both print the same values but they have different 'memory addresses'."
   ]
  },
  {
   "cell_type": "markdown",
   "id": "6a00e4fd",
   "metadata": {},
   "source": [
    "2. Create a new class called Thing2 and add the value 'abc' to the letters class attribute. Letters should be printed."
   ]
  },
  {
   "cell_type": "code",
   "execution_count": 11,
   "id": "9e63a1f6",
   "metadata": {},
   "outputs": [],
   "source": [
    "class Thing2:\n",
    "    letters = 'abc'"
   ]
  },
  {
   "cell_type": "code",
   "execution_count": 13,
   "id": "3e852ce4",
   "metadata": {},
   "outputs": [
    {
     "name": "stdout",
     "output_type": "stream",
     "text": [
      "abc\n"
     ]
    }
   ],
   "source": [
    "print(Thing2.letters)"
   ]
  },
  {
   "cell_type": "markdown",
   "id": "5104ab6d",
   "metadata": {},
   "source": [
    "3. Make yet another class called, of course, Thing3. This time, assign the value 'xyz' to an instance (object) attribute called letters. Print letters. Do you need to make an object from the class to do this?"
   ]
  },
  {
   "cell_type": "code",
   "execution_count": 14,
   "id": "ea479575",
   "metadata": {},
   "outputs": [],
   "source": [
    "class Thing3:\n",
    "    def __init__(self):\n",
    "        self.letters = \"xyz\"\n",
    "    "
   ]
  },
  {
   "cell_type": "code",
   "execution_count": 16,
   "id": "f5380ec2",
   "metadata": {},
   "outputs": [
    {
     "name": "stdout",
     "output_type": "stream",
     "text": [
      "xyz\n"
     ]
    }
   ],
   "source": [
    "print(Thing3().letters)"
   ]
  },
  {
   "cell_type": "markdown",
   "id": "18aabcf8",
   "metadata": {},
   "source": [
    "4. Create an Element class with the instance attributes name, symbol, and number. Create a class object with the values 'Hydrogen,' 'H,' and 1."
   ]
  },
  {
   "cell_type": "code",
   "execution_count": 1,
   "id": "ebb3e319",
   "metadata": {},
   "outputs": [],
   "source": [
    "class Element:\n",
    "    def __init__(self, name, symbol, number):\n",
    "        self.name = name\n",
    "        self.symbol = symbol\n",
    "        self.number = number"
   ]
  },
  {
   "cell_type": "code",
   "execution_count": 2,
   "id": "161ff51b",
   "metadata": {},
   "outputs": [],
   "source": [
    "hydrogen = Element('Hydrogen', 'H',1)"
   ]
  },
  {
   "cell_type": "code",
   "execution_count": 5,
   "id": "c17731c4",
   "metadata": {},
   "outputs": [
    {
     "data": {
      "text/plain": [
       "'H'"
      ]
     },
     "execution_count": 5,
     "metadata": {},
     "output_type": "execute_result"
    }
   ],
   "source": [
    "hydrogen.symbol"
   ]
  },
  {
   "cell_type": "markdown",
   "id": "d5676ddc",
   "metadata": {},
   "source": [
    "5. Make a dictionary with these keys and values: 'name': 'Hydrogen', 'symbol': 'H', 'number': 1. Then, create an object called hydrogen from class Element using this dictionary."
   ]
  },
  {
   "cell_type": "code",
   "execution_count": 6,
   "id": "fdda05d1",
   "metadata": {},
   "outputs": [],
   "source": [
    "dict = {'name': 'Hydrogen', 'symbol': 'H', 'number': 1}"
   ]
  },
  {
   "cell_type": "code",
   "execution_count": 7,
   "id": "86a24b22",
   "metadata": {},
   "outputs": [],
   "source": [
    "class ELement:\n",
    "    def __init__(self, name, symbol, number):\n",
    "        self.name = name\n",
    "        self.symbol = symbol\n",
    "        self.number = number"
   ]
  },
  {
   "cell_type": "code",
   "execution_count": 8,
   "id": "1a9c244b",
   "metadata": {},
   "outputs": [],
   "source": [
    "hydrogen = ELement(**dict)"
   ]
  },
  {
   "cell_type": "code",
   "execution_count": 9,
   "id": "46dc7c9f",
   "metadata": {},
   "outputs": [
    {
     "name": "stdout",
     "output_type": "stream",
     "text": [
      "Hydrogen\n",
      "H\n",
      "1\n"
     ]
    }
   ],
   "source": [
    "print(hydrogen.name)\n",
    "print(hydrogen.symbol)\n",
    "print(hydrogen.number)"
   ]
  },
  {
   "cell_type": "markdown",
   "id": "e339b7af",
   "metadata": {},
   "source": [
    "6. For the Element class, define a method called dump() that prints the values of the object’s attributes (name, symbol, and number). Create the hydrogen object from this new definition and use dump() to print its attributes."
   ]
  },
  {
   "cell_type": "code",
   "execution_count": 26,
   "id": "455d5877",
   "metadata": {},
   "outputs": [],
   "source": [
    "class Element:\n",
    "    def __init__(self, name, symbol, number):\n",
    "        self.name = name\n",
    "        self.symbol = symbol\n",
    "        self.number = number\n",
    "    \n",
    "    def dump(self):\n",
    "        print(f\"Name:{self.name}, symbol:{self.symbol}, number:{self.number}\")"
   ]
  },
  {
   "cell_type": "code",
   "execution_count": 27,
   "id": "2fdfabe3",
   "metadata": {},
   "outputs": [],
   "source": [
    "hydrogen = Element('Hydrogen', 'H',1)"
   ]
  },
  {
   "cell_type": "code",
   "execution_count": 28,
   "id": "abb8d32a",
   "metadata": {},
   "outputs": [
    {
     "name": "stdout",
     "output_type": "stream",
     "text": [
      "Name:Hydrogen, symbol:H, number:1\n"
     ]
    }
   ],
   "source": [
    "hydrogen.dump()"
   ]
  },
  {
   "cell_type": "markdown",
   "id": "3129f19c",
   "metadata": {},
   "source": [
    "7. Call print(hydrogen). In the definition of Element, change the name of method dump to __str__, create a new hydrogen object, and call print(hydrogen) again."
   ]
  },
  {
   "cell_type": "code",
   "execution_count": 29,
   "id": "fc388012",
   "metadata": {},
   "outputs": [
    {
     "name": "stdout",
     "output_type": "stream",
     "text": [
      "<__main__.Element object at 0x0000011260D62370>\n"
     ]
    }
   ],
   "source": [
    "print(hydrogen)"
   ]
  },
  {
   "cell_type": "code",
   "execution_count": 34,
   "id": "964e6823",
   "metadata": {},
   "outputs": [],
   "source": [
    "class Element:\n",
    "    def __init__(self, name, symbol, number):\n",
    "        self.name = name\n",
    "        self.symbol = symbol\n",
    "        self.number = number\n",
    "    \n",
    "    def __str__(self):\n",
    "        return f\"Name:{self.name}, symbol:{self.symbol}, number:{self.number}\""
   ]
  },
  {
   "cell_type": "code",
   "execution_count": 35,
   "id": "093c3e63",
   "metadata": {},
   "outputs": [],
   "source": [
    "hydrogen1 = Element('Hydrogen', 'H',1)"
   ]
  },
  {
   "cell_type": "code",
   "execution_count": 36,
   "id": "048824a1",
   "metadata": {},
   "outputs": [
    {
     "name": "stdout",
     "output_type": "stream",
     "text": [
      "Name:Hydrogen, symbol:H, number:1\n"
     ]
    }
   ],
   "source": [
    "print(hydrogen1)"
   ]
  },
  {
   "cell_type": "markdown",
   "id": "c3e71b0a",
   "metadata": {},
   "source": [
    "8. Modify Element to make the attributes name, symbol, and number private. Define a getter property for each to return its value."
   ]
  },
  {
   "cell_type": "code",
   "execution_count": null,
   "id": "253677d1",
   "metadata": {},
   "outputs": [],
   "source": [
    "class Element:\n",
    "    def __init__ (self, name, symbol, number)\n",
    "    self.__name = name\n",
    "    self.__symbol = symbol\n",
    "    self.__number = number\n",
    "    \n",
    "    @property\n",
    "    def name(self):\n",
    "        return self.__name\n",
    "    \n",
    "    @property\n",
    "    def symbol(self):\n",
    "        return self.__symbol\n",
    "    \n",
    "    @property\n",
    "    def number(self):\n",
    "        return self.__number"
   ]
  },
  {
   "cell_type": "code",
   "execution_count": 37,
   "id": "2ef271d6",
   "metadata": {},
   "outputs": [
    {
     "name": "stdout",
     "output_type": "stream",
     "text": [
      "Hydrogen\n",
      "H\n",
      "1\n"
     ]
    }
   ],
   "source": [
    "hydrogen = Element('Hydrogen', 'H', 1)\n",
    "print(hydrogen.name)    \n",
    "print(hydrogen.symbol)  \n",
    "print(hydrogen.number)  "
   ]
  },
  {
   "cell_type": "markdown",
   "id": "ea77b4e7",
   "metadata": {},
   "source": [
    "9. Define three classes: Bear, Rabbit, and Octothorpe. For each, define only one method: eats(). This should return 'berries' (Bear), 'clover' (Rabbit), or 'campers' (Octothorpe). Create one object from each and print what it eats."
   ]
  },
  {
   "cell_type": "code",
   "execution_count": 38,
   "id": "b721fe3d",
   "metadata": {},
   "outputs": [],
   "source": [
    "class Bear():\n",
    "    def eat(self):\n",
    "        return 'berries'\n",
    "    \n",
    "class Rabbit():\n",
    "    def eat(self):\n",
    "        return 'clover'\n",
    "\n",
    "class Octothrope():\n",
    "    def eat(self):\n",
    "        return 'campers'\n",
    "\n",
    "bear = Bear()\n",
    "rabbit = Rabbit()\n",
    "octo = Octothrope()"
   ]
  },
  {
   "cell_type": "code",
   "execution_count": 40,
   "id": "c0a2d940",
   "metadata": {},
   "outputs": [
    {
     "name": "stdout",
     "output_type": "stream",
     "text": [
      "Bear eats berries\n",
      "Rabbit eats clover\n",
      "Octothrope eats campers\n"
     ]
    }
   ],
   "source": [
    "print('Bear eats', bear.eat())\n",
    "print('Rabbit eats', rabbit.eat())\n",
    "print('Octothrope eats', octo.eat())"
   ]
  },
  {
   "cell_type": "markdown",
   "id": "43e9151a",
   "metadata": {},
   "source": [
    "10. Define these classes: Laser, Claw, and SmartPhone. Each has only one method: does(). This returns 'disintegrate' (Laser), 'crush' (Claw), or 'ring' (SmartPhone). Then, define the class Robot that has one instance (object) of each of these. Define a does() method for the Robot that prints what its component objects do."
   ]
  },
  {
   "cell_type": "code",
   "execution_count": 41,
   "id": "b5bef68e",
   "metadata": {},
   "outputs": [],
   "source": [
    "class Laser():\n",
    "    def does(self):\n",
    "        return 'disintegrate'\n",
    "    \n",
    "class Claw():\n",
    "    def does(self):\n",
    "        return 'crush'\n",
    "\n",
    "class SmartPhone():\n",
    "    def does(self):\n",
    "        return 'ring'\n",
    "\n",
    "class Robot():\n",
    "    def __init__(self):\n",
    "        self.laser = Laser()\n",
    "        self.claw = Claw()\n",
    "        self.phone = SmartPhone()\n",
    "    def does(self):\n",
    "        print('Laser:', self.laser.does())\n",
    "        print('Claw:', self.claw.does())\n",
    "        print('SmartPhone:', self.phone.does())"
   ]
  },
  {
   "cell_type": "code",
   "execution_count": 42,
   "id": "ecbd53df",
   "metadata": {},
   "outputs": [],
   "source": [
    "robot = Robot()"
   ]
  },
  {
   "cell_type": "code",
   "execution_count": 43,
   "id": "bb801e5c",
   "metadata": {},
   "outputs": [
    {
     "name": "stdout",
     "output_type": "stream",
     "text": [
      "Laser: disintegrate\n",
      "Claw: crush\n",
      "SmartPhone: ring\n"
     ]
    }
   ],
   "source": [
    "robot.does()"
   ]
  },
  {
   "cell_type": "code",
   "execution_count": null,
   "id": "11467315",
   "metadata": {},
   "outputs": [],
   "source": []
  },
  {
   "cell_type": "markdown",
   "id": "1537f668",
   "metadata": {},
   "source": []
  },
  {
   "cell_type": "markdown",
   "id": "4bfea69f",
   "metadata": {},
   "source": []
  },
  {
   "cell_type": "markdown",
   "id": "732e63a6",
   "metadata": {},
   "source": []
  },
  {
   "cell_type": "markdown",
   "id": "7346d8bc",
   "metadata": {},
   "source": []
  },
  {
   "cell_type": "markdown",
   "id": "a4450c92",
   "metadata": {},
   "source": []
  },
  {
   "cell_type": "markdown",
   "id": "07a32291",
   "metadata": {},
   "source": []
  },
  {
   "cell_type": "markdown",
   "id": "7254cf5c",
   "metadata": {},
   "source": []
  },
  {
   "cell_type": "markdown",
   "id": "367c5599",
   "metadata": {},
   "source": []
  },
  {
   "cell_type": "markdown",
   "id": "464de133",
   "metadata": {},
   "source": []
  },
  {
   "cell_type": "markdown",
   "id": "b791eb7b",
   "metadata": {},
   "source": []
  },
  {
   "cell_type": "markdown",
   "id": "dbc486fa",
   "metadata": {},
   "source": []
  },
  {
   "cell_type": "markdown",
   "id": "e5f5a6df",
   "metadata": {},
   "source": []
  },
  {
   "cell_type": "markdown",
   "id": "a1e63c23",
   "metadata": {},
   "source": []
  },
  {
   "cell_type": "markdown",
   "id": "a337a305",
   "metadata": {},
   "source": []
  },
  {
   "cell_type": "markdown",
   "id": "f6ff5b42",
   "metadata": {},
   "source": []
  },
  {
   "cell_type": "markdown",
   "id": "98c64573",
   "metadata": {},
   "source": []
  },
  {
   "cell_type": "markdown",
   "id": "2f369a6e",
   "metadata": {},
   "source": []
  },
  {
   "cell_type": "markdown",
   "id": "e8308bfd",
   "metadata": {},
   "source": []
  },
  {
   "cell_type": "markdown",
   "id": "02d0b8b7",
   "metadata": {},
   "source": []
  },
  {
   "cell_type": "markdown",
   "id": "327fa0ad",
   "metadata": {},
   "source": []
  },
  {
   "cell_type": "markdown",
   "id": "cd41b8d4",
   "metadata": {},
   "source": []
  },
  {
   "cell_type": "markdown",
   "id": "ea48e16b",
   "metadata": {},
   "source": []
  },
  {
   "cell_type": "markdown",
   "id": "dfd4d581",
   "metadata": {},
   "source": []
  },
  {
   "cell_type": "markdown",
   "id": "be56a8a0",
   "metadata": {},
   "source": []
  },
  {
   "cell_type": "markdown",
   "id": "83894195",
   "metadata": {},
   "source": []
  },
  {
   "cell_type": "markdown",
   "id": "f89968d2",
   "metadata": {},
   "source": []
  }
 ],
 "metadata": {
  "kernelspec": {
   "display_name": "Python 3 (ipykernel)",
   "language": "python",
   "name": "python3"
  },
  "language_info": {
   "codemirror_mode": {
    "name": "ipython",
    "version": 3
   },
   "file_extension": ".py",
   "mimetype": "text/x-python",
   "name": "python",
   "nbconvert_exporter": "python",
   "pygments_lexer": "ipython3",
   "version": "3.9.10"
  }
 },
 "nbformat": 4,
 "nbformat_minor": 5
}
