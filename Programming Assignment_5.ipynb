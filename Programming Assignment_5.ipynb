{
 "cells": [
  {
   "cell_type": "markdown",
   "id": "c3e71b0a",
   "metadata": {},
   "source": [
    "1. Write a Python Program to Find LCM?"
   ]
  },
  {
   "cell_type": "code",
   "execution_count": 3,
   "id": "fc84d612",
   "metadata": {},
   "outputs": [],
   "source": [
    "def find_lcm(num1, num2):\n",
    "    max_num = max(num1, num2)\n",
    "    lcm = max_num\n",
    "    \n",
    "    while True:\n",
    "        if lcm % num1 == 0 and lcm % num2 == 0:\n",
    "            return lcm\n",
    "        lcm += max_num\n",
    "   "
   ]
  },
  {
   "cell_type": "code",
   "execution_count": 5,
   "id": "8aff907b",
   "metadata": {},
   "outputs": [
    {
     "name": "stdout",
     "output_type": "stream",
     "text": [
      "Enter the first number :12\n",
      "Enter the second number :18\n",
      "The LCM of 12 and 18 is :36\n"
     ]
    }
   ],
   "source": [
    "num1 = int(input(\"Enter the first number :\"))\n",
    "num2 = int(input(\"Enter the second number :\"))\n",
    "\n",
    "lcm_result = find_lcm(num1, num2)\n",
    "print(f\"The LCM of {num1} and {num2} is :{lcm_result}\")"
   ]
  },
  {
   "cell_type": "markdown",
   "id": "6a00e4fd",
   "metadata": {},
   "source": [
    "2. Write a Python Program to Find HCF?"
   ]
  },
  {
   "cell_type": "code",
   "execution_count": 6,
   "id": "83cf7d14",
   "metadata": {},
   "outputs": [],
   "source": [
    "def find_hcf(num1, num2):\n",
    "    product = int(num1 * num2)\n",
    "    lcm = find_lcm(num1, num2)\n",
    "    hcf = product // lcm\n",
    "    return hcf"
   ]
  },
  {
   "cell_type": "code",
   "execution_count": 7,
   "id": "ceb8218f",
   "metadata": {},
   "outputs": [
    {
     "name": "stdout",
     "output_type": "stream",
     "text": [
      "Enter the first number :6\n",
      "Enter the second number :8\n",
      "The LCM of 6 and 8 is :2\n"
     ]
    }
   ],
   "source": [
    "num1 = int(input(\"Enter the first number :\"))\n",
    "num2 = int(input(\"Enter the second number :\"))\n",
    "\n",
    "hcf_result = find_hcf(num1, num2)\n",
    "print(f\"The LCM of {num1} and {num2} is :{hcf_result}\")"
   ]
  },
  {
   "cell_type": "markdown",
   "id": "34b9599f",
   "metadata": {},
   "source": [
    "# other version"
   ]
  },
  {
   "cell_type": "code",
   "execution_count": 28,
   "id": "4c219f22",
   "metadata": {},
   "outputs": [],
   "source": [
    "def find_hcf_2(num1, num2):\n",
    "    while num2 != 0:\n",
    "        num1, num2 = num2, num1 % num2\n",
    "    return num1"
   ]
  },
  {
   "cell_type": "code",
   "execution_count": 29,
   "id": "9034177b",
   "metadata": {},
   "outputs": [
    {
     "name": "stdout",
     "output_type": "stream",
     "text": [
      "Enter the first number :6\n",
      "Enter the second number :8\n",
      "The LCM of 6 and 8 is :2\n"
     ]
    }
   ],
   "source": [
    "num1 = int(input(\"Enter the first number :\"))\n",
    "num2 = int(input(\"Enter the second number :\"))\n",
    "\n",
    "hcf_result2 = find_hcf_2(num1, num2)\n",
    "print(f\"The LCM of {num1} and {num2} is :{hcf_result2}\")"
   ]
  },
  {
   "cell_type": "code",
   "execution_count": null,
   "id": "9e490388",
   "metadata": {},
   "outputs": [],
   "source": []
  },
  {
   "cell_type": "markdown",
   "id": "18aabcf8",
   "metadata": {},
   "source": [
    "3. Write a Python Program to Convert Decimal to Binary, Octal and Hexadecimal?"
   ]
  },
  {
   "cell_type": "code",
   "execution_count": 1,
   "id": "28919b03",
   "metadata": {},
   "outputs": [],
   "source": [
    "def decimal_to_binary(n):\n",
    "    b = \"\"\n",
    "    while n > 0:\n",
    "        b = str(n % 2) + b\n",
    "        n = n // 2\n",
    "    return b\n",
    "\n",
    "def decimal_to_octal(n):\n",
    "    o = \"\"\n",
    "    while n > 0:\n",
    "        o = str(n % 8) + o\n",
    "        n = n // 8\n",
    "    return o\n",
    "\n",
    "def decimal_to_hexa(n):\n",
    "    h = \"\"\n",
    "    hexadigits = \"0123456789ABCDEF\"\n",
    "    while n > 0:\n",
    "        h = hexadigits[n % 16] + h\n",
    "        n = n // 16\n",
    "    return h"
   ]
  },
  {
   "cell_type": "code",
   "execution_count": 6,
   "id": "6315ef94",
   "metadata": {},
   "outputs": [
    {
     "name": "stdout",
     "output_type": "stream",
     "text": [
      "Enter a decimal number: 16\n",
      "Enter your choice:\n",
      "1. Binary \n",
      "2. Octal \n",
      "3. Hexadecimal\n",
      "3\n",
      "Hexadecimal of decimal 16 is :10\n"
     ]
    }
   ],
   "source": [
    "decimal = int(input(\"Enter a decimal number: \"))\n",
    "option = int(input(\"Enter your choice:\\n1. Binary \\n2. Octal \\n3. Hexadecimal\\n\"))\n",
    "\n",
    "if option == 1:\n",
    "    binary = decimal_to_binary(decimal)\n",
    "    print(f\"Binary of decimal {decimal} is :{binary}\")\n",
    "elif option == 2:\n",
    "    octal = decimal_to_octal(decimal)\n",
    "    print(f\"Octal of decimal {decimal} is :{octal}\")\n",
    "elif option == 3:\n",
    "    hexa = decimal_to_hexa(decimal)\n",
    "    print(f\"Hexadecimal of decimal {decimal} is :{hexa}\")\n",
    "else:\n",
    "    print(\"Invilid choice, Enter a Valid choice\")\n"
   ]
  },
  {
   "cell_type": "markdown",
   "id": "e339b7af",
   "metadata": {},
   "source": [
    "4. Write a Python Program To Find ASCII value of a character?"
   ]
  },
  {
   "cell_type": "code",
   "execution_count": 10,
   "id": "304eafb8",
   "metadata": {},
   "outputs": [
    {
     "name": "stdout",
     "output_type": "stream",
     "text": [
      "Enter a character: F\n",
      "The ASCII value of 'F' is: 70\n"
     ]
    }
   ],
   "source": [
    "character = input(\"Enter a character: \")\n",
    "\n",
    "ascii_value = ord(character)\n",
    "\n",
    "print(f\"The ASCII value of '{character}' is: {ascii_value}\")\n"
   ]
  },
  {
   "cell_type": "code",
   "execution_count": null,
   "id": "a884e451",
   "metadata": {},
   "outputs": [],
   "source": []
  },
  {
   "cell_type": "markdown",
   "id": "ea77b4e7",
   "metadata": {},
   "source": [
    "5. Write a Python Program to Make a Simple Calculator with 4 basic mathematical operations?"
   ]
  },
  {
   "cell_type": "code",
   "execution_count": 11,
   "id": "5d498403",
   "metadata": {},
   "outputs": [],
   "source": [
    "def add(num1, num2):\n",
    "    return num1 + num2\n",
    "\n",
    "def sub(num1, num2):\n",
    "    return num1 - num2\n",
    "\n",
    "def mul(num1, num2):\n",
    "    return num1 * num2\n",
    "\n",
    "def div(num1, num2):\n",
    "    if num2 != 0:\n",
    "        return num1 / num2\n",
    "    else:\n",
    "        return \"Error: Division by zero is not possible\""
   ]
  },
  {
   "cell_type": "code",
   "execution_count": 15,
   "id": "1640b014",
   "metadata": {},
   "outputs": [
    {
     "name": "stdout",
     "output_type": "stream",
     "text": [
      "Enter the first number :50\n",
      "Enter the second number :20\n",
      "Choose the Operation:\n",
      "1. Addition \n",
      "2. Subtraction \n",
      "3. Multiplication \n",
      "4. Division \n",
      "2\n",
      "********  50 - 20 = 30  ********\n"
     ]
    }
   ],
   "source": [
    "num1 = int(input(\"Enter the first number :\"))\n",
    "num2 = int(input(\"Enter the second number :\"))\n",
    "option = int(input(\"Choose the Operation:\\n1. Addition \\n2. Subtraction \\n3. Multiplication \\n4. Division \\n\"))\n",
    "\n",
    "if option == 1:\n",
    "    result = add(num1, num2)\n",
    "    operation = \"+\"\n",
    "elif option == 2:\n",
    "    result = sub(num1, num2)\n",
    "    operation = \"-\"\n",
    "elif option == 3:\n",
    "    result = mul(num1, num2)\n",
    "    operation = \"x\"\n",
    "elif option == 4:\n",
    "    result = div(num1, num2)\n",
    "    operation = \"/\"\n",
    "else:\n",
    "    print(\"Invilid choice, Enter a Valid choice\")\n",
    "    exit()\n",
    "    \n",
    "print(f\"********  {num1} {operation} {num2} = {result}  ********\")"
   ]
  },
  {
   "cell_type": "markdown",
   "id": "905c4b60",
   "metadata": {},
   "source": []
  },
  {
   "cell_type": "code",
   "execution_count": null,
   "id": "2531a58d",
   "metadata": {},
   "outputs": [],
   "source": []
  },
  {
   "cell_type": "code",
   "execution_count": null,
   "id": "b8a92c81",
   "metadata": {},
   "outputs": [],
   "source": []
  },
  {
   "cell_type": "markdown",
   "id": "4189c066",
   "metadata": {},
   "source": []
  },
  {
   "cell_type": "code",
   "execution_count": null,
   "id": "e3edd366",
   "metadata": {},
   "outputs": [],
   "source": []
  },
  {
   "cell_type": "code",
   "execution_count": null,
   "id": "e38990db",
   "metadata": {},
   "outputs": [],
   "source": []
  },
  {
   "cell_type": "markdown",
   "id": "30ab5a54",
   "metadata": {},
   "source": []
  },
  {
   "cell_type": "code",
   "execution_count": null,
   "id": "7bd47d9b",
   "metadata": {},
   "outputs": [],
   "source": []
  },
  {
   "cell_type": "code",
   "execution_count": null,
   "id": "a72cc384",
   "metadata": {},
   "outputs": [],
   "source": []
  },
  {
   "cell_type": "markdown",
   "id": "4bfea69f",
   "metadata": {},
   "source": []
  },
  {
   "cell_type": "code",
   "execution_count": null,
   "id": "bccd7235",
   "metadata": {},
   "outputs": [],
   "source": []
  },
  {
   "cell_type": "code",
   "execution_count": null,
   "id": "aca20c8a",
   "metadata": {},
   "outputs": [],
   "source": []
  },
  {
   "cell_type": "markdown",
   "id": "7346d8bc",
   "metadata": {},
   "source": []
  },
  {
   "cell_type": "code",
   "execution_count": null,
   "id": "5b0e9890",
   "metadata": {},
   "outputs": [],
   "source": []
  },
  {
   "cell_type": "code",
   "execution_count": null,
   "id": "dbc5c30a",
   "metadata": {},
   "outputs": [],
   "source": []
  },
  {
   "cell_type": "markdown",
   "id": "367c5599",
   "metadata": {},
   "source": []
  },
  {
   "cell_type": "code",
   "execution_count": null,
   "id": "10a3a7f0",
   "metadata": {},
   "outputs": [],
   "source": []
  },
  {
   "cell_type": "code",
   "execution_count": null,
   "id": "73809834",
   "metadata": {},
   "outputs": [],
   "source": []
  },
  {
   "cell_type": "markdown",
   "id": "dbc486fa",
   "metadata": {},
   "source": []
  },
  {
   "cell_type": "code",
   "execution_count": null,
   "id": "c45d792f",
   "metadata": {},
   "outputs": [],
   "source": []
  },
  {
   "cell_type": "code",
   "execution_count": null,
   "id": "b87393b2",
   "metadata": {},
   "outputs": [],
   "source": []
  },
  {
   "cell_type": "markdown",
   "id": "a337a305",
   "metadata": {},
   "source": []
  },
  {
   "cell_type": "code",
   "execution_count": null,
   "id": "8a6595bf",
   "metadata": {},
   "outputs": [],
   "source": []
  },
  {
   "cell_type": "code",
   "execution_count": null,
   "id": "b15d6b12",
   "metadata": {},
   "outputs": [],
   "source": []
  },
  {
   "cell_type": "markdown",
   "id": "2f369a6e",
   "metadata": {},
   "source": []
  },
  {
   "cell_type": "code",
   "execution_count": null,
   "id": "f5fe365a",
   "metadata": {},
   "outputs": [],
   "source": []
  },
  {
   "cell_type": "code",
   "execution_count": null,
   "id": "7f3f3982",
   "metadata": {},
   "outputs": [],
   "source": []
  },
  {
   "cell_type": "markdown",
   "id": "327fa0ad",
   "metadata": {},
   "source": []
  },
  {
   "cell_type": "code",
   "execution_count": null,
   "id": "a67a7feb",
   "metadata": {},
   "outputs": [],
   "source": []
  },
  {
   "cell_type": "code",
   "execution_count": null,
   "id": "773bbb9d",
   "metadata": {},
   "outputs": [],
   "source": []
  },
  {
   "cell_type": "markdown",
   "id": "dfd4d581",
   "metadata": {},
   "source": []
  },
  {
   "cell_type": "code",
   "execution_count": null,
   "id": "6ebf0a92",
   "metadata": {},
   "outputs": [],
   "source": []
  },
  {
   "cell_type": "code",
   "execution_count": null,
   "id": "e9cf506a",
   "metadata": {},
   "outputs": [],
   "source": []
  },
  {
   "cell_type": "code",
   "execution_count": null,
   "id": "5d515ca3",
   "metadata": {},
   "outputs": [],
   "source": []
  }
 ],
 "metadata": {
  "kernelspec": {
   "display_name": "Python 3 (ipykernel)",
   "language": "python",
   "name": "python3"
  },
  "language_info": {
   "codemirror_mode": {
    "name": "ipython",
    "version": 3
   },
   "file_extension": ".py",
   "mimetype": "text/x-python",
   "name": "python",
   "nbconvert_exporter": "python",
   "pygments_lexer": "ipython3",
   "version": "3.9.10"
  }
 },
 "nbformat": 4,
 "nbformat_minor": 5
}
