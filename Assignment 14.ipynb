{
 "cells": [
  {
   "cell_type": "markdown",
   "id": "c3e71b0a",
   "metadata": {},
   "source": [
    "1. What does RGBA stand for?"
   ]
  },
  {
   "cell_type": "markdown",
   "id": "962e63ab",
   "metadata": {},
   "source": [
    "    In Python, RGBA stands for Red, Green, Blue, Alpha. It is a color model that represents colors using four values: the intensity of red, green, and blue, and the alpha channel which represents the transparency of the color. Each value is represented as an integer between 0 and 255, with 0 indicating no intensity and 255 indicating full intensity. For example, the color black can be represented as (0, 0, 0, 255)"
   ]
  },
  {
   "cell_type": "markdown",
   "id": "6a00e4fd",
   "metadata": {},
   "source": [
    "2. From the Pillow module, how do you get the RGBA value of any images?"
   ]
  },
  {
   "cell_type": "markdown",
   "id": "5104ab6d",
   "metadata": {},
   "source": [
    "    To get the RGBA value of an image using the Pillow module in Python, you can use the getpixel() method of the Image object."
   ]
  },
  {
   "cell_type": "code",
   "execution_count": 6,
   "id": "30af29eb",
   "metadata": {},
   "outputs": [
    {
     "name": "stdout",
     "output_type": "stream",
     "text": [
      "(97, 119, 221)\n"
     ]
    }
   ],
   "source": [
    "from PIL import Image\n",
    "\n",
    "# Open the image\n",
    "image = Image.open('example.png')\n",
    "\n",
    "# Get the RGBA value of the pixel at coordinate (x=10, y=20)\n",
    "rgba = image.getpixel((30, 20))\n",
    "\n",
    "# Print the RGBA value\n",
    "print(rgba)"
   ]
  },
  {
   "cell_type": "markdown",
   "id": "18aabcf8",
   "metadata": {},
   "source": [
    "3. What is a box tuple, and how does it work?"
   ]
  },
  {
   "cell_type": "markdown",
   "id": "d5676ddc",
   "metadata": {},
   "source": [
    "    In the context of image processing and graphics programming, a \"box tuple\" typically refers to a tuple of four integer values that represent the coordinates of a rectangular region within an image. The tuple is typically in the format (left, top, right, bottom)"
   ]
  },
  {
   "cell_type": "code",
   "execution_count": 15,
   "id": "0dbe9b61",
   "metadata": {},
   "outputs": [],
   "source": [
    "from PIL import Image\n",
    "\n",
    "# Open an image\n",
    "image = Image.open('example.png')\n",
    "\n",
    "# Define a box tuple representing a rectangular region\n",
    "box = (20, 100, 500, 400)\n",
    "\n",
    "# Crop the image to the specified box tuple\n",
    "cropped_image = image.crop(box)\n",
    "\n",
    "# Display the cropped image\n",
    "cropped_image.show()"
   ]
  },
  {
   "cell_type": "markdown",
   "id": "e339b7af",
   "metadata": {},
   "source": [
    "4. Use your image and load in notebook then, How can you find out the width and height of an Image object?"
   ]
  },
  {
   "cell_type": "markdown",
   "id": "3129f19c",
   "metadata": {},
   "source": [
    "    We can load the image into a Python Notebook using the Image class from the Pillow module and use the size attribute to get the dimensions of the image as a tuple of (width, height) in pixels"
   ]
  },
  {
   "cell_type": "code",
   "execution_count": 13,
   "id": "b938db25",
   "metadata": {},
   "outputs": [
    {
     "name": "stdout",
     "output_type": "stream",
     "text": [
      "The image is 600 pixels wide and 770 pixels tall.\n"
     ]
    }
   ],
   "source": [
    "from PIL import Image\n",
    "\n",
    "# Open the image\n",
    "image = Image.open(\"example.png\")\n",
    "\n",
    "# Get the size of the image\n",
    "width, height = image.size\n",
    "\n",
    "# Print the dimensions\n",
    "print(f\"The image is {width} pixels wide and {height} pixels tall.\")"
   ]
  },
  {
   "cell_type": "markdown",
   "id": "ea77b4e7",
   "metadata": {},
   "source": [
    "5. What method would you call to get Image object for a 100×100 image, excluding the lower-left quarter of it?"
   ]
  },
  {
   "cell_type": "markdown",
   "id": "43e9151a",
   "metadata": {},
   "source": [
    "    The crop() method is called on the image object with the box tuple as the argument to crop the image to the specified region"
   ]
  },
  {
   "cell_type": "code",
   "execution_count": 17,
   "id": "8cd6c6a7",
   "metadata": {},
   "outputs": [],
   "source": [
    "from PIL import Image\n",
    "\n",
    "# Open the image\n",
    "image = Image.open(\"example.png\")\n",
    "# Get the size of the image\n",
    "width, height = image.size\n",
    "\n",
    "# Define the box tuple for the cropped image\n",
    "box = (0, 0, width // 2, height // 2)\n",
    "\n",
    "# Crop the image to the specified box\n",
    "cropped_image = image.crop(box)\n",
    "cropped_image.show()"
   ]
  },
  {
   "cell_type": "markdown",
   "id": "905c4b60",
   "metadata": {},
   "source": [
    "6. After making changes to an Image object, how could you save it as an image file?"
   ]
  },
  {
   "cell_type": "markdown",
   "id": "1bfbb622",
   "metadata": {},
   "source": [
    "    To save an Image object as an image file after making changes to it, we can use the 'save()' method of the Image class from the Pillow module."
   ]
  },
  {
   "cell_type": "code",
   "execution_count": 18,
   "id": "4a6e70d3",
   "metadata": {},
   "outputs": [],
   "source": [
    "# To save changes in the image and make new image\n",
    "cropped_image.save(\"modified.png\")"
   ]
  },
  {
   "cell_type": "markdown",
   "id": "4189c066",
   "metadata": {},
   "source": [
    "7. What module contains Pillow’s shape-drawing code?"
   ]
  },
  {
   "cell_type": "markdown",
   "id": "c545479a",
   "metadata": {},
   "source": [
    "    Pillow's shape-drawing code can be found in the ImageDraw module of the Pillow library. The ImageDraw module provides a number of methods for drawing simple 2D shapes like lines, rectangles, ellipses, polygons, and text on an Image object. "
   ]
  },
  {
   "cell_type": "markdown",
   "id": "30ab5a54",
   "metadata": {},
   "source": [
    "8. Image objects do not have drawing methods. What kind of object does? How do you get this kind of object?"
   ]
  },
  {
   "cell_type": "markdown",
   "id": "1ae24417",
   "metadata": {},
   "source": [
    "It is correct that 'Image' objects in Pillow do not have built-in drawing methods. Instead, drawing is performed using an 'ImageDraw' object. To get an 'ImageDraw' object for a given Image object, we can call the 'ImageDraw.Draw()' method with the 'Image' object as the argument. "
   ]
  },
  {
   "cell_type": "code",
   "execution_count": 19,
   "id": "32f638d5",
   "metadata": {},
   "outputs": [],
   "source": [
    "from PIL import Image, ImageDraw\n",
    "\n",
    "# Open the image\n",
    "image = Image.open(\"example.png\")\n",
    "\n",
    "# Get an ImageDraw object for the image\n",
    "draw = ImageDraw.Draw(image)"
   ]
  },
  {
   "cell_type": "code",
   "execution_count": 28,
   "id": "da884315",
   "metadata": {},
   "outputs": [],
   "source": [
    "draw.polygon((100, 100, 300, 300), fill=\"red\")"
   ]
  },
  {
   "cell_type": "code",
   "execution_count": 29,
   "id": "8dae6ce3",
   "metadata": {},
   "outputs": [],
   "source": [
    "image.show()"
   ]
  },
  {
   "cell_type": "markdown",
   "id": "7346d8bc",
   "metadata": {},
   "source": []
  },
  {
   "cell_type": "markdown",
   "id": "a4450c92",
   "metadata": {},
   "source": []
  },
  {
   "cell_type": "markdown",
   "id": "07a32291",
   "metadata": {},
   "source": []
  },
  {
   "cell_type": "markdown",
   "id": "7254cf5c",
   "metadata": {},
   "source": []
  },
  {
   "cell_type": "markdown",
   "id": "367c5599",
   "metadata": {},
   "source": []
  },
  {
   "cell_type": "markdown",
   "id": "464de133",
   "metadata": {},
   "source": []
  },
  {
   "cell_type": "markdown",
   "id": "b791eb7b",
   "metadata": {},
   "source": []
  },
  {
   "cell_type": "markdown",
   "id": "dbc486fa",
   "metadata": {},
   "source": []
  },
  {
   "cell_type": "markdown",
   "id": "e5f5a6df",
   "metadata": {},
   "source": []
  },
  {
   "cell_type": "markdown",
   "id": "a1e63c23",
   "metadata": {},
   "source": []
  },
  {
   "cell_type": "markdown",
   "id": "a337a305",
   "metadata": {},
   "source": []
  },
  {
   "cell_type": "markdown",
   "id": "f6ff5b42",
   "metadata": {},
   "source": []
  },
  {
   "cell_type": "markdown",
   "id": "98c64573",
   "metadata": {},
   "source": []
  },
  {
   "cell_type": "markdown",
   "id": "2f369a6e",
   "metadata": {},
   "source": []
  },
  {
   "cell_type": "markdown",
   "id": "e8308bfd",
   "metadata": {},
   "source": []
  },
  {
   "cell_type": "markdown",
   "id": "02d0b8b7",
   "metadata": {},
   "source": []
  },
  {
   "cell_type": "markdown",
   "id": "327fa0ad",
   "metadata": {},
   "source": []
  },
  {
   "cell_type": "markdown",
   "id": "cd41b8d4",
   "metadata": {},
   "source": []
  },
  {
   "cell_type": "markdown",
   "id": "ea48e16b",
   "metadata": {},
   "source": []
  },
  {
   "cell_type": "markdown",
   "id": "dfd4d581",
   "metadata": {},
   "source": []
  },
  {
   "cell_type": "markdown",
   "id": "be56a8a0",
   "metadata": {},
   "source": []
  },
  {
   "cell_type": "markdown",
   "id": "83894195",
   "metadata": {},
   "source": []
  },
  {
   "cell_type": "markdown",
   "id": "f89968d2",
   "metadata": {},
   "source": []
  }
 ],
 "metadata": {
  "kernelspec": {
   "display_name": "Python 3 (ipykernel)",
   "language": "python",
   "name": "python3"
  },
  "language_info": {
   "codemirror_mode": {
    "name": "ipython",
    "version": 3
   },
   "file_extension": ".py",
   "mimetype": "text/x-python",
   "name": "python",
   "nbconvert_exporter": "python",
   "pygments_lexer": "ipython3",
   "version": "3.9.10"
  }
 },
 "nbformat": 4,
 "nbformat_minor": 5
}
