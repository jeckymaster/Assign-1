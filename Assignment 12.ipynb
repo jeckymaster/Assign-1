{
 "cells": [
  {
   "cell_type": "markdown",
   "id": "b393aa0d",
   "metadata": {},
   "source": [
    "1. In what modes should the PdfFileReader() and PdfFileWriter() File objects will be opened?"
   ]
  },
  {
   "cell_type": "markdown",
   "id": "b9ab6616",
   "metadata": {},
   "source": [
    "When using the PyPDF2 library in Python, the PdfFileReader() and PdfFileWriter() objects should be opened in binary mode, by passing the string 'rb' to the open() function."
   ]
  },
  {
   "cell_type": "markdown",
   "id": "a5733e19",
   "metadata": {},
   "source": [
    "2. From a PdfFileReader object, how do you get a Page object for page 5?"
   ]
  },
  {
   "cell_type": "markdown",
   "id": "71c6a582",
   "metadata": {},
   "source": [
    "To get a Page object for page 5 of a PDF file using PdfFileReader in PyPDF2, we can use the getPage() method and pass the index of the page we want to retrieve (remember that page indexes in PyPDF2 start at 0, not 1)."
   ]
  },
  {
   "cell_type": "code",
   "execution_count": null,
   "id": "60590ab9",
   "metadata": {},
   "outputs": [],
   "source": [
    "import PyPDF2\n",
    "\n",
    "with open('example.pdf', 'rb') as pdf_file:\n",
    "    pdf_reader = PyPDF2.PdfFileReader(pdf_file)\n",
    "    page_five = pdf_reader.getPage(4)"
   ]
  },
  {
   "cell_type": "markdown",
   "id": "b2b60961",
   "metadata": {},
   "source": [
    "3. What PdfFileReader variable stores the number of pages in the PDF document?"
   ]
  },
  {
   "cell_type": "markdown",
   "id": "8ec96d48",
   "metadata": {},
   "source": [
    "In PyPDF2, the PdfFileReader object has a numPages attribute that stores the total number of pages in the PDF document. You can access this attribute after creating a PdfFileReader object to determine the number of pages in the document."
   ]
  },
  {
   "cell_type": "code",
   "execution_count": null,
   "id": "f0e930d3",
   "metadata": {},
   "outputs": [],
   "source": [
    "import PyPDF2\n",
    "\n",
    "with open('example.pdf', 'rb') as pdf_file:\n",
    "    pdf_reader = PyPDF2.PdfFileReader(pdf_file)\n",
    "    num_pages = pdf_reader.numPages\n",
    "    print(f'The document has {num_pages} pages.')"
   ]
  },
  {
   "cell_type": "markdown",
   "id": "d05c1604",
   "metadata": {},
   "source": [
    "4. If a PdfFileReader object’s PDF is encrypted with the password swordfish, what must you do before you can obtain Page objects from it?"
   ]
  },
  {
   "cell_type": "markdown",
   "id": "fc446a23",
   "metadata": {},
   "source": [
    "If a PDF file opened with PdfFileReader is encrypted with a password, you must first decrypt the PDF file using the decrypt() method of the PdfFileReader object with the correct password. Only then you can obtain Page objects from it."
   ]
  },
  {
   "cell_type": "code",
   "execution_count": null,
   "id": "7fed6c81",
   "metadata": {},
   "outputs": [],
   "source": [
    "import PyPDF2\n",
    "\n",
    "with open('example.pdf', 'rb') as pdf_file:\n",
    "    pdf_reader = PyPDF2.PdfFileReader(pdf_file)\n",
    "    if pdf_reader.isEncrypted:\n",
    "        pdf_reader.decrypt('swordfish')\n",
    "    first_page = pdf_reader.getPage(0)"
   ]
  },
  {
   "cell_type": "markdown",
   "id": "43b15abe",
   "metadata": {},
   "source": [
    "5. What methods do you use to rotate a page?"
   ]
  },
  {
   "cell_type": "markdown",
   "id": "92080b91",
   "metadata": {},
   "source": [
    "In PyPDF2, you can use the rotateClockwise() and rotateCounterClockwise() methods of the Page object to rotate a page in a PDF document. These methods allow you to rotate the page 90 degrees clockwise or counterclockwise, respectively."
   ]
  },
  {
   "cell_type": "code",
   "execution_count": null,
   "id": "b91cbce6",
   "metadata": {},
   "outputs": [],
   "source": [
    "import PyPDF2\n",
    "\n",
    "with open('example.pdf', 'rb') as pdf_file:\n",
    "    pdf_reader = PyPDF2.PdfFileReader(pdf_file)\n",
    "    page = pdf_reader.getPage(0)\n",
    "    page.rotateClockwise(90)"
   ]
  },
  {
   "cell_type": "markdown",
   "id": "dc89171e",
   "metadata": {},
   "source": [
    "6. What is the difference between a Run object and a Paragraph object?"
   ]
  },
  {
   "cell_type": "markdown",
   "id": "64f8d8e8",
   "metadata": {},
   "source": [
    "    A Paragraph object is a block of text that has a common set of formatting properties, such as alignment, indentation, and line spacing. \n",
    "    A Run object, on the other hand, is a sequence of characters within a paragraph that share the same formatting properties, such as font size, color, and style."
   ]
  },
  {
   "cell_type": "code",
   "execution_count": 11,
   "id": "1eedeb72",
   "metadata": {},
   "outputs": [],
   "source": [
    "import docx\n",
    "\n",
    "# Create a new Word document and add a paragraph\n",
    "doc = docx.Document()\n",
    "doc.add_paragraph('This is a paragraph.')\n",
    "\n",
    "# Add some text to the paragraph with different formatting\n",
    "paragraph = doc.paragraphs[0]\n",
    "paragraph.add_run(' This is a run of text.')\n",
    "paragraph.add_run(' This is another run of text.')\n",
    "\n",
    "doc.save('example.docx')"
   ]
  },
  {
   "cell_type": "markdown",
   "id": "05477b51",
   "metadata": {},
   "source": [
    "7. How do you obtain a list of Paragraph objects for a Document object that’s stored in a variable named doc?"
   ]
  },
  {
   "cell_type": "code",
   "execution_count": 13,
   "id": "c6ccd6c4",
   "metadata": {},
   "outputs": [
    {
     "name": "stdout",
     "output_type": "stream",
     "text": [
      "This is a paragraph. 1\n",
      "\n",
      "This is a run of text. 2\n",
      "\n",
      "\n",
      "This is another run of text. 3\n"
     ]
    }
   ],
   "source": [
    "import docx\n",
    "\n",
    "doc = docx.Document('example.docx')\n",
    "paragraphs = doc.paragraphs\n",
    "\n",
    "for paragraph in paragraphs:\n",
    "    print(paragraph.text)"
   ]
  },
  {
   "cell_type": "markdown",
   "id": "8304fed4",
   "metadata": {},
   "source": [
    "8. What type of object has bold, underline, italic, strike, and outline variables?"
   ]
  },
  {
   "cell_type": "markdown",
   "id": "d76e2a09",
   "metadata": {},
   "source": [
    "In the python-docx library, the Run object has the bold, underline, italic, strike, and outline variables, which represent various text formatting properties."
   ]
  },
  {
   "cell_type": "code",
   "execution_count": 16,
   "id": "9c2a159f",
   "metadata": {},
   "outputs": [],
   "source": [
    "import docx\n",
    "\n",
    "doc = docx.Document()\n",
    "paragraph = doc.add_paragraph()\n",
    "\n",
    "run = paragraph.add_run('This text is bold, underlined, italicized, and struck through.')\n",
    "run.bold = True\n",
    "run.underline = True\n",
    "run.italic = True\n",
    "run.strike = True\n",
    "\n",
    "doc.save('example2.docx')"
   ]
  },
  {
   "cell_type": "markdown",
   "id": "fb056b7e",
   "metadata": {},
   "source": [
    "9. What is the difference between False, True, and None for the bold variable?"
   ]
  },
  {
   "cell_type": "markdown",
   "id": "db0515a9",
   "metadata": {},
   "source": [
    "- If bold is True, the text in the Run object will be displayed in bold font.\n",
    "- If bold is False, the text in the Run object will not be displayed in bold font, even if it was previously formatted as bold.\n",
    "- If bold is None, the text in the Run object will inherit the bold formatting from the style applied to the paragraph it is in."
   ]
  },
  {
   "cell_type": "code",
   "execution_count": 17,
   "id": "6281cb97",
   "metadata": {},
   "outputs": [],
   "source": [
    "import docx\n",
    "\n",
    "doc = docx.Document()\n",
    "paragraph = doc.add_paragraph()\n",
    "\n",
    "run1 = paragraph.add_run('This text is bold.')\n",
    "run1.bold = True\n",
    "\n",
    "run2 = paragraph.add_run('This text is not bold, even though the previous text was bold.')\n",
    "run2.bold = False\n",
    "\n",
    "run3 = paragraph.add_run('This text inherits the bold formatting from the paragraph style.')\n",
    "run3.bold = None\n",
    "\n",
    "doc.save('example3.docx')\n"
   ]
  },
  {
   "cell_type": "markdown",
   "id": "49920d51",
   "metadata": {},
   "source": [
    "10. How do you create a Document object for a new Word document?"
   ]
  },
  {
   "cell_type": "markdown",
   "id": "b6a3d2b4",
   "metadata": {},
   "source": [
    "To create a Document object for a new Word document using the python-docx library, we can simply call the \"Document()\" function without any arguments. This will create a new, empty Word document object that we can then modify and save to a file."
   ]
  },
  {
   "cell_type": "markdown",
   "id": "0d4691fc",
   "metadata": {},
   "source": [
    "11. How do you add a paragraph with the text 'Hello, there!' to a Document object stored in a variable named doc?"
   ]
  },
  {
   "cell_type": "markdown",
   "id": "3cf706f6",
   "metadata": {},
   "source": [
    "we can use \"add_paragraph()\" ,method of the \"doc\" object and pass the text as an argument to the method."
   ]
  },
  {
   "cell_type": "markdown",
   "id": "15cfbdf0",
   "metadata": {},
   "source": [
    "12. What integers represent the levels of headings available in Word documents?"
   ]
  },
  {
   "cell_type": "markdown",
   "id": "7287bd24",
   "metadata": {},
   "source": [
    "n the python-docx library, there are six integer values that represent the levels of headings available in Word documents. These integer values range from 1 to 6 and correspond to the six heading levels available in Word.\n",
    "\n",
    "The integer values and their corresponding heading levels are:\n",
    "\n",
    "0: No heading style (default style)\n",
    "1: Heading 1\n",
    "2: Heading 2\n",
    "3: Heading 3\n",
    "4: Heading 4\n",
    "5: Heading 5\n",
    "6: Heading 6"
   ]
  },
  {
   "cell_type": "code",
   "execution_count": null,
   "id": "5f9b9e1f",
   "metadata": {},
   "outputs": [],
   "source": [
    "doc.add_heading('Main Heading', level=1)"
   ]
  }
 ],
 "metadata": {
  "kernelspec": {
   "display_name": "Python 3 (ipykernel)",
   "language": "python",
   "name": "python3"
  },
  "language_info": {
   "codemirror_mode": {
    "name": "ipython",
    "version": 3
   },
   "file_extension": ".py",
   "mimetype": "text/x-python",
   "name": "python",
   "nbconvert_exporter": "python",
   "pygments_lexer": "ipython3",
   "version": "3.9.12"
  }
 },
 "nbformat": 4,
 "nbformat_minor": 5
}
