{
 "cells": [
  {
   "cell_type": "markdown",
   "id": "c3e71b0a",
   "metadata": {},
   "source": [
    "1. Write a Python Program to find sum of array?"
   ]
  },
  {
   "cell_type": "code",
   "execution_count": 1,
   "id": "fc84d612",
   "metadata": {},
   "outputs": [],
   "source": [
    "def sum_of_array(arr):\n",
    "    total = 0\n",
    "    for i in arr:\n",
    "        total += i\n",
    "    return total"
   ]
  },
  {
   "cell_type": "code",
   "execution_count": 7,
   "id": "665ccaf4",
   "metadata": {},
   "outputs": [
    {
     "name": "stdout",
     "output_type": "stream",
     "text": [
      "[1, 4, 9, 16, 25, 36, 49, 64, 81]\n"
     ]
    }
   ],
   "source": [
    "arr = [x**2 for x in range(1,10)]\n",
    "print(arr)"
   ]
  },
  {
   "cell_type": "code",
   "execution_count": 8,
   "id": "1fad5449",
   "metadata": {},
   "outputs": [
    {
     "name": "stdout",
     "output_type": "stream",
     "text": [
      "sum of array is:285\n"
     ]
    }
   ],
   "source": [
    "sum = sum_of_array(arr)\n",
    "print(f\"sum of array is:{sum}\")"
   ]
  },
  {
   "cell_type": "markdown",
   "id": "6a00e4fd",
   "metadata": {},
   "source": [
    "2. Write a Python Program to find largest element in an array?"
   ]
  },
  {
   "cell_type": "code",
   "execution_count": 26,
   "id": "94ba8312",
   "metadata": {},
   "outputs": [],
   "source": [
    "def find_max(arr):\n",
    "    maxi = arr[0]\n",
    "    for i in arr:\n",
    "        if i > maxi:\n",
    "            maxi = i\n",
    "    return maxi\n"
   ]
  },
  {
   "cell_type": "code",
   "execution_count": 33,
   "id": "83cf7d14",
   "metadata": {},
   "outputs": [
    {
     "name": "stdout",
     "output_type": "stream",
     "text": [
      "The largest element of array is:100\n"
     ]
    }
   ],
   "source": [
    "arr = [25,20,1,5,70,100,20,23,46]\n",
    "large = find_max(arr)\n",
    "print(f\"The largest element of array is:{large}\")"
   ]
  },
  {
   "cell_type": "code",
   "execution_count": 30,
   "id": "ceb8218f",
   "metadata": {},
   "outputs": [],
   "source": []
  },
  {
   "cell_type": "markdown",
   "id": "18aabcf8",
   "metadata": {},
   "source": [
    "3. Write a Python Program for array rotation?"
   ]
  },
  {
   "cell_type": "code",
   "execution_count": 36,
   "id": "28919b03",
   "metadata": {},
   "outputs": [],
   "source": [
    "def rotate_array(arr, rotations):\n",
    "    length = len(arr)\n",
    "    if rotations >=length:\n",
    "        return arr\n",
    "    rotated_arr = arr[rotations:]+arr[:rotations]\n",
    "    return rotated_arr\n",
    "    \n",
    "    "
   ]
  },
  {
   "cell_type": "code",
   "execution_count": 38,
   "id": "b34691ab",
   "metadata": {},
   "outputs": [
    {
     "name": "stdout",
     "output_type": "stream",
     "text": [
      "Original Array: [25, 20, 1, 5, 70, 100, 20, 23, 46]\n",
      "Rotated Array : [5, 70, 100, 20, 23, 46, 25, 20, 1]\n"
     ]
    }
   ],
   "source": [
    "arr = [25,20,1,5,70,100,20,23,46]\n",
    "number_rotations = 3\n",
    "array_rotated = rotate_array(arr, number_rotations)\n",
    "print(\"Original Array:\", arr)\n",
    "print(\"Rotated Array :\", array_rotated)"
   ]
  },
  {
   "cell_type": "code",
   "execution_count": 39,
   "id": "541d792a",
   "metadata": {},
   "outputs": [
    {
     "name": "stdout",
     "output_type": "stream",
     "text": [
      "Original Array: [25, 20, 1, 5, 70, 100, 20, 23, 46]\n",
      "Rotated Array : [100, 20, 23, 46, 25, 20, 1, 5, 70]\n"
     ]
    }
   ],
   "source": [
    "arr = [25,20,1,5,70,100,20,23,46]\n",
    "number_rotations = 5\n",
    "array_rotated = rotate_array(arr, number_rotations)\n",
    "print(\"Original Array:\", arr)\n",
    "print(\"Rotated Array :\", array_rotated)"
   ]
  },
  {
   "cell_type": "code",
   "execution_count": null,
   "id": "6315ef94",
   "metadata": {},
   "outputs": [],
   "source": []
  },
  {
   "cell_type": "markdown",
   "id": "e339b7af",
   "metadata": {},
   "source": [
    "4. Write a Python Program to Split the array and add the first part to the end?"
   ]
  },
  {
   "cell_type": "code",
   "execution_count": 43,
   "id": "304eafb8",
   "metadata": {},
   "outputs": [],
   "source": [
    "def split_arr(arr, split_index):\n",
    "    first_part = arr[split_index+1:]\n",
    "    end_part = arr[:split_index+1]\n",
    "    merged_arr = first_part + end_part\n",
    "    return merged_arr\n"
   ]
  },
  {
   "cell_type": "code",
   "execution_count": 45,
   "id": "a884e451",
   "metadata": {},
   "outputs": [
    {
     "name": "stdout",
     "output_type": "stream",
     "text": [
      "Original Array: [25, 20, 1, 5, 70, 100, 20, 23, 46]\n",
      "Merged Array : [70, 100, 20, 23, 46, 25, 20, 1, 5]\n"
     ]
    }
   ],
   "source": [
    "arr = [25,20,1,5,70,100,20,23,46]\n",
    "split_index = 3\n",
    "answer = split_arr(arr, split_index)\n",
    "print(\"Original Array:\", arr)\n",
    "print(\"Merged Array :\", answer)"
   ]
  },
  {
   "cell_type": "markdown",
   "id": "ea77b4e7",
   "metadata": {},
   "source": [
    "5. Write a Python Program to check if given array is Monotonic?"
   ]
  },
  {
   "cell_type": "code",
   "execution_count": 8,
   "id": "5d498403",
   "metadata": {},
   "outputs": [],
   "source": [
    "def monotonic(arr):\n",
    "    for i in range(1,len(arr)):\n",
    "        if arr[i]<=arr[i+1] or arr[i]>=arr[i+1]:\n",
    "            return print(\"The array is a monotonic\")\n",
    "        else:\n",
    "            return print(\"The array is not a monotonic\")\n"
   ]
  },
  {
   "cell_type": "code",
   "execution_count": 9,
   "id": "1640b014",
   "metadata": {},
   "outputs": [
    {
     "name": "stdout",
     "output_type": "stream",
     "text": [
      "The array is a monotonic\n"
     ]
    }
   ],
   "source": [
    "arr = [25,20,1,5,70,100,20,23,46]\n",
    "status = monotonic(arr)\n"
   ]
  },
  {
   "cell_type": "code",
   "execution_count": 10,
   "id": "2531a58d",
   "metadata": {},
   "outputs": [
    {
     "name": "stdout",
     "output_type": "stream",
     "text": [
      "Array 1 is monotonic: True\n",
      "Array 2 is monotonic: True\n",
      "Array 3 is monotonic: True\n",
      "Array 4 is monotonic: False\n"
     ]
    }
   ],
   "source": [
    "def is_monotonic(arr):\n",
    "    if len(arr) <= 2:\n",
    "        return True\n",
    "\n",
    "    increasing = decreasing = True\n",
    "\n",
    "    for i in range(1, len(arr)):\n",
    "        if arr[i] < arr[i - 1]:\n",
    "            increasing = False\n",
    "        if arr[i] > arr[i - 1]:\n",
    "            decreasing = False\n",
    "\n",
    "    return increasing or decreasing\n",
    "\n",
    "# Test the function\n",
    "array1 = [1, 2, 3, 4, 5]\n",
    "array2 = [7, 5, 4, 2, 1]\n",
    "array3 = [2, 2, 2, 2, 2]\n",
    "array4 = [1, 3, 2, 4, 5]\n",
    "\n",
    "print(\"Array 1 is monotonic:\", is_monotonic(array1))\n",
    "print(\"Array 2 is monotonic:\", is_monotonic(array2))\n",
    "print(\"Array 3 is monotonic:\", is_monotonic(array3))\n",
    "print(\"Array 4 is monotonic:\", is_monotonic(array4))\n"
   ]
  },
  {
   "cell_type": "code",
   "execution_count": null,
   "id": "b8a92c81",
   "metadata": {},
   "outputs": [],
   "source": []
  },
  {
   "cell_type": "markdown",
   "id": "4189c066",
   "metadata": {},
   "source": []
  },
  {
   "cell_type": "code",
   "execution_count": null,
   "id": "e3edd366",
   "metadata": {},
   "outputs": [],
   "source": []
  },
  {
   "cell_type": "code",
   "execution_count": null,
   "id": "e38990db",
   "metadata": {},
   "outputs": [],
   "source": []
  },
  {
   "cell_type": "markdown",
   "id": "30ab5a54",
   "metadata": {},
   "source": []
  },
  {
   "cell_type": "code",
   "execution_count": null,
   "id": "7bd47d9b",
   "metadata": {},
   "outputs": [],
   "source": []
  },
  {
   "cell_type": "code",
   "execution_count": null,
   "id": "a72cc384",
   "metadata": {},
   "outputs": [],
   "source": []
  },
  {
   "cell_type": "markdown",
   "id": "4bfea69f",
   "metadata": {},
   "source": []
  },
  {
   "cell_type": "code",
   "execution_count": null,
   "id": "bccd7235",
   "metadata": {},
   "outputs": [],
   "source": []
  },
  {
   "cell_type": "code",
   "execution_count": null,
   "id": "aca20c8a",
   "metadata": {},
   "outputs": [],
   "source": []
  },
  {
   "cell_type": "markdown",
   "id": "7346d8bc",
   "metadata": {},
   "source": []
  },
  {
   "cell_type": "code",
   "execution_count": null,
   "id": "5b0e9890",
   "metadata": {},
   "outputs": [],
   "source": []
  },
  {
   "cell_type": "code",
   "execution_count": null,
   "id": "dbc5c30a",
   "metadata": {},
   "outputs": [],
   "source": []
  },
  {
   "cell_type": "markdown",
   "id": "367c5599",
   "metadata": {},
   "source": []
  },
  {
   "cell_type": "code",
   "execution_count": null,
   "id": "10a3a7f0",
   "metadata": {},
   "outputs": [],
   "source": []
  },
  {
   "cell_type": "code",
   "execution_count": null,
   "id": "73809834",
   "metadata": {},
   "outputs": [],
   "source": []
  },
  {
   "cell_type": "markdown",
   "id": "dbc486fa",
   "metadata": {},
   "source": []
  },
  {
   "cell_type": "code",
   "execution_count": null,
   "id": "c45d792f",
   "metadata": {},
   "outputs": [],
   "source": []
  },
  {
   "cell_type": "code",
   "execution_count": null,
   "id": "b87393b2",
   "metadata": {},
   "outputs": [],
   "source": []
  },
  {
   "cell_type": "markdown",
   "id": "a337a305",
   "metadata": {},
   "source": []
  },
  {
   "cell_type": "code",
   "execution_count": null,
   "id": "8a6595bf",
   "metadata": {},
   "outputs": [],
   "source": []
  },
  {
   "cell_type": "code",
   "execution_count": null,
   "id": "b15d6b12",
   "metadata": {},
   "outputs": [],
   "source": []
  },
  {
   "cell_type": "markdown",
   "id": "2f369a6e",
   "metadata": {},
   "source": []
  },
  {
   "cell_type": "code",
   "execution_count": null,
   "id": "f5fe365a",
   "metadata": {},
   "outputs": [],
   "source": []
  },
  {
   "cell_type": "code",
   "execution_count": null,
   "id": "7f3f3982",
   "metadata": {},
   "outputs": [],
   "source": []
  },
  {
   "cell_type": "markdown",
   "id": "327fa0ad",
   "metadata": {},
   "source": []
  },
  {
   "cell_type": "code",
   "execution_count": null,
   "id": "a67a7feb",
   "metadata": {},
   "outputs": [],
   "source": []
  },
  {
   "cell_type": "code",
   "execution_count": null,
   "id": "773bbb9d",
   "metadata": {},
   "outputs": [],
   "source": []
  },
  {
   "cell_type": "markdown",
   "id": "dfd4d581",
   "metadata": {},
   "source": []
  },
  {
   "cell_type": "code",
   "execution_count": null,
   "id": "6ebf0a92",
   "metadata": {},
   "outputs": [],
   "source": []
  },
  {
   "cell_type": "code",
   "execution_count": null,
   "id": "e9cf506a",
   "metadata": {},
   "outputs": [],
   "source": []
  },
  {
   "cell_type": "code",
   "execution_count": null,
   "id": "5d515ca3",
   "metadata": {},
   "outputs": [],
   "source": []
  }
 ],
 "metadata": {
  "kernelspec": {
   "display_name": "Python 3 (ipykernel)",
   "language": "python",
   "name": "python3"
  },
  "language_info": {
   "codemirror_mode": {
    "name": "ipython",
    "version": 3
   },
   "file_extension": ".py",
   "mimetype": "text/x-python",
   "name": "python",
   "nbconvert_exporter": "python",
   "pygments_lexer": "ipython3",
   "version": "3.9.10"
  }
 },
 "nbformat": 4,
 "nbformat_minor": 5
}
