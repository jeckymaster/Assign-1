{
 "cells": [
  {
   "cell_type": "markdown",
   "id": "c3e71b0a",
   "metadata": {},
   "source": [
    "1. Add the current date to the text file today.txt as a string."
   ]
  },
  {
   "cell_type": "code",
   "execution_count": 1,
   "id": "440bcb25",
   "metadata": {},
   "outputs": [],
   "source": [
    "from datetime import date\n",
    "\n",
    "today = str(date.today())\n",
    "\n",
    "with open(\"today.txt\",'a') as f:\n",
    "    f.write(today + '\\n')"
   ]
  },
  {
   "cell_type": "markdown",
   "id": "962e63ab",
   "metadata": {},
   "source": [
    "2. Read the text file today.txt into the string today_string"
   ]
  },
  {
   "cell_type": "code",
   "execution_count": 2,
   "id": "7e38df7d",
   "metadata": {},
   "outputs": [
    {
     "name": "stdout",
     "output_type": "stream",
     "text": [
      "2023-05-03\n",
      "2023-05-04\n",
      "\n"
     ]
    }
   ],
   "source": [
    "from datetime import date\n",
    "\n",
    "with open(\"today.txt\",'r') as f:\n",
    "    today_string = f.read()\n",
    "    \n",
    "print(today_string)"
   ]
  },
  {
   "cell_type": "markdown",
   "id": "6a00e4fd",
   "metadata": {},
   "source": [
    "3. Parse the date from today_string."
   ]
  },
  {
   "cell_type": "code",
   "execution_count": 3,
   "id": "b0d026d8",
   "metadata": {},
   "outputs": [
    {
     "name": "stdout",
     "output_type": "stream",
     "text": [
      "2023-05-03\n",
      "2023-05-04\n"
     ]
    }
   ],
   "source": [
    "import datetime\n",
    "\n",
    "dates = today_string.split('\\n')\n",
    "\n",
    "for date_str in dates:\n",
    "    if date_str:\n",
    "        date_obj = datetime.datetime.strptime(date_str,'%Y-%m-%d').date()\n",
    "        print(date_obj)"
   ]
  },
  {
   "cell_type": "markdown",
   "id": "5104ab6d",
   "metadata": {},
   "source": [
    "4. List the files in your current directory"
   ]
  },
  {
   "cell_type": "code",
   "execution_count": 4,
   "id": "6089bd58",
   "metadata": {},
   "outputs": [
    {
     "name": "stdout",
     "output_type": "stream",
     "text": [
      ".ipynb_checkpoints\n",
      "2023-05-03-13-50-20_myfile.txt\n",
      "Assignment 1.ipynb\n",
      "Assignment 10.ipynb\n",
      "Assignment 11.ipynb\n",
      "Assignment 12.ipynb\n",
      "Assignment 13.ipynb\n",
      "Assignment 14.ipynb\n",
      "Assignment 15.ipynb\n",
      "Assignment 16.ipynb\n",
      "Assignment 17.ipynb\n",
      "Assignment 18.ipynb\n",
      "Assignment 19.ipynb\n",
      "Assignment 2.ipynb\n",
      "Assignment 20.ipynb\n",
      "Assignment 21.ipynb\n",
      "Assignment 4.ipynb\n",
      "Assignment 5.ipynb\n",
      "Assignment 6.ipynb\n",
      "Assignment 7.ipynb\n",
      "Assignment 8.ipynb\n",
      "Assignment 9.ipynb\n",
      "Assignment Sample.ipynb\n",
      "books.db\n",
      "today.txt\n",
      "__pycache__\n"
     ]
    }
   ],
   "source": [
    "import os\n",
    "\n",
    "files = os.listdir()\n",
    "\n",
    "for file in files:\n",
    "    print(file)"
   ]
  },
  {
   "cell_type": "markdown",
   "id": "18aabcf8",
   "metadata": {},
   "source": [
    "5. Create a list of all of the files in your parent directory (minimum five files should be available)."
   ]
  },
  {
   "cell_type": "code",
   "execution_count": 6,
   "id": "512fb72b",
   "metadata": {},
   "outputs": [
    {
     "data": {
      "text/plain": [
       "['.ipynb_checkpoints',\n",
       " '2023-05-03-13-50-20_myfile.txt',\n",
       " 'Assignment 1.ipynb',\n",
       " 'Assignment 10.ipynb',\n",
       " 'Assignment 11.ipynb',\n",
       " 'Assignment 12.ipynb',\n",
       " 'Assignment 13.ipynb',\n",
       " 'Assignment 14.ipynb',\n",
       " 'Assignment 15.ipynb',\n",
       " 'Assignment 16.ipynb',\n",
       " 'Assignment 17.ipynb',\n",
       " 'Assignment 18.ipynb',\n",
       " 'Assignment 19.ipynb',\n",
       " 'Assignment 2.ipynb',\n",
       " 'Assignment 20.ipynb',\n",
       " 'Assignment 21.ipynb',\n",
       " 'Assignment 4.ipynb',\n",
       " 'Assignment 5.ipynb',\n",
       " 'Assignment 6.ipynb',\n",
       " 'Assignment 7.ipynb',\n",
       " 'Assignment 8.ipynb',\n",
       " 'Assignment 9.ipynb',\n",
       " 'Assignment Sample.ipynb',\n",
       " 'books.db',\n",
       " 'today.txt',\n",
       " '__pycache__']"
      ]
     },
     "execution_count": 6,
     "metadata": {},
     "output_type": "execute_result"
    }
   ],
   "source": [
    "import os\n",
    "file_list=[]\n",
    "files = os.listdir()\n",
    "\n",
    "for file in files:\n",
    "    file_list.append(file)\n",
    "file_list"
   ]
  },
  {
   "cell_type": "markdown",
   "id": "d5676ddc",
   "metadata": {},
   "source": [
    "6. Use multiprocessing to create three separate processes. Make each one wait a random number of seconds between one and five, print the current time, and then exit."
   ]
  },
  {
   "cell_type": "code",
   "execution_count": 10,
   "id": "b32bc344",
   "metadata": {},
   "outputs": [],
   "source": [
    "import multiprocessing\n",
    "import random\n",
    "import time\n",
    "import datetime\n",
    "\n",
    "def wait_random_time():\n",
    "    \n",
    "    # To generate random number between 1 and 5\n",
    "    wait_time = random.randint(1,5)\n",
    "    \n",
    "    # Sleep for the random number of seconds\n",
    "    time.sleep(wait_time)\n",
    "    \n",
    "    # Get the current time and print it\n",
    "    current_time = datetime.datetime.now().strftime(\"%H:%M:%S\")\n",
    "    print(f\"Process {multiprocessing.current_process().name} waited {wait_time} seconds and exited at {current_time}.\")\n",
    "\n",
    "if __name__ == '__main__':\n",
    "    processes = []\n",
    "    for i in range(3):\n",
    "        process = multiprocessing.Process(target=wait_random_time, name=f\"Process-{i}\")\n",
    "        processes.append(process)\n",
    "        process.start()\n",
    "        \n",
    "    for process in processes:\n",
    "        process.join()"
   ]
  },
  {
   "cell_type": "code",
   "execution_count": null,
   "id": "99a6f425",
   "metadata": {},
   "outputs": [],
   "source": []
  },
  {
   "cell_type": "markdown",
   "id": "e339b7af",
   "metadata": {},
   "source": [
    "7. Create a date object of your day of birth."
   ]
  },
  {
   "cell_type": "code",
   "execution_count": 20,
   "id": "ae5c9738",
   "metadata": {},
   "outputs": [
    {
     "name": "stdout",
     "output_type": "stream",
     "text": [
      "1984-07-14\n"
     ]
    }
   ],
   "source": [
    "import datetime\n",
    "\n",
    "birthday = datetime.date(1984, 7, 14)\n",
    "print(birthday)\n"
   ]
  },
  {
   "cell_type": "markdown",
   "id": "3129f19c",
   "metadata": {},
   "source": [
    "8. What day of the week was your day of birth?"
   ]
  },
  {
   "cell_type": "code",
   "execution_count": 35,
   "id": "6e3207b7",
   "metadata": {},
   "outputs": [
    {
     "name": "stdout",
     "output_type": "stream",
     "text": [
      "Enter your birth date :30\n",
      "Enter your birth month :4\n",
      "Enter your birth year :2023\n",
      "It was 7th day fo the week\n",
      "It was sunny Sunday\n"
     ]
    }
   ],
   "source": [
    "from datetime import date\n",
    "day = int(input(\"Enter your birth date :\"))\n",
    "month = int(input(\"Enter your birth month :\"))\n",
    "year = int(input(\"Enter your birth year :\"))\n",
    "birthdate = datetime.date(year, month, day)\n",
    "birthday =  birthdate.weekday()\n",
    "print(f\"It was {birthday + 1}th day fo the week.\")\n",
    "if birthday == 0:\n",
    "    print(\"It was moody Monday.\")\n",
    "elif birthday == 1:\n",
    "    print(\"It was thunderous Tuesday.\")\n",
    "elif birthday == 2:\n",
    "    print(\"It was windy Wednesday.\")\n",
    "elif birthday == 3:\n",
    "    print(\"It was thrill Thursday.\")\n",
    "elif birthday == 4:\n",
    "    print(\"It was fantastic Friday.\")\n",
    "elif birthday == 5:\n",
    "    print(\"It was super Saturday.\")\n",
    "else:\n",
    "    print(\"It was sunny Sunday.\")"
   ]
  },
  {
   "cell_type": "markdown",
   "id": "ea77b4e7",
   "metadata": {},
   "source": [
    "9. When will you be (or when were you) 10,000 days old?"
   ]
  },
  {
   "cell_type": "code",
   "execution_count": 38,
   "id": "6767e844",
   "metadata": {},
   "outputs": [
    {
     "name": "stdout",
     "output_type": "stream",
     "text": [
      "Enter your birth date :25\n",
      "Enter your birth month :4\n",
      "Enter your birth year :1986\n",
      "2013-09-10\n"
     ]
    }
   ],
   "source": [
    "from datetime import date\n",
    "day = int(input(\"Enter your birth date :\"))\n",
    "month = int(input(\"Enter your birth month :\"))\n",
    "year = int(input(\"Enter your birth year :\"))\n",
    "birthdate = datetime.date(year, month, day)\n",
    "age_in_days = datetime.timedelta(days=10000)\n",
    "ten_thousand_days_old = birthdate + age_in_days\n",
    "print(ten_thousand_days_old)\n"
   ]
  },
  {
   "cell_type": "markdown",
   "id": "43e9151a",
   "metadata": {},
   "source": []
  },
  {
   "cell_type": "markdown",
   "id": "905c4b60",
   "metadata": {},
   "source": []
  },
  {
   "cell_type": "markdown",
   "id": "1bfbb622",
   "metadata": {},
   "source": []
  },
  {
   "cell_type": "markdown",
   "id": "4189c066",
   "metadata": {},
   "source": []
  },
  {
   "cell_type": "markdown",
   "id": "c545479a",
   "metadata": {},
   "source": []
  },
  {
   "cell_type": "markdown",
   "id": "30ab5a54",
   "metadata": {},
   "source": []
  },
  {
   "cell_type": "markdown",
   "id": "1ae24417",
   "metadata": {},
   "source": []
  },
  {
   "cell_type": "markdown",
   "id": "1537f668",
   "metadata": {},
   "source": []
  },
  {
   "cell_type": "markdown",
   "id": "4bfea69f",
   "metadata": {},
   "source": []
  },
  {
   "cell_type": "markdown",
   "id": "732e63a6",
   "metadata": {},
   "source": []
  },
  {
   "cell_type": "markdown",
   "id": "7346d8bc",
   "metadata": {},
   "source": []
  },
  {
   "cell_type": "markdown",
   "id": "a4450c92",
   "metadata": {},
   "source": []
  },
  {
   "cell_type": "markdown",
   "id": "07a32291",
   "metadata": {},
   "source": []
  },
  {
   "cell_type": "markdown",
   "id": "7254cf5c",
   "metadata": {},
   "source": []
  },
  {
   "cell_type": "markdown",
   "id": "367c5599",
   "metadata": {},
   "source": []
  },
  {
   "cell_type": "markdown",
   "id": "464de133",
   "metadata": {},
   "source": []
  },
  {
   "cell_type": "markdown",
   "id": "b791eb7b",
   "metadata": {},
   "source": []
  },
  {
   "cell_type": "markdown",
   "id": "dbc486fa",
   "metadata": {},
   "source": []
  },
  {
   "cell_type": "markdown",
   "id": "e5f5a6df",
   "metadata": {},
   "source": []
  },
  {
   "cell_type": "markdown",
   "id": "a1e63c23",
   "metadata": {},
   "source": []
  },
  {
   "cell_type": "markdown",
   "id": "a337a305",
   "metadata": {},
   "source": []
  },
  {
   "cell_type": "markdown",
   "id": "f6ff5b42",
   "metadata": {},
   "source": []
  },
  {
   "cell_type": "markdown",
   "id": "98c64573",
   "metadata": {},
   "source": []
  },
  {
   "cell_type": "markdown",
   "id": "2f369a6e",
   "metadata": {},
   "source": []
  },
  {
   "cell_type": "markdown",
   "id": "e8308bfd",
   "metadata": {},
   "source": []
  },
  {
   "cell_type": "markdown",
   "id": "02d0b8b7",
   "metadata": {},
   "source": []
  },
  {
   "cell_type": "markdown",
   "id": "327fa0ad",
   "metadata": {},
   "source": []
  },
  {
   "cell_type": "markdown",
   "id": "cd41b8d4",
   "metadata": {},
   "source": []
  },
  {
   "cell_type": "markdown",
   "id": "ea48e16b",
   "metadata": {},
   "source": []
  },
  {
   "cell_type": "markdown",
   "id": "dfd4d581",
   "metadata": {},
   "source": []
  },
  {
   "cell_type": "markdown",
   "id": "be56a8a0",
   "metadata": {},
   "source": []
  },
  {
   "cell_type": "markdown",
   "id": "83894195",
   "metadata": {},
   "source": []
  },
  {
   "cell_type": "markdown",
   "id": "f89968d2",
   "metadata": {},
   "source": []
  }
 ],
 "metadata": {
  "kernelspec": {
   "display_name": "Python 3 (ipykernel)",
   "language": "python",
   "name": "python3"
  },
  "language_info": {
   "codemirror_mode": {
    "name": "ipython",
    "version": 3
   },
   "file_extension": ".py",
   "mimetype": "text/x-python",
   "name": "python",
   "nbconvert_exporter": "python",
   "pygments_lexer": "ipython3",
   "version": "3.9.10"
  }
 },
 "nbformat": 4,
 "nbformat_minor": 5
}
