{
 "cells": [
  {
   "cell_type": "markdown",
   "id": "4ab720a2",
   "metadata": {},
   "source": [
    "1. Is the Python Standard Library included with PyInputPlus?"
   ]
  },
  {
   "cell_type": "markdown",
   "id": "a3c506b7",
   "metadata": {},
   "source": [
    "No, 'PyInputPlus' is a third-party package for Python that is designed to provide additional features and convenience functions for accepting user input. The Python Standard Library, on the other hand, is included with the Python programming language itself and provides a wide range of built-in modules and functions that can be used to accomplish a variety of tasks."
   ]
  },
  {
   "cell_type": "markdown",
   "id": "3043cc21",
   "metadata": {},
   "source": [
    "2. Why is PyInputPlus commonly imported with import pyinputplus as pypi?"
   ]
  },
  {
   "cell_type": "markdown",
   "id": "e3ab175a",
   "metadata": {},
   "source": [
    "'PyInputPlus' is commonly imported with the alias pypi for brevity and ease of use. Using import 'pyinputplus' as 'pypi' allows you to use the 'PyInputPlus library' with a shorter name, which can save you some typing when you use it repeatedly in your code and also from syntax errors if doing some spelling mistakes. \n",
    "\n",
    "it is not necessory to use only pypi as an alias it can any name, for the shake of understanding among all users pypi is widely accepted."
   ]
  },
  {
   "cell_type": "markdown",
   "id": "b5deb70b",
   "metadata": {},
   "source": [
    "3. How do you distinguish between inputInt() and inputFloat()?"
   ]
  },
  {
   "cell_type": "markdown",
   "id": "9f437b11",
   "metadata": {},
   "source": [
    "    - inputInt() : it is used to get input from the user as an integer, which means it will only accept numbers (positive, negative, or zero) without any decimal places. If the user enters a decimal or a non-numeric value, inputInt() will raise a PyInputPlus exception.\n",
    "\n",
    "    - inputFloat() : it is used to get input from the user as a floating-point number, which means it will accept any numeric value, including numbers with decimal places. If the user enters a non-numeric value, inputFloat() will raise a PyInputPlus exception."
   ]
  },
  {
   "cell_type": "markdown",
   "id": "7cad2429",
   "metadata": {},
   "source": [
    "4. Using PyInputPlus, how do you ensure that the user enters a whole number between 0 and 99?"
   ]
  },
  {
   "cell_type": "markdown",
   "id": "6db7756b",
   "metadata": {},
   "source": [
    "To ensure that the user enters a whole number between 0 and 99 using PyInputPlus, we can use the 'inputInt()' function along with the 'min' and 'max' parameters to set the lower and upper limits of the input."
   ]
  },
  {
   "cell_type": "code",
   "execution_count": 4,
   "id": "0a19b687",
   "metadata": {},
   "outputs": [
    {
     "name": "stdout",
     "output_type": "stream",
     "text": [
      "Please enter a whole number between 0 and 99: 100\n",
      "Number must be at maximum 99.\n",
      "Please enter a whole number between 0 and 99: 102\n",
      "Number must be at maximum 99.\n",
      "Please enter a whole number between 0 and 99: 2\n",
      "You entered: 2\n"
     ]
    }
   ],
   "source": [
    "import pyinputplus as pypi\n",
    "\n",
    "# Using inputInt() to get a whole number between 0 and 99 from the user\n",
    "number = pypi.inputInt(\"Please enter a whole number between 0 and 99: \", min=0, max=99)\n",
    "\n",
    "print(\"You entered:\", number)"
   ]
  },
  {
   "cell_type": "markdown",
   "id": "e79fdd8b",
   "metadata": {},
   "source": [
    "5. What is transferred to the keyword arguments allowRegexes and blockRegexes?"
   ]
  },
  {
   "cell_type": "markdown",
   "id": "c8d6278e",
   "metadata": {},
   "source": [
    "     The allowRegexes and blockRegexes keyword arguments in PyInputPlus are used to allow or block certain regular expression patterns in user input.\n",
    "\n",
    "    The 'allowRegexes' keyword argument takes a list of regular expression patterns as strings. If any of these patterns match the user's input, it will be accepted. For example, if you set \"allowRegexes=[r'[a-zA-Z]+']\", the user's input will only be accepted if it contains one or more letters.\n",
    "\n",
    "    The 'blockRegexes' keyword argument also takes a list of regular expression patterns as strings. If any of these patterns match the user's input, it will be rejected. For example, if you set \"blockRegexes=[r'[!@#$%^&*()]']\", the user's input will be rejected if it contains any of the special characters listed in the regular expression."
   ]
  },
  {
   "cell_type": "code",
   "execution_count": 9,
   "id": "8d7088d6",
   "metadata": {},
   "outputs": [
    {
     "name": "stdout",
     "output_type": "stream",
     "text": [
      "Please enter a string: &\n",
      "This response is invalid.\n",
      "Please enter a string: %\n",
      "This response is invalid.\n",
      "Please enter a string: very good\n",
      "You entered: very good\n"
     ]
    }
   ],
   "source": [
    "import pyinputplus as pypi\n",
    "\n",
    "# Using allowRegexes and blockRegexes to restrict user input\n",
    "input_str = pypi.inputStr(\"Please enter a string: \", allowRegexes=[r'[a-zA-Z]+'], blockRegexes=[r'[!@#$%^&*()]'])\n",
    "\n",
    "print(\"You entered:\", input_str)"
   ]
  },
  {
   "cell_type": "markdown",
   "id": "96048ed3",
   "metadata": {},
   "source": [
    "6. If a blank input is entered three times, what does inputStr(limit=3) do?"
   ]
  },
  {
   "cell_type": "markdown",
   "id": "804d0c41",
   "metadata": {},
   "source": [
    "    If a blank input is entered three times in a row when using the inputStr(limit=3) function in PyInputPlus, it will raise a 'TimeoutException'."
   ]
  },
  {
   "cell_type": "markdown",
   "id": "7cbbea8b",
   "metadata": {},
   "source": [
    "7. If blank input is entered three times, what does inputStr(limit=3, default='hello') do?"
   ]
  },
  {
   "cell_type": "raw",
   "id": "07e43534",
   "metadata": {},
   "source": [
    "If blank input is entered three times in a row when using the \"inputStr(limit=3, default='hello')\" function in PyInputPlus, it will return the default value 'hello'.\n",
    "\n",
    "The default parameter in PyInputPlus is used to specify a default value that should be returned if the user enters a blank input or if the input validation times out. When the default parameter is specified, PyInputPlus will return the default value instead of raising an exception."
   ]
  },
  {
   "cell_type": "code",
   "execution_count": 11,
   "id": "7385238e",
   "metadata": {},
   "outputs": [
    {
     "name": "stdout",
     "output_type": "stream",
     "text": [
      "Please enter a value:  \n",
      "Blank values are not allowed.\n",
      "Please enter a value:  \n",
      "Blank values are not allowed.\n",
      "Please enter a value:  \n",
      "Blank values are not allowed.\n",
      "You entered: hello\n"
     ]
    }
   ],
   "source": [
    "import pyinputplus as pypi\n",
    "\n",
    "# Using inputStr() to get a string input from the user with a limit of 3 tries and a default value of 'hello'\n",
    "input_value = pypi.inputStr(\"Please enter a value: \", limit=3, default='hello')\n",
    "\n",
    "print(\"You entered:\", input_value)\n"
   ]
  },
  {
   "cell_type": "markdown",
   "id": "d02a9b01",
   "metadata": {},
   "source": []
  }
 ],
 "metadata": {
  "kernelspec": {
   "display_name": "Python 3 (ipykernel)",
   "language": "python",
   "name": "python3"
  },
  "language_info": {
   "codemirror_mode": {
    "name": "ipython",
    "version": 3
   },
   "file_extension": ".py",
   "mimetype": "text/x-python",
   "name": "python",
   "nbconvert_exporter": "python",
   "pygments_lexer": "ipython3",
   "version": "3.9.12"
  }
 },
 "nbformat": 4,
 "nbformat_minor": 5
}
