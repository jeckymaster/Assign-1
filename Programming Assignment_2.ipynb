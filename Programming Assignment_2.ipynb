{
 "cells": [
  {
   "cell_type": "code",
   "execution_count": 1,
   "id": "1a7af2e5",
   "metadata": {},
   "outputs": [],
   "source": [
    "#1. Write a Python program to convert kilometers to miles?\n",
    "m=lambda k:print(k* 0.62137, \"Miles\")"
   ]
  },
  {
   "cell_type": "code",
   "execution_count": 2,
   "id": "c894e732",
   "metadata": {},
   "outputs": [
    {
     "name": "stdout",
     "output_type": "stream",
     "text": [
      "6.213699999999999 Miles\n"
     ]
    }
   ],
   "source": [
    "m(10)"
   ]
  },
  {
   "cell_type": "code",
   "execution_count": 3,
   "id": "5e30ad16",
   "metadata": {},
   "outputs": [
    {
     "name": "stdout",
     "output_type": "stream",
     "text": [
      "For Celsius to Fahrenheit press 1 \n",
      " For Fahrenheit to Celsius press 2: 1\n",
      "Enter the Degree Celsius: 0\n",
      "0 C =  32.0 F\n"
     ]
    }
   ],
   "source": [
    "#2. Write a Python program to convert Celsius to Fahrenheit?\n",
    "s=int(input(\"For Celsius to Fahrenheit press 1 \\n For Fahrenheit to Celsius press 2: \"))\n",
    "if s==1:\n",
    "    c = int(input(\"Enter the Degree Celsius: \"))\n",
    "    f = (c*(9/5)+32)\n",
    "    print(c, \"C = \",f,\"F\")\n",
    "elif s==2:\n",
    "    f = int(input(\"Enter the Degree Fahrenheit: \"))\n",
    "    c = ((f-32)*(5/9))\n",
    "    print(f, \"F = \",c,\"C\")\n",
    "else:\n",
    "    pass"
   ]
  },
  {
   "cell_type": "code",
   "execution_count": 4,
   "id": "1810bfe6",
   "metadata": {},
   "outputs": [
    {
     "name": "stdout",
     "output_type": "stream",
     "text": [
      "Enter the Year: 2022\n",
      "Enter the month: 6\n",
      "     June 2022\n",
      "Mo Tu We Th Fr Sa Su\n",
      "       1  2  3  4  5\n",
      " 6  7  8  9 10 11 12\n",
      "13 14 15 16 17 18 19\n",
      "20 21 22 23 24 25 26\n",
      "27 28 29 30\n",
      "\n"
     ]
    }
   ],
   "source": [
    "#3. Write a Python program to display calendar?\n",
    "import calendar\n",
    "\n",
    "yy=int(input(\"Enter the Year: \"))\n",
    "mm=int(input(\"Enter the month: \"))\n",
    "\n",
    "print(calendar.month(yy,mm))"
   ]
  },
  {
   "cell_type": "code",
   "execution_count": 5,
   "id": "6b27c865",
   "metadata": {},
   "outputs": [
    {
     "name": "stdout",
     "output_type": "stream",
     "text": [
      "Insert the coefficient values of ax^2 + bx +c as a, b, c in integers only\n",
      "Enter the coeffient 'a' = 1\n",
      "Enter the coeffient 'b' = -7\n",
      "Enter the constant 'c' = 6\n",
      "1 x^2 + -7 x + 6\n",
      "root 1 =  6.0\n",
      "root 2 =  1.0\n"
     ]
    }
   ],
   "source": [
    "#4. Write a Python program to solve quadratic equation?\n",
    "print(\"Insert the coefficient values of ax^2 + bx +c as a, b, c in integers only\")\n",
    "a = int(input(\"Enter the coeffient 'a' = \"))\n",
    "b = int(input(\"Enter the coeffient 'b' = \"))\n",
    "c = int(input(\"Enter the constant 'c' = \"))\n",
    "print(a,\"x^2 +\",b,\"x +\",c )\n",
    "det = b**2-4*a*c\n",
    "sqdet = det**0.5\n",
    "if det>=0:\n",
    "    r1= (b*(-1)+sqdet)/(2*a)\n",
    "    r2= (b*(-1)-sqdet)/(2*a)\n",
    "    print(\"root 1 = \",r1)\n",
    "    print(\"root 2 = \",r2)\n",
    "else:\n",
    "    rr=b*(-1)/(2*a)\n",
    "    ir=sqdet/(2*a)\n",
    "    print(\"root 1 = \", rr, \"+i\",ir)\n",
    "    print(\"root 1 = \", rr, \"-i\",ir)"
   ]
  },
  {
   "cell_type": "code",
   "execution_count": 6,
   "id": "6f2e54ca",
   "metadata": {},
   "outputs": [
    {
     "name": "stdout",
     "output_type": "stream",
     "text": [
      "Enter 1st Variable a = 20\n",
      "Enter 2nd Variable b = 90\n",
      "a = 90\n",
      "b = 20\n"
     ]
    }
   ],
   "source": [
    "#5. Write a Python program to swap two variables without temp variable?\n",
    "l=[]\n",
    "a = input(\"Enter 1st Variable a = \")\n",
    "b = input(\"Enter 2nd Variable b = \")\n",
    "\n",
    "a,b = b,a\n",
    "print(\"a =\", a)\n",
    "print(\"b =\", b)"
   ]
  },
  {
   "cell_type": "code",
   "execution_count": null,
   "id": "21096948",
   "metadata": {},
   "outputs": [],
   "source": []
  }
 ],
 "metadata": {
  "kernelspec": {
   "display_name": "Python 3 (ipykernel)",
   "language": "python",
   "name": "python3"
  },
  "language_info": {
   "codemirror_mode": {
    "name": "ipython",
    "version": 3
   },
   "file_extension": ".py",
   "mimetype": "text/x-python",
   "name": "python",
   "nbconvert_exporter": "python",
   "pygments_lexer": "ipython3",
   "version": "3.9.12"
  }
 },
 "nbformat": 4,
 "nbformat_minor": 5
}
