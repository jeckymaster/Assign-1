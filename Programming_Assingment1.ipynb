{
 "cells": [
  {
   "cell_type": "code",
   "execution_count": 5,
   "id": "4168bf83",
   "metadata": {},
   "outputs": [
    {
     "name": "stdout",
     "output_type": "stream",
     "text": [
      "1 = Hello\n",
      "2 = Addition\n",
      "3 = Division\n",
      "4 = Area of Triangle\n",
      "5 = Swap two variables\n",
      "Enter the number for the operation you want\n",
      "Enter the number =5\n",
      "Enter the 1st number = 100\n",
      "Enter the 2nd number = 20\n",
      "num1 = 20\n",
      "num2 = 100\n"
     ]
    }
   ],
   "source": [
    "print(\"1 = Hello\")\n",
    "print(\"2 = Addition\")\n",
    "print(\"3 = Division\")\n",
    "print(\"4 = Area of Triangle\")\n",
    "print(\"5 = Swap two variables\")\n",
    "print(\"Enter the number for the operation you want\")\n",
    "a = int(input(\"Enter the number = \"))\n",
    "if a == 1:\n",
    "   print('Hello Phython')\n",
    "elif a == 2:\n",
    "   num1 = int(input('Enter 1st number = '))\n",
    "   num2 = int(input('Enter 2nd number = '))\n",
    "   print(\"Sum =\", num1 + num2)\n",
    "elif a == 3:\n",
    "   num1 = int(input('Enter 1st number = '))\n",
    "   num2 = int(input('Enter 2nd number = '))\n",
    "   print(\"Quotient =\", num1 / num2)\n",
    "elif a == 4:\n",
    "   import math\n",
    "   s1 = int(input('Enter length of 1st side = '))\n",
    "   s2 = int(input('Enter length of 2nd side = '))\n",
    "   s3 = int(input('Enter length of 3rd side = ')) \n",
    "   s = (s1 + s2 + s3)/2\n",
    "   area = math.sqrt(s *(s-s1)*(s-s2)*(s-s3))\n",
    "   print('Area of Triangle =',area,'sq. unit')\n",
    "else :\n",
    "   num1 = int(input(\"Enter the 1st number = \"))\n",
    "   num2 = int(input(\"Enter the 2nd number = \"))\n",
    "   \n",
    "   num1, num2 = num2, num1\n",
    "   print(\"num1 = \", num1)\n",
    "   print(\"num2 = \", num2)\n"
   ]
  },
  {
   "cell_type": "code",
   "execution_count": null,
   "id": "4b25beac",
   "metadata": {},
   "outputs": [],
   "source": []
  }
 ],
 "metadata": {
  "kernelspec": {
   "display_name": "Python 3 (ipykernel)",
   "language": "python",
   "name": "python3"
  },
  "language_info": {
   "codemirror_mode": {
    "name": "ipython",
    "version": 3
   },
   "file_extension": ".py",
   "mimetype": "text/x-python",
   "name": "python",
   "nbconvert_exporter": "python",
   "pygments_lexer": "ipython3",
   "version": "3.9.12"
  }
 },
 "nbformat": 4,
 "nbformat_minor": 5
}
