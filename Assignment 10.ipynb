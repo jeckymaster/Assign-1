{
 "cells": [
  {
   "cell_type": "markdown",
   "id": "ffac0a2e",
   "metadata": {},
   "source": [
    "1. How do you distinguish between shutil.copy() and shutil.copytree()?"
   ]
  },
  {
   "cell_type": "markdown",
   "id": "279c78b8",
   "metadata": {},
   "source": [
    "    'shutil.copy()' is used to copy a single file from a source location to a destination location. It takes two arguments: \n",
    "    1. the path to the source file and \n",
    "    2. the path to the destination file. \n",
    "    \n",
    "    Where as shutil.copytree() is used to copy an entire directory tree from a source location to a destination location. It takes two arguments: \n",
    "    1. the path to the source directory and \n",
    "    2. the path to the destination directory."
   ]
  },
  {
   "cell_type": "markdown",
   "id": "75234eae",
   "metadata": {},
   "source": [
    "2. What function is used to rename files?"
   ]
  },
  {
   "cell_type": "markdown",
   "id": "4f630edf",
   "metadata": {},
   "source": [
    "    The 'os.rename()' function is used to rename files in Python. It is part of the built-in 'os' module and can be used to rename a file by changing its name or moving it to a new directory."
   ]
  },
  {
   "cell_type": "markdown",
   "id": "b1016165",
   "metadata": {},
   "source": [
    "3. What is the difference between the delete functions in the send2trash and shutil modules?"
   ]
  },
  {
   "cell_type": "markdown",
   "id": "798b48c5",
   "metadata": {},
   "source": [
    "    The send2trash module provides a 'send2trash()' function that moves files to the operating system's trash or recycle bin, instead of deleting them permanently. This provides a safety net in case you accidentally delete a file and want to restore it later. \n",
    "    Where as, the shutil module provides a shutil.rmtree() function that deletes a directory and all its contents permanently. It recursively deletes all files and subdirectories within the specified directory."
   ]
  },
  {
   "cell_type": "markdown",
   "id": "9f522d7b",
   "metadata": {},
   "source": [
    "4. ZipFile objects have a close() method just like File objects’ close() method. What ZipFile method is equivalent to File objects’ open() method?"
   ]
  },
  {
   "cell_type": "markdown",
   "id": "461a4f1a",
   "metadata": {},
   "source": [
    "    The equivalent method in ZipFile objects to the File objects' open() method is the constructor method, which is used to create a new ZipFile object that represents a ZIP archive file."
   ]
  },
  {
   "cell_type": "markdown",
   "id": "e0f2de26",
   "metadata": {},
   "source": [
    "5. Create a programme that searches a folder tree for files with a certain file extension (such as .pdf or .jpg). Copy these files from whatever location they are in to a new folder."
   ]
  },
  {
   "cell_type": "code",
   "execution_count": 10,
   "id": "3c17e80b",
   "metadata": {},
   "outputs": [
    {
     "name": "stdout",
     "output_type": "stream",
     "text": [
      "File C:\\Users\\Jecky\\Python Jecky\\A8\\source folder\\jecky\\JECKY MASTER ML ENGINEER, Data Scientist.pdf copied to C:\\Users\\Jecky\\Python Jecky\\A8\\Destine folder\n",
      "File C:\\Users\\Jecky\\Python Jecky\\A8\\source folder\\jecky\\Jecky Master Resume ML.pdf copied to C:\\Users\\Jecky\\Python Jecky\\A8\\Destine folder\n",
      "File C:\\Users\\Jecky\\Python Jecky\\A8\\source folder\\jecky\\Jecky ML Engineer.pdf copied to C:\\Users\\Jecky\\Python Jecky\\A8\\Destine folder\n",
      "File C:\\Users\\Jecky\\Python Jecky\\A8\\source folder\\Ripal\\Default_Credit_card_pred_UCI.pdf copied to C:\\Users\\Jecky\\Python Jecky\\A8\\Destine folder\n",
      "File C:\\Users\\Jecky\\Python Jecky\\A8\\source folder\\Ripal\\IIFD Front Cover Page (1).pdf copied to C:\\Users\\Jecky\\Python Jecky\\A8\\Destine folder\n",
      "File C:\\Users\\Jecky\\Python Jecky\\A8\\source folder\\zeeva\\IIFD Front Cover Page.pdf copied to C:\\Users\\Jecky\\Python Jecky\\A8\\Destine folder\n",
      "File C:\\Users\\Jecky\\Python Jecky\\A8\\source folder\\zeeva\\New Microsoft Word Document.pdf copied to C:\\Users\\Jecky\\Python Jecky\\A8\\Destine folder\n"
     ]
    }
   ],
   "source": [
    "import os\n",
    "import shutil\n",
    "\n",
    "def find_files_with_extension(source_folder, extension):\n",
    "    for root, dirs, files in os.walk(source_folder):\n",
    "        for file in files:\n",
    "            if file.endswith(extension):\n",
    "                yield os.path.join(root, file)\n",
    "\n",
    "def copy_files_to_folder(source_folder, extension, destination_folder):\n",
    "    if not os.path.exists(destination_folder):\n",
    "        os.makedirs(destination_folder)\n",
    "    for file_path in find_files_with_extension(source_folder, extension):\n",
    "        shutil.copy(file_path, os.path.join(destination_folder, os.path.basename(file_path)))\n",
    "        print(f\"File {file_path} copied to {destination_folder}\")\n",
    "source_folder = r\"C:\\Users\\Jecky\\Python Jecky\\A8\\source folder\"\n",
    "extension = '.pdf'\n",
    "\n",
    "copy_files_to_folder(source_folder, extension, destination_folder)\n"
   ]
  },
  {
   "cell_type": "code",
   "execution_count": null,
   "id": "3ab73840",
   "metadata": {},
   "outputs": [],
   "source": []
  }
 ],
 "metadata": {
  "kernelspec": {
   "display_name": "Python 3 (ipykernel)",
   "language": "python",
   "name": "python3"
  },
  "language_info": {
   "codemirror_mode": {
    "name": "ipython",
    "version": 3
   },
   "file_extension": ".py",
   "mimetype": "text/x-python",
   "name": "python",
   "nbconvert_exporter": "python",
   "pygments_lexer": "ipython3",
   "version": "3.9.12"
  }
 },
 "nbformat": 4,
 "nbformat_minor": 5
}
