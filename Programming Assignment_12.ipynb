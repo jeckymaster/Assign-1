{
 "cells": [
  {
   "cell_type": "markdown",
   "id": "c3e71b0a",
   "metadata": {},
   "source": [
    "1. Write a Python program to Extract Unique values dictionary values?"
   ]
  },
  {
   "cell_type": "code",
   "execution_count": 7,
   "id": "b6aa1963",
   "metadata": {},
   "outputs": [],
   "source": [
    "def unique_values(dictionary):\n",
    "    return set(dictionary.values())"
   ]
  },
  {
   "cell_type": "code",
   "execution_count": 1,
   "id": "fc84d612",
   "metadata": {},
   "outputs": [],
   "source": [
    "dct= {'a':1, 'b':2, 'c':1, 'd':5, 'e':2, 'f':1, 6:5}"
   ]
  },
  {
   "cell_type": "code",
   "execution_count": 9,
   "id": "665ccaf4",
   "metadata": {},
   "outputs": [
    {
     "name": "stdout",
     "output_type": "stream",
     "text": [
      "The unique values from the dictionary are: {1, 2, 5}\n"
     ]
    }
   ],
   "source": [
    "resu1t = unique_values(dct)\n",
    "print(f\"The unique values from the dictionary are: {resu1t}\")"
   ]
  },
  {
   "cell_type": "markdown",
   "id": "6a00e4fd",
   "metadata": {},
   "source": [
    "2. Write a Python program to find the sum of all items in a dictionary?"
   ]
  },
  {
   "cell_type": "code",
   "execution_count": 7,
   "id": "83cf7d14",
   "metadata": {},
   "outputs": [],
   "source": [
    "def sum_items(dictionary):\n",
    "    int_keys = 0\n",
    "    keys = dictionary.keys()\n",
    "    for key in keys:\n",
    "        if type(key) == int:\n",
    "            int_keys += key\n",
    "    sum_of_items = int_keys + sum(dictionary.values())\n",
    "    return sum_of_items\n",
    "    "
   ]
  },
  {
   "cell_type": "code",
   "execution_count": 9,
   "id": "00557dc4",
   "metadata": {},
   "outputs": [],
   "source": [
    "dct= {'a':1, 'b':2, 'c':1, 'd':5, 'e':2, 'f':1, 6:5}"
   ]
  },
  {
   "cell_type": "code",
   "execution_count": 10,
   "id": "ceb8218f",
   "metadata": {},
   "outputs": [
    {
     "name": "stdout",
     "output_type": "stream",
     "text": [
      "The sum of all items in the given dictionary is: 23\n"
     ]
    }
   ],
   "source": [
    "total = sum_items(dct)\n",
    "print(f\"The sum of all items in the given dictionary is: {total}\")"
   ]
  },
  {
   "cell_type": "markdown",
   "id": "18aabcf8",
   "metadata": {},
   "source": [
    "3. Write a Python program to Merging two Dictionaries?"
   ]
  },
  {
   "cell_type": "code",
   "execution_count": 12,
   "id": "28919b03",
   "metadata": {},
   "outputs": [],
   "source": [
    "def dict_merge(dct1,dct2):\n",
    "    merge_dict = {**dct1, **dct2}\n",
    "    return merge_dict"
   ]
  },
  {
   "cell_type": "code",
   "execution_count": 13,
   "id": "6315ef94",
   "metadata": {},
   "outputs": [
    {
     "name": "stdout",
     "output_type": "stream",
     "text": [
      "Dictionary 1: {'a': 1, 'b': 2, 'c': 1, 'd': 5, 'e': 2, 'f': 1, 6: 5}\n",
      "Dictionary 2: {'g': 1, 'h': 2, 'i': 1, 'j': 5, 'k': 2, 'l': 1, 9: 20}\n",
      "Merged Dictionary: {'a': 1, 'b': 2, 'c': 1, 'd': 5, 'e': 2, 'f': 1, 6: 5, 'g': 1, 'h': 2, 'i': 1, 'j': 5, 'k': 2, 'l': 1, 9: 20}\n"
     ]
    }
   ],
   "source": [
    "dct1 = {'a':1, 'b':2, 'c':1, 'd':5, 'e':2, 'f':1, 6:5}\n",
    "dct2 = {'g':1, 'h':2, 'i':1, 'j':5, 'k':2, 'l':1, 9:20}\n",
    "\n",
    "result = dict_merge(dct1, dct2)\n",
    "print(f\"Dictionary 1: {dct1}\")\n",
    "print(f\"Dictionary 2: {dct2}\")\n",
    "print(f\"Merged Dictionary: {result}\")"
   ]
  },
  {
   "cell_type": "code",
   "execution_count": null,
   "id": "bd1478c4",
   "metadata": {},
   "outputs": [],
   "source": []
  },
  {
   "cell_type": "markdown",
   "id": "e339b7af",
   "metadata": {},
   "source": [
    "4. Write a Python program to convert key-values list to flat dictionary?"
   ]
  },
  {
   "cell_type": "code",
   "execution_count": 17,
   "id": "304eafb8",
   "metadata": {},
   "outputs": [],
   "source": [
    "def list_2_dict(lst):\n",
    "    flat_dict = {}\n",
    "    for pair in lst:\n",
    "        key = pair[0]\n",
    "        value = pair[1]\n",
    "        flat_dict[key] = value\n",
    "    return flat_dict"
   ]
  },
  {
   "cell_type": "code",
   "execution_count": 18,
   "id": "a884e451",
   "metadata": {},
   "outputs": [
    {
     "name": "stdout",
     "output_type": "stream",
     "text": [
      "Key-value list: [('a', 1), ('b', 2), ('c', 3)]\n",
      "Flat dictionary: {'a': 1, 'b': 2, 'c': 3}\n"
     ]
    }
   ],
   "source": [
    "lst = [(\"a\", 1), (\"b\", 2), (\"c\", 3)]\n",
    "flat_dictionary = list_2_dict(lst)\n",
    "\n",
    "print(\"Key-value list:\", lst)\n",
    "print(\"Flat dictionary:\", flat_dictionary)"
   ]
  },
  {
   "cell_type": "markdown",
   "id": "ea77b4e7",
   "metadata": {},
   "source": [
    "5. Write a Python program to insertion at the beginning in OrderedDict?"
   ]
  },
  {
   "cell_type": "code",
   "execution_count": 19,
   "id": "5d498403",
   "metadata": {},
   "outputs": [],
   "source": [
    "from collections import OrderedDict\n",
    "\n",
    "def insert_at_beginning(odict, key, value):\n",
    "    odict[key] = value\n",
    "    odict.move_to_end(key, last=False)"
   ]
  },
  {
   "cell_type": "code",
   "execution_count": 20,
   "id": "1640b014",
   "metadata": {},
   "outputs": [
    {
     "name": "stdout",
     "output_type": "stream",
     "text": [
      "Original OrderedDict: OrderedDict([('a', 1), ('b', 2), ('c', 3)])\n",
      "After insertion at the beginning: OrderedDict([('x', 10), ('a', 1), ('b', 2), ('c', 3)])\n"
     ]
    }
   ],
   "source": [
    "ordered_dict = OrderedDict([('a', 1), ('b', 2), ('c', 3)])\n",
    "print(\"Original OrderedDict:\", ordered_dict)\n",
    "\n",
    "insert_at_beginning(ordered_dict, 'x', 10)\n",
    "print(\"After insertion at the beginning:\", ordered_dict)"
   ]
  },
  {
   "cell_type": "markdown",
   "id": "905c4b60",
   "metadata": {},
   "source": [
    "6. Write a Python program to check order of character in string using OrderedDict()?"
   ]
  },
  {
   "cell_type": "code",
   "execution_count": 21,
   "id": "2531a58d",
   "metadata": {},
   "outputs": [],
   "source": [
    "from collections import OrderedDict\n",
    "\n",
    "def check_character_order(string):\n",
    "    ordered_dict = OrderedDict.fromkeys(string)\n",
    "\n",
    "    # Compare the ordered_dict keys with the original string\n",
    "    for char, _ in ordered_dict.items():\n",
    "        if char not in string:\n",
    "            return False\n",
    "    return True"
   ]
  },
  {
   "cell_type": "code",
   "execution_count": 23,
   "id": "b8a92c81",
   "metadata": {},
   "outputs": [
    {
     "name": "stdout",
     "output_type": "stream",
     "text": [
      "Input string: hello1\n",
      "Character order check: True\n"
     ]
    }
   ],
   "source": [
    "input_string = \"hello1\"\n",
    "print(\"Input string:\", input_string)\n",
    "order_check = check_character_order(input_string)\n",
    "print(\"Character order check:\", order_check)"
   ]
  },
  {
   "cell_type": "markdown",
   "id": "4189c066",
   "metadata": {},
   "source": [
    "7. Write a Python program to sort Python Dictionaries by Key or Value?"
   ]
  },
  {
   "cell_type": "code",
   "execution_count": 24,
   "id": "e3edd366",
   "metadata": {},
   "outputs": [],
   "source": [
    "def sort_dictionary(dictionary, by_key=True):\n",
    "    if by_key:\n",
    "        sorted_dict = dict(sorted(dictionary.items()))\n",
    "    else:\n",
    "        sorted_dict = dict(sorted(dictionary.items(), key=lambda item: item[1]))\n",
    "    return sorted_dict"
   ]
  },
  {
   "cell_type": "code",
   "execution_count": 25,
   "id": "e38990db",
   "metadata": {},
   "outputs": [
    {
     "name": "stdout",
     "output_type": "stream",
     "text": [
      "Input dictionary: {'b': 4, 'a': 2, 'd': 1, 'c': 3}\n",
      "Sorted by key: {'a': 2, 'b': 4, 'c': 3, 'd': 1}\n",
      "Sorted by value: {'d': 1, 'a': 2, 'c': 3, 'b': 4}\n"
     ]
    }
   ],
   "source": [
    "input_dict = {\"b\": 4, \"a\": 2, \"d\": 1, \"c\": 3}\n",
    "print(\"Input dictionary:\", input_dict)\n",
    "\n",
    "sorted_by_key = sort_dictionary(input_dict, by_key=True)\n",
    "print(\"Sorted by key:\", sorted_by_key)\n",
    "\n",
    "sorted_by_value = sort_dictionary(input_dict, by_key=False)\n",
    "print(\"Sorted by value:\", sorted_by_value)\n"
   ]
  },
  {
   "cell_type": "markdown",
   "id": "30ab5a54",
   "metadata": {},
   "source": []
  },
  {
   "cell_type": "code",
   "execution_count": null,
   "id": "7bd47d9b",
   "metadata": {},
   "outputs": [],
   "source": []
  },
  {
   "cell_type": "code",
   "execution_count": null,
   "id": "a72cc384",
   "metadata": {},
   "outputs": [],
   "source": []
  },
  {
   "cell_type": "markdown",
   "id": "4bfea69f",
   "metadata": {},
   "source": []
  },
  {
   "cell_type": "code",
   "execution_count": null,
   "id": "bccd7235",
   "metadata": {},
   "outputs": [],
   "source": []
  },
  {
   "cell_type": "code",
   "execution_count": null,
   "id": "aca20c8a",
   "metadata": {},
   "outputs": [],
   "source": []
  },
  {
   "cell_type": "markdown",
   "id": "7346d8bc",
   "metadata": {},
   "source": []
  },
  {
   "cell_type": "code",
   "execution_count": null,
   "id": "5b0e9890",
   "metadata": {},
   "outputs": [],
   "source": []
  },
  {
   "cell_type": "code",
   "execution_count": null,
   "id": "dbc5c30a",
   "metadata": {},
   "outputs": [],
   "source": []
  },
  {
   "cell_type": "markdown",
   "id": "367c5599",
   "metadata": {},
   "source": []
  },
  {
   "cell_type": "code",
   "execution_count": null,
   "id": "10a3a7f0",
   "metadata": {},
   "outputs": [],
   "source": []
  },
  {
   "cell_type": "code",
   "execution_count": null,
   "id": "73809834",
   "metadata": {},
   "outputs": [],
   "source": []
  },
  {
   "cell_type": "markdown",
   "id": "dbc486fa",
   "metadata": {},
   "source": []
  },
  {
   "cell_type": "code",
   "execution_count": null,
   "id": "c45d792f",
   "metadata": {},
   "outputs": [],
   "source": []
  },
  {
   "cell_type": "code",
   "execution_count": null,
   "id": "b87393b2",
   "metadata": {},
   "outputs": [],
   "source": []
  },
  {
   "cell_type": "markdown",
   "id": "a337a305",
   "metadata": {},
   "source": []
  },
  {
   "cell_type": "code",
   "execution_count": null,
   "id": "8a6595bf",
   "metadata": {},
   "outputs": [],
   "source": []
  },
  {
   "cell_type": "code",
   "execution_count": null,
   "id": "b15d6b12",
   "metadata": {},
   "outputs": [],
   "source": []
  },
  {
   "cell_type": "markdown",
   "id": "2f369a6e",
   "metadata": {},
   "source": []
  },
  {
   "cell_type": "code",
   "execution_count": null,
   "id": "f5fe365a",
   "metadata": {},
   "outputs": [],
   "source": []
  },
  {
   "cell_type": "code",
   "execution_count": null,
   "id": "7f3f3982",
   "metadata": {},
   "outputs": [],
   "source": []
  },
  {
   "cell_type": "markdown",
   "id": "327fa0ad",
   "metadata": {},
   "source": []
  },
  {
   "cell_type": "code",
   "execution_count": null,
   "id": "a67a7feb",
   "metadata": {},
   "outputs": [],
   "source": []
  },
  {
   "cell_type": "code",
   "execution_count": null,
   "id": "773bbb9d",
   "metadata": {},
   "outputs": [],
   "source": []
  },
  {
   "cell_type": "markdown",
   "id": "dfd4d581",
   "metadata": {},
   "source": []
  },
  {
   "cell_type": "code",
   "execution_count": null,
   "id": "6ebf0a92",
   "metadata": {},
   "outputs": [],
   "source": []
  },
  {
   "cell_type": "code",
   "execution_count": null,
   "id": "e9cf506a",
   "metadata": {},
   "outputs": [],
   "source": []
  },
  {
   "cell_type": "code",
   "execution_count": null,
   "id": "5d515ca3",
   "metadata": {},
   "outputs": [],
   "source": []
  }
 ],
 "metadata": {
  "kernelspec": {
   "display_name": "Python 3 (ipykernel)",
   "language": "python",
   "name": "python3"
  },
  "language_info": {
   "codemirror_mode": {
    "name": "ipython",
    "version": 3
   },
   "file_extension": ".py",
   "mimetype": "text/x-python",
   "name": "python",
   "nbconvert_exporter": "python",
   "pygments_lexer": "ipython3",
   "version": "3.9.10"
  }
 },
 "nbformat": 4,
 "nbformat_minor": 5
}
