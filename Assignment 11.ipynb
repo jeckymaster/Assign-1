{
 "cells": [
  {
   "cell_type": "markdown",
   "id": "403d5a55",
   "metadata": {},
   "source": [
    "1. Create an assert statement that throws an AssertionError if the variable spam is a negative integer."
   ]
  },
  {
   "cell_type": "code",
   "execution_count": 2,
   "id": "f84118c2",
   "metadata": {},
   "outputs": [
    {
     "ename": "AssertionError",
     "evalue": "spam should not be a negative integer",
     "output_type": "error",
     "traceback": [
      "\u001b[1;31m---------------------------------------------------------------------------\u001b[0m",
      "\u001b[1;31mAssertionError\u001b[0m                            Traceback (most recent call last)",
      "Input \u001b[1;32mIn [2]\u001b[0m, in \u001b[0;36m<cell line: 2>\u001b[1;34m()\u001b[0m\n\u001b[0;32m      1\u001b[0m spam \u001b[38;5;241m=\u001b[39m \u001b[38;5;241m-\u001b[39m\u001b[38;5;241m2\u001b[39m\n\u001b[1;32m----> 2\u001b[0m \u001b[38;5;28;01massert\u001b[39;00m spam \u001b[38;5;241m>\u001b[39m\u001b[38;5;241m=\u001b[39m \u001b[38;5;241m0\u001b[39m, \u001b[38;5;124m\"\u001b[39m\u001b[38;5;124mspam should not be a negative integer\u001b[39m\u001b[38;5;124m\"\u001b[39m\n",
      "\u001b[1;31mAssertionError\u001b[0m: spam should not be a negative integer"
     ]
    }
   ],
   "source": [
    "spam = -2\n",
    "assert spam >= 0, \"spam should not be a negative integer\""
   ]
  },
  {
   "cell_type": "markdown",
   "id": "18294478",
   "metadata": {},
   "source": [
    "2. Write an assert statement that triggers an AssertionError if the variables eggs and bacon contain strings that are the same as each other, even if their cases are different (that is, 'hello' and 'hello' are considered the same, and 'goodbye' and 'GOODbye' are also considered the same)."
   ]
  },
  {
   "cell_type": "code",
   "execution_count": 3,
   "id": "fcd5f467",
   "metadata": {},
   "outputs": [
    {
     "ename": "AssertionError",
     "evalue": "eggs and bacon should not have the same string value, regardless of case",
     "output_type": "error",
     "traceback": [
      "\u001b[1;31m---------------------------------------------------------------------------\u001b[0m",
      "\u001b[1;31mAssertionError\u001b[0m                            Traceback (most recent call last)",
      "Input \u001b[1;32mIn [3]\u001b[0m, in \u001b[0;36m<cell line: 5>\u001b[1;34m()\u001b[0m\n\u001b[0;32m      1\u001b[0m eggs\u001b[38;5;241m=\u001b[39m \u001b[38;5;124m\"\u001b[39m\u001b[38;5;124mhello, goodbye\u001b[39m\u001b[38;5;124m\"\u001b[39m\n\u001b[0;32m      2\u001b[0m bacon\u001b[38;5;241m=\u001b[39m \u001b[38;5;124m\"\u001b[39m\u001b[38;5;124mhello, GOODbye\u001b[39m\u001b[38;5;124m\"\u001b[39m\n\u001b[1;32m----> 5\u001b[0m \u001b[38;5;28;01massert\u001b[39;00m eggs\u001b[38;5;241m.\u001b[39mlower() \u001b[38;5;241m!=\u001b[39m bacon\u001b[38;5;241m.\u001b[39mlower(), \u001b[38;5;124m\"\u001b[39m\u001b[38;5;124meggs and bacon should not have the same string value, regardless of case\u001b[39m\u001b[38;5;124m\"\u001b[39m\n",
      "\u001b[1;31mAssertionError\u001b[0m: eggs and bacon should not have the same string value, regardless of case"
     ]
    }
   ],
   "source": [
    "eggs= \"hello, goodbye\"\n",
    "bacon= \"hello, GOODbye\"\n",
    "\n",
    "\n",
    "assert eggs.lower() != bacon.lower(), \"eggs and bacon should not have the same string value, regardless of case\""
   ]
  },
  {
   "cell_type": "markdown",
   "id": "2db31f04",
   "metadata": {},
   "source": [
    "3. Create an assert statement that throws an AssertionError every time."
   ]
  },
  {
   "cell_type": "code",
   "execution_count": 5,
   "id": "05a6dd69",
   "metadata": {},
   "outputs": [
    {
     "ename": "AssertionError",
     "evalue": "This assert statement will always throw and AssertionError.",
     "output_type": "error",
     "traceback": [
      "\u001b[1;31m---------------------------------------------------------------------------\u001b[0m",
      "\u001b[1;31mAssertionError\u001b[0m                            Traceback (most recent call last)",
      "Input \u001b[1;32mIn [5]\u001b[0m, in \u001b[0;36m<cell line: 2>\u001b[1;34m()\u001b[0m\n\u001b[0;32m      1\u001b[0m a \u001b[38;5;241m!=\u001b[39m\u001b[38;5;241m5\u001b[39m\n\u001b[1;32m----> 2\u001b[0m \u001b[38;5;28;01massert\u001b[39;00m \u001b[38;5;28;01mFalse\u001b[39;00m, \u001b[38;5;124m\"\u001b[39m\u001b[38;5;124mThis assert statement will always throw and AssertionError.\u001b[39m\u001b[38;5;124m\"\u001b[39m\n",
      "\u001b[1;31mAssertionError\u001b[0m: This assert statement will always throw and AssertionError."
     ]
    }
   ],
   "source": [
    "a !=5\n",
    "assert False, \"This assert statement will always throw and AssertionError.\""
   ]
  },
  {
   "cell_type": "markdown",
   "id": "5e374405",
   "metadata": {},
   "source": [
    "4. What are the two lines that must be present in your software in order to call logging.debug()?"
   ]
  },
  {
   "cell_type": "code",
   "execution_count": null,
   "id": "629e74d0",
   "metadata": {},
   "outputs": [],
   "source": [
    "import logging\n",
    "logging.basicConfig(level=logging.DEBUG)"
   ]
  },
  {
   "cell_type": "markdown",
   "id": "fbd7870c",
   "metadata": {},
   "source": [
    "5. What are the two lines that your program must have in order to have logging.debug() send a logging message to a file named programLog.txt?"
   ]
  },
  {
   "cell_type": "code",
   "execution_count": 7,
   "id": "78b9a423",
   "metadata": {},
   "outputs": [],
   "source": [
    "import logging\n",
    "logging.basicConfig(filename=\"programLog.txt\", level=logging.DEBUG)\n",
    "\n",
    "def my_function():\n",
    "    logging.DEBUG(\"This is a debug message\")\n"
   ]
  },
  {
   "cell_type": "code",
   "execution_count": 9,
   "id": "b43c896f",
   "metadata": {},
   "outputs": [
    {
     "ename": "TypeError",
     "evalue": "'int' object is not callable",
     "output_type": "error",
     "traceback": [
      "\u001b[1;31m---------------------------------------------------------------------------\u001b[0m",
      "\u001b[1;31mTypeError\u001b[0m                                 Traceback (most recent call last)",
      "Input \u001b[1;32mIn [9]\u001b[0m, in \u001b[0;36m<cell line: 1>\u001b[1;34m()\u001b[0m\n\u001b[1;32m----> 1\u001b[0m \u001b[43mmy_function\u001b[49m\u001b[43m(\u001b[49m\u001b[43m)\u001b[49m\n",
      "Input \u001b[1;32mIn [7]\u001b[0m, in \u001b[0;36mmy_function\u001b[1;34m()\u001b[0m\n\u001b[0;32m      4\u001b[0m \u001b[38;5;28;01mdef\u001b[39;00m \u001b[38;5;21mmy_function\u001b[39m():\n\u001b[1;32m----> 5\u001b[0m     \u001b[43mlogging\u001b[49m\u001b[38;5;241;43m.\u001b[39;49m\u001b[43mDEBUG\u001b[49m\u001b[43m(\u001b[49m\u001b[38;5;124;43m\"\u001b[39;49m\u001b[38;5;124;43mThis is a debug message\u001b[39;49m\u001b[38;5;124;43m\"\u001b[39;49m\u001b[43m)\u001b[49m\n",
      "\u001b[1;31mTypeError\u001b[0m: 'int' object is not callable"
     ]
    }
   ],
   "source": [
    "my_function()"
   ]
  },
  {
   "cell_type": "markdown",
   "id": "71a03e76",
   "metadata": {},
   "source": [
    "6. What are the five levels of logging?"
   ]
  },
  {
   "cell_type": "markdown",
   "id": "2128edeb",
   "metadata": {},
   "source": [
    "The five levels of logging module for log massages are as follows :\n",
    "    1. DEBUG    : Detailed information of diagnosing problems.\n",
    "    2. INFO     : General information about the program's operation.\n",
    "    3. WARNING  : An indication that something unexpected happened or about to happen.\n",
    "    4. ERROR    : Due to a more serious problem, the software has not been able to perform some fucntion.\n",
    "    5. CRITICAL : A very serious error, indicating that the program itself may be unable to continue running.\n",
    "    \n",
    "    where critical is low level and Debug is high level."
   ]
  },
  {
   "cell_type": "markdown",
   "id": "95d57ad6",
   "metadata": {},
   "source": [
    "7. What line of code would you add to your software to disable all logging messages?"
   ]
  },
  {
   "cell_type": "markdown",
   "id": "b3161acf",
   "metadata": {},
   "source": [
    "To desable all logging messages to the software, \n",
    "    logging.disable(logging.CRITICAL)"
   ]
  },
  {
   "cell_type": "markdown",
   "id": "3cc62f83",
   "metadata": {},
   "source": [
    "8. Why is using logging messages better than using print() to display the same message?"
   ]
  },
  {
   "cell_type": "markdown",
   "id": "4f06a66a",
   "metadata": {},
   "source": [
    "The logging messages are better than print() in below reasons\n",
    "    1. Granular control over that messages are displayed\n",
    "    2. configuration output destinations.\n",
    "    3. Ability to disable or enable messages globally.\n",
    "    4. Better performance\n",
    "Overall, using logging messages is more flexible, configurable and performant way to display the messages during program execution, perticularly when developing complex programs."
   ]
  },
  {
   "cell_type": "markdown",
   "id": "76eb5dfb",
   "metadata": {},
   "source": [
    "9. What are the differences between the Step Over, Step In, and Step Out buttons in the debugger?"
   ]
  },
  {
   "cell_type": "markdown",
   "id": "27355392",
   "metadata": {},
   "source": [
    "1. Step Over: This button allows you to execute the current line of code and then move to the next line, without stepping into any functions or methods that may be called on that line. If the current line contains a function call, the function will be executed, but the debugger will not step into it. Instead, it will return to the calling line after the function completes.\n",
    "\n",
    "2. Step In: This button allows you to execute the current line of code and then step into any functions or methods called on that line. If the current line contains a function call, the debugger will step into the function and pause at the first line of code inside the function. \n",
    "\n",
    "3. Step Out: This button allows you to execute the current function or method until it returns, and then pause at the calling line. If you're currently inside a function or method, this button will execute the remainder of the function and return to the calling line after it completes. "
   ]
  },
  {
   "cell_type": "markdown",
   "id": "3fad555e",
   "metadata": {},
   "source": [
    "10.After you click Continue, when will the debugger stop ?"
   ]
  },
  {
   "cell_type": "markdown",
   "id": "bb676349",
   "metadata": {},
   "source": [
    "After click Continue in a debugger, the program will continue to run normally until it encounters a breakpoint, an exception, or reaches the end of the program."
   ]
  },
  {
   "cell_type": "markdown",
   "id": "46fe0dcd",
   "metadata": {},
   "source": [
    "11. What is the concept of a breakpoint?"
   ]
  },
  {
   "cell_type": "markdown",
   "id": "345b9467",
   "metadata": {},
   "source": [
    "A breakpoint is a point in the code where the debugger will pause execution, allowing the programmer to inspect the state of the program and step through the code one line at a time."
   ]
  }
 ],
 "metadata": {
  "kernelspec": {
   "display_name": "Python 3 (ipykernel)",
   "language": "python",
   "name": "python3"
  },
  "language_info": {
   "codemirror_mode": {
    "name": "ipython",
    "version": 3
   },
   "file_extension": ".py",
   "mimetype": "text/x-python",
   "name": "python",
   "nbconvert_exporter": "python",
   "pygments_lexer": "ipython3",
   "version": "3.9.12"
  }
 },
 "nbformat": 4,
 "nbformat_minor": 5
}
