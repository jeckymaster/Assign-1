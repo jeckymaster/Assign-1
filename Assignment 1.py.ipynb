{
 "cells": [
  {
   "cell_type": "markdown",
   "id": "2574e965",
   "metadata": {},
   "source": [
    "1. In the below elements which of them are values or an expression? eg:- values can be integer or string and expressions will be mathematical operators.\n",
    "\n",
    "expression = * ; - ; / ; +\n",
    "\n",
    "values = 'hello' ; -87.8 ; 6"
   ]
  },
  {
   "cell_type": "markdown",
   "id": "fe47424f",
   "metadata": {},
   "source": [
    "2. What is the difference between string and variable?\n",
    "\n",
    "Variable is like empty box which can store the data in it.\n",
    "String is itself a data which can be stored in the variable."
   ]
  },
  {
   "cell_type": "markdown",
   "id": "e78ecb1a",
   "metadata": {},
   "source": [
    "3. Describe three different data types.\n",
    "\n",
    "There are many date types in python\n",
    "integer = It can me any number such as whole number or integers but no alphabet\n",
    "String  = Any sort of text or paragraph which must be written between \" \" be consider as string. It              could be alphabets, numbers or alphnumeric.\n",
    "Boolean = True or False, Value of True is 1 or Yes and False is 0 or No."
   ]
  },
  {
   "cell_type": "markdown",
   "id": "9c786495",
   "metadata": {},
   "source": [
    "4. What is an expression made up of? What do all expressions do?\n",
    "\n",
    "Expression in maths is made up of Variables, operators and operands. Expressions can be use for arrithmetic operations such as add, sub, multiply, divide etc, logical expressions like and, or, not etc"
   ]
  },
  {
   "cell_type": "markdown",
   "id": "d923b369",
   "metadata": {},
   "source": [
    "5. This assignment statements, like spam = 10. What is the difference between an expression and a statement?\n",
    "\n",
    "sorry not understand the question."
   ]
  },
  {
   "cell_type": "code",
   "execution_count": 2,
   "id": "ee793be8",
   "metadata": {},
   "outputs": [],
   "source": [
    "spam = 10"
   ]
  },
  {
   "cell_type": "markdown",
   "id": "9d49f20a",
   "metadata": {},
   "source": [
    "6. After running the following code, what does the variable bacon contain?\n",
    "bacon = 22\n",
    "bacon + 1"
   ]
  },
  {
   "cell_type": "code",
   "execution_count": 1,
   "id": "65f12568",
   "metadata": {},
   "outputs": [
    {
     "data": {
      "text/plain": [
       "23"
      ]
     },
     "execution_count": 1,
     "metadata": {},
     "output_type": "execute_result"
    }
   ],
   "source": [
    "bacon = 22\n",
    "bacon + 1"
   ]
  },
  {
   "cell_type": "markdown",
   "id": "95b9e068",
   "metadata": {},
   "source": [
    "7. What should the values of the following two terms be?\n",
    "'spam' + 'spamspam'\n",
    "'spam' * 3"
   ]
  },
  {
   "cell_type": "code",
   "execution_count": 3,
   "id": "31bba152",
   "metadata": {},
   "outputs": [
    {
     "data": {
      "text/plain": [
       "'spamspamspam'"
      ]
     },
     "execution_count": 3,
     "metadata": {},
     "output_type": "execute_result"
    }
   ],
   "source": [
    "'spam' + 'spamspam'"
   ]
  },
  {
   "cell_type": "code",
   "execution_count": 4,
   "id": "0d53d192",
   "metadata": {},
   "outputs": [
    {
     "data": {
      "text/plain": [
       "'spamspamspam'"
      ]
     },
     "execution_count": 4,
     "metadata": {},
     "output_type": "execute_result"
    }
   ],
   "source": [
    "'spam' * 3"
   ]
  },
  {
   "cell_type": "markdown",
   "id": "f41526ec",
   "metadata": {},
   "source": [
    "8. Why is eggs a valid variable name while 100 is invalid?\n",
    "\n"
   ]
  },
  {
   "cell_type": "markdown",
   "id": "a4072962",
   "metadata": {},
   "source": [
    "Ans  : because 100 is just consider as number it can not hold any other number or stirng or any other data whereas eggs can be use as box which can be used to store or hold any kind of data"
   ]
  },
  {
   "cell_type": "markdown",
   "id": "91314e4d",
   "metadata": {},
   "source": [
    "9. What three functions can be used to get the integer, floating-point number, or string\n",
    "version of a value?\n",
    "\n"
   ]
  },
  {
   "cell_type": "markdown",
   "id": "63103e1f",
   "metadata": {},
   "source": [
    "Ans : For integer - int()\n"
   ]
  },
  {
   "cell_type": "markdown",
   "id": "282158dd",
   "metadata": {},
   "source": [
    "For floating-point - flot()\n"
   ]
  },
  {
   "cell_type": "markdown",
   "id": "f9dfd63b",
   "metadata": {},
   "source": [
    "For string - str()"
   ]
  },
  {
   "cell_type": "markdown",
   "id": "1f6b6efd",
   "metadata": {},
   "source": [
    "10. Why does this expression cause an error? How can you fix it?\n",
    "'I have eaten' + 99 + 'burritos.'\n",
    "\n",
    "because there are two string 'I have eaten' and 'burritos.' but 99 is an integer so it can not join\n",
    "To overcome the error 99 should be written as '99'"
   ]
  },
  {
   "cell_type": "code",
   "execution_count": 9,
   "id": "3f4eb4ef",
   "metadata": {},
   "outputs": [
    {
     "data": {
      "text/plain": [
       "'I have eaten99burritos.'"
      ]
     },
     "execution_count": 9,
     "metadata": {},
     "output_type": "execute_result"
    }
   ],
   "source": [
    "'I have eaten' + '99' + 'burritos.'"
   ]
  }
 ],
 "metadata": {
  "kernelspec": {
   "display_name": "Python 3 (ipykernel)",
   "language": "python",
   "name": "python3"
  },
  "language_info": {
   "codemirror_mode": {
    "name": "ipython",
    "version": 3
   },
   "file_extension": ".py",
   "mimetype": "text/x-python",
   "name": "python",
   "nbconvert_exporter": "python",
   "pygments_lexer": "ipython3",
   "version": "3.9.12"
  }
 },
 "nbformat": 4,
 "nbformat_minor": 5
}
