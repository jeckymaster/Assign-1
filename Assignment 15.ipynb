{
 "cells": [
  {
   "cell_type": "markdown",
   "id": "c3e71b0a",
   "metadata": {},
   "source": [
    "1. How many seconds are in an hour? Use the interactive interpreter as a calculator and multiply the number of seconds in a minute (60) by the number of minutes in an hour (also 60)."
   ]
  },
  {
   "cell_type": "markdown",
   "id": "5f39aa40",
   "metadata": {},
   "source": [
    "    There are 60 seconds in a minute and there are 60 minutes in an hour.\n",
    "    so, There are total 60 x 60 = 3600 seconds in an hour."
   ]
  },
  {
   "cell_type": "code",
   "execution_count": 1,
   "id": "77d82737",
   "metadata": {},
   "outputs": [
    {
     "data": {
      "text/plain": [
       "3600"
      ]
     },
     "execution_count": 1,
     "metadata": {},
     "output_type": "execute_result"
    }
   ],
   "source": [
    "60 * 60"
   ]
  },
  {
   "cell_type": "markdown",
   "id": "962e63ab",
   "metadata": {},
   "source": [
    "2. Assign the result from the previous task (seconds in an hour) to a variable called seconds_per_hour."
   ]
  },
  {
   "cell_type": "code",
   "execution_count": 3,
   "id": "fda81600",
   "metadata": {},
   "outputs": [
    {
     "data": {
      "text/plain": [
       "3600"
      ]
     },
     "execution_count": 3,
     "metadata": {},
     "output_type": "execute_result"
    }
   ],
   "source": [
    "seconds_per_hour = 60*60\n",
    "seconds_per_hour"
   ]
  },
  {
   "cell_type": "markdown",
   "id": "6a00e4fd",
   "metadata": {},
   "source": [
    "3. How many seconds do you think there are in a day? Make use of the variables seconds per hour and minutes per hour. "
   ]
  },
  {
   "cell_type": "code",
   "execution_count": 8,
   "id": "4936ea10",
   "metadata": {},
   "outputs": [
    {
     "name": "stdout",
     "output_type": "stream",
     "text": [
      "there are 86400 in a day\n"
     ]
    }
   ],
   "source": [
    "seconds_per_minutes = 60\n",
    "minutes_per_hour = 60\n",
    "hours_per_day = 24\n",
    "print(f\"there are {seconds_per_minutes*minutes_per_hour*hours_per_day} in a day\")"
   ]
  },
  {
   "cell_type": "markdown",
   "id": "5104ab6d",
   "metadata": {},
   "source": [
    "4. Calculate seconds per day again, but this time save the result in a variable called seconds_per_day"
   ]
  },
  {
   "cell_type": "code",
   "execution_count": 9,
   "id": "0357a8ca",
   "metadata": {},
   "outputs": [
    {
     "data": {
      "text/plain": [
       "86400"
      ]
     },
     "execution_count": 9,
     "metadata": {},
     "output_type": "execute_result"
    }
   ],
   "source": [
    "seconds_per_day = seconds_per_minutes*minutes_per_hour*hours_per_day\n",
    "seconds_per_day"
   ]
  },
  {
   "cell_type": "markdown",
   "id": "18aabcf8",
   "metadata": {},
   "source": [
    "5. Divide seconds_per_day by seconds_per_hour. Use floating-point (/) division."
   ]
  },
  {
   "cell_type": "code",
   "execution_count": 11,
   "id": "42f8a621",
   "metadata": {},
   "outputs": [
    {
     "data": {
      "text/plain": [
       "24.0"
      ]
     },
     "execution_count": 11,
     "metadata": {},
     "output_type": "execute_result"
    }
   ],
   "source": [
    "div1 = seconds_per_day/seconds_per_hour\n",
    "div1"
   ]
  },
  {
   "cell_type": "markdown",
   "id": "d5676ddc",
   "metadata": {},
   "source": [
    "6. Divide seconds_per_day by seconds_per_hour, using integer (//) division. Did this number agree with the floating-point value from the previous question, aside from the final .0?"
   ]
  },
  {
   "cell_type": "code",
   "execution_count": 12,
   "id": "0e591cad",
   "metadata": {},
   "outputs": [
    {
     "data": {
      "text/plain": [
       "24"
      ]
     },
     "execution_count": 12,
     "metadata": {},
     "output_type": "execute_result"
    }
   ],
   "source": [
    "div2 = seconds_per_day//seconds_per_hour\n",
    "div2"
   ]
  },
  {
   "cell_type": "markdown",
   "id": "3129f19c",
   "metadata": {},
   "source": [
    "    This is the same as the floating-point division result from the previous question, aside from the final .0 in the floating-point result, which is not present in the integer division result. This is because integer division discards any fractional part of the result, whereas floating-point division returns a floating-point number that includes any fractional part."
   ]
  },
  {
   "cell_type": "markdown",
   "id": "e339b7af",
   "metadata": {},
   "source": [
    "7. Write a generator, genPrimes, that returns the sequence of prime numbers on successive calls to its next() method: 2, 3, 5, 7, 11, ..."
   ]
  },
  {
   "cell_type": "code",
   "execution_count": 29,
   "id": "1d2ab967",
   "metadata": {},
   "outputs": [],
   "source": [
    "def genPrimes():\n",
    "    primes = [2] # start with the first prime number\n",
    "    \n",
    "    yield primes[0] # yield the first prime number\n",
    "    \n",
    "    n = 3 # lets check the first primes from the next odd number\n",
    "    \n",
    "    while True:\n",
    "        is_prime = True\n",
    "        \n",
    "        for p in primes:\n",
    "            if p**2 > n:             # if p^2 > n, no need to check further primes\n",
    "                break\n",
    "            if n % p == 0:           # n is divisible by a prime, so it is not a prime\n",
    "                is_prime = False\n",
    "                break\n",
    "                \n",
    "        if is_prime:\n",
    "            primes.append(n)\n",
    "            yield n\n",
    "        \n",
    "        n += 2"
   ]
  },
  {
   "cell_type": "code",
   "execution_count": 34,
   "id": "60c0bde2",
   "metadata": {},
   "outputs": [
    {
     "name": "stdout",
     "output_type": "stream",
     "text": [
      "2\n",
      "3\n",
      "5\n",
      "7\n",
      "11\n",
      "13\n",
      "17\n"
     ]
    }
   ],
   "source": [
    "g = genPrimes()\n",
    "print(next(g))  # 2\n",
    "print(next(g))  # 3\n",
    "print(next(g))  # 5\n",
    "print(next(g))  # 7\n",
    "print(next(g))  # 11\n",
    "print(next(g))  # 13\n",
    "print(next(g))  # 17"
   ]
  },
  {
   "cell_type": "markdown",
   "id": "1bfbb622",
   "metadata": {},
   "source": []
  },
  {
   "cell_type": "markdown",
   "id": "4189c066",
   "metadata": {},
   "source": []
  },
  {
   "cell_type": "markdown",
   "id": "c545479a",
   "metadata": {},
   "source": []
  },
  {
   "cell_type": "markdown",
   "id": "30ab5a54",
   "metadata": {},
   "source": []
  },
  {
   "cell_type": "markdown",
   "id": "1ae24417",
   "metadata": {},
   "source": []
  },
  {
   "cell_type": "markdown",
   "id": "1537f668",
   "metadata": {},
   "source": []
  },
  {
   "cell_type": "markdown",
   "id": "4bfea69f",
   "metadata": {},
   "source": []
  },
  {
   "cell_type": "markdown",
   "id": "732e63a6",
   "metadata": {},
   "source": []
  },
  {
   "cell_type": "markdown",
   "id": "7346d8bc",
   "metadata": {},
   "source": []
  },
  {
   "cell_type": "markdown",
   "id": "a4450c92",
   "metadata": {},
   "source": []
  },
  {
   "cell_type": "markdown",
   "id": "07a32291",
   "metadata": {},
   "source": []
  },
  {
   "cell_type": "markdown",
   "id": "7254cf5c",
   "metadata": {},
   "source": []
  },
  {
   "cell_type": "markdown",
   "id": "367c5599",
   "metadata": {},
   "source": []
  },
  {
   "cell_type": "markdown",
   "id": "464de133",
   "metadata": {},
   "source": []
  },
  {
   "cell_type": "markdown",
   "id": "b791eb7b",
   "metadata": {},
   "source": []
  },
  {
   "cell_type": "markdown",
   "id": "dbc486fa",
   "metadata": {},
   "source": []
  },
  {
   "cell_type": "markdown",
   "id": "e5f5a6df",
   "metadata": {},
   "source": []
  },
  {
   "cell_type": "markdown",
   "id": "a1e63c23",
   "metadata": {},
   "source": []
  },
  {
   "cell_type": "markdown",
   "id": "a337a305",
   "metadata": {},
   "source": []
  },
  {
   "cell_type": "markdown",
   "id": "f6ff5b42",
   "metadata": {},
   "source": []
  },
  {
   "cell_type": "markdown",
   "id": "98c64573",
   "metadata": {},
   "source": []
  },
  {
   "cell_type": "markdown",
   "id": "2f369a6e",
   "metadata": {},
   "source": []
  },
  {
   "cell_type": "markdown",
   "id": "e8308bfd",
   "metadata": {},
   "source": []
  },
  {
   "cell_type": "markdown",
   "id": "02d0b8b7",
   "metadata": {},
   "source": []
  },
  {
   "cell_type": "markdown",
   "id": "327fa0ad",
   "metadata": {},
   "source": []
  },
  {
   "cell_type": "markdown",
   "id": "cd41b8d4",
   "metadata": {},
   "source": []
  },
  {
   "cell_type": "markdown",
   "id": "ea48e16b",
   "metadata": {},
   "source": []
  },
  {
   "cell_type": "markdown",
   "id": "dfd4d581",
   "metadata": {},
   "source": []
  },
  {
   "cell_type": "markdown",
   "id": "be56a8a0",
   "metadata": {},
   "source": []
  },
  {
   "cell_type": "markdown",
   "id": "83894195",
   "metadata": {},
   "source": []
  },
  {
   "cell_type": "markdown",
   "id": "f89968d2",
   "metadata": {},
   "source": []
  }
 ],
 "metadata": {
  "kernelspec": {
   "display_name": "Python 3 (ipykernel)",
   "language": "python",
   "name": "python3"
  },
  "language_info": {
   "codemirror_mode": {
    "name": "ipython",
    "version": 3
   },
   "file_extension": ".py",
   "mimetype": "text/x-python",
   "name": "python",
   "nbconvert_exporter": "python",
   "pygments_lexer": "ipython3",
   "version": "3.9.10"
  }
 },
 "nbformat": 4,
 "nbformat_minor": 5
}
