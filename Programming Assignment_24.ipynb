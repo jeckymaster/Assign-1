{
 "cells": [
  {
   "cell_type": "markdown",
   "id": "c3e71b0a",
   "metadata": {},
   "source": [
    "Question1\n",
    "\n",
    "Create a function that takes an integer and returns a list from 1 to the given number, where:\n",
    "1.\tIf the number can be divided evenly by 4, amplify it by 10 (i.e. return 10 times the number).\n",
    "2.\tIf the number cannot be divided evenly by 4, simply return the number.\n",
    "\n",
    "Examples\n",
    "\n",
    "amplify(4) ➞ [1, 2, 3, 40]\n",
    "\n",
    "amplify(3) ➞ [1, 2, 3]\n",
    "\n",
    "amplify(25) ➞ [1, 2, 3, 40, 5, 6, 7, 80, 9, 10, 11, 120, 13, 14, 15, 160, 17, 18, 19, 200, 21, 22, 23, 240, 25]\n",
    "\n",
    "Notes\n",
    "\n",
    "-\tThe given integer will always be equal to or greater than 1.\n",
    "-\tInclude the number (see example above).\n",
    "-\tTo perform this problem with its intended purpose, try doing it with list comprehensions. If that's too difficult, just solve the challenge any way you can.\n"
   ]
  },
  {
   "cell_type": "code",
   "execution_count": 23,
   "id": "fc84d612",
   "metadata": {},
   "outputs": [],
   "source": [
    "def amplify(n):\n",
    "    output = []\n",
    "    for i in range(1, n+1):\n",
    "        if i % 4 != 0:\n",
    "            output.append(i)\n",
    "        else:\n",
    "            output.append(i*10)\n",
    "    return output"
   ]
  },
  {
   "cell_type": "code",
   "execution_count": 24,
   "id": "665ccaf4",
   "metadata": {},
   "outputs": [
    {
     "data": {
      "text/plain": [
       "[1, 2, 3, 40]"
      ]
     },
     "execution_count": 24,
     "metadata": {},
     "output_type": "execute_result"
    }
   ],
   "source": [
    "amplify(4)"
   ]
  },
  {
   "cell_type": "code",
   "execution_count": 25,
   "id": "ba265931",
   "metadata": {},
   "outputs": [
    {
     "data": {
      "text/plain": [
       "[1, 2, 3]"
      ]
     },
     "execution_count": 25,
     "metadata": {},
     "output_type": "execute_result"
    }
   ],
   "source": [
    "amplify(3)"
   ]
  },
  {
   "cell_type": "code",
   "execution_count": 26,
   "id": "0b426a20",
   "metadata": {},
   "outputs": [
    {
     "data": {
      "text/plain": [
       "[1,\n",
       " 2,\n",
       " 3,\n",
       " 40,\n",
       " 5,\n",
       " 6,\n",
       " 7,\n",
       " 80,\n",
       " 9,\n",
       " 10,\n",
       " 11,\n",
       " 120,\n",
       " 13,\n",
       " 14,\n",
       " 15,\n",
       " 160,\n",
       " 17,\n",
       " 18,\n",
       " 19,\n",
       " 200,\n",
       " 21,\n",
       " 22,\n",
       " 23,\n",
       " 240,\n",
       " 25]"
      ]
     },
     "execution_count": 26,
     "metadata": {},
     "output_type": "execute_result"
    }
   ],
   "source": [
    "amplify(25)"
   ]
  },
  {
   "cell_type": "markdown",
   "id": "6a00e4fd",
   "metadata": {},
   "source": [
    "Question2\n",
    "\n",
    "Create a function that takes a list of numbers and return the number that's unique.\n",
    "\n",
    "Examples\n",
    "\n",
    "unique([3, 3, 3, 7, 3, 3]) ➞ 7\n",
    "\n",
    "unique([0, 0, 0.77, 0, 0]) ➞ 0.77\n",
    "\n",
    "unique([0, 1, 1, 1, 1, 1, 1, 1]) ➞ 0\n",
    "\n",
    "Notes\n",
    "\n",
    "Test cases will always have exactly one unique number while all others are the same.\n"
   ]
  },
  {
   "cell_type": "code",
   "execution_count": 27,
   "id": "83cf7d14",
   "metadata": {},
   "outputs": [],
   "source": [
    "def unique(lst):\n",
    "    count ={}\n",
    "    for i in lst:\n",
    "        if i in count:\n",
    "            count[i] +=1\n",
    "        else:\n",
    "            count[i] = 1\n",
    "    \n",
    "    for i, count in count.items():\n",
    "        if count == 1:\n",
    "            return i\n",
    "        "
   ]
  },
  {
   "cell_type": "code",
   "execution_count": 28,
   "id": "ceb8218f",
   "metadata": {},
   "outputs": [
    {
     "data": {
      "text/plain": [
       "7"
      ]
     },
     "execution_count": 28,
     "metadata": {},
     "output_type": "execute_result"
    }
   ],
   "source": [
    "unique([3, 3, 3, 7, 3, 3])        "
   ]
  },
  {
   "cell_type": "code",
   "execution_count": 29,
   "id": "d14ceb38",
   "metadata": {},
   "outputs": [
    {
     "data": {
      "text/plain": [
       "0.77"
      ]
     },
     "execution_count": 29,
     "metadata": {},
     "output_type": "execute_result"
    }
   ],
   "source": [
    "unique([0, 0, 0.77, 0, 0])"
   ]
  },
  {
   "cell_type": "code",
   "execution_count": 30,
   "id": "34e0246a",
   "metadata": {},
   "outputs": [
    {
     "data": {
      "text/plain": [
       "0"
      ]
     },
     "execution_count": 30,
     "metadata": {},
     "output_type": "execute_result"
    }
   ],
   "source": [
    "unique([0, 1, 1, 1, 1, 1, 1, 1])"
   ]
  },
  {
   "cell_type": "code",
   "execution_count": null,
   "id": "b747b9c6",
   "metadata": {},
   "outputs": [],
   "source": []
  },
  {
   "cell_type": "markdown",
   "id": "18aabcf8",
   "metadata": {},
   "source": [
    "Question3\n",
    "\n",
    "Your task is to create a Circle constructor that creates a circle with a radius provided by an argument. The circles constructed must have two getters getArea() (PIr^2) and getPerimeter() (2PI*r) which give both respective areas and perimeter (circumference).\n",
    "\n",
    "For help with this class, I have provided you with a Rectangle constructor which you can use as a base example.\n",
    "\n",
    "Examples\n",
    "\n",
    "circy = Circle(11)\n",
    "\n",
    "circy.getArea()\n",
    "\n",
    "- Should return 380.132711084365\n",
    "\n",
    "circy = Circle(4.44)\n",
    "\n",
    "circy.getPerimeter()\n",
    "\n",
    "- Should return 27.897342763877365\n",
    "\n",
    "Notes\n",
    "\n",
    "Round results up to the nearest integer.\n"
   ]
  },
  {
   "cell_type": "code",
   "execution_count": 17,
   "id": "28919b03",
   "metadata": {},
   "outputs": [],
   "source": [
    "import math\n",
    "class Circle:\n",
    "    def __init__(self, radius):\n",
    "        self.radius = radius\n",
    "    \n",
    "    def getArea(self):\n",
    "        return round(math.pi * self.radius**2,0)\n",
    "    \n",
    "    def getPerimeter(self):\n",
    "        return round(2 * math.pi * self.radius,0)"
   ]
  },
  {
   "cell_type": "code",
   "execution_count": 15,
   "id": "6315ef94",
   "metadata": {},
   "outputs": [
    {
     "data": {
      "text/plain": [
       "380.0"
      ]
     },
     "execution_count": 15,
     "metadata": {},
     "output_type": "execute_result"
    }
   ],
   "source": [
    "circy = Circle(11)\n",
    "\n",
    "circy.getArea()"
   ]
  },
  {
   "cell_type": "code",
   "execution_count": 18,
   "id": "00190d26",
   "metadata": {},
   "outputs": [
    {
     "data": {
      "text/plain": [
       "28.0"
      ]
     },
     "execution_count": 18,
     "metadata": {},
     "output_type": "execute_result"
    }
   ],
   "source": [
    "circy = Circle(4.44)\n",
    "\n",
    "circy.getPerimeter()"
   ]
  },
  {
   "cell_type": "markdown",
   "id": "e339b7af",
   "metadata": {},
   "source": [
    "Question4\n",
    "\n",
    "Create a function that takes a list of strings and return a list, sorted from shortest to longest.\n",
    "\n",
    "Examples\n",
    "\n",
    "sort_by_length([\"Google\", \"Apple\", \"Microsoft\"])\n",
    "- [\"Apple\", \"Google\", \"Microsoft\"]\n",
    "\n",
    "sort_by_length([\"Leonardo\", \"Michelangelo\", \"Raphael\", \"Donatello\"])\n",
    "- [\"Raphael\", \"Leonardo\", \"Donatello\", \"Michelangelo\"]\n",
    "\n",
    "sort_by_length([\"Turing\", \"Einstein\", \"Jung\"])\n",
    "- [\"Jung\", \"Turing\", \"Einstein\"]\n",
    "\n",
    "Notes\n",
    "\n",
    "All test cases contain lists with strings of different lengths, so you won't have to deal with multiple strings of the same length.\n"
   ]
  },
  {
   "cell_type": "code",
   "execution_count": 32,
   "id": "304eafb8",
   "metadata": {},
   "outputs": [],
   "source": [
    "def sort_by_length(lst):\n",
    "    return sorted(lst, key = len)"
   ]
  },
  {
   "cell_type": "code",
   "execution_count": 33,
   "id": "a884e451",
   "metadata": {},
   "outputs": [
    {
     "data": {
      "text/plain": [
       "['Apple', 'Google', 'Microsoft']"
      ]
     },
     "execution_count": 33,
     "metadata": {},
     "output_type": "execute_result"
    }
   ],
   "source": [
    "sort_by_length([\"Google\", \"Apple\", \"Microsoft\"])"
   ]
  },
  {
   "cell_type": "code",
   "execution_count": 34,
   "id": "148860aa",
   "metadata": {},
   "outputs": [
    {
     "data": {
      "text/plain": [
       "['Raphael', 'Leonardo', 'Donatello', 'Michelangelo']"
      ]
     },
     "execution_count": 34,
     "metadata": {},
     "output_type": "execute_result"
    }
   ],
   "source": [
    "sort_by_length([\"Leonardo\", \"Michelangelo\", \"Raphael\", \"Donatello\"])"
   ]
  },
  {
   "cell_type": "code",
   "execution_count": 35,
   "id": "19faab6c",
   "metadata": {},
   "outputs": [
    {
     "data": {
      "text/plain": [
       "['Jung', 'Turing', 'Einstein']"
      ]
     },
     "execution_count": 35,
     "metadata": {},
     "output_type": "execute_result"
    }
   ],
   "source": [
    "sort_by_length([\"Turing\", \"Einstein\", \"Jung\"])"
   ]
  },
  {
   "cell_type": "code",
   "execution_count": null,
   "id": "fb590528",
   "metadata": {},
   "outputs": [],
   "source": []
  },
  {
   "cell_type": "markdown",
   "id": "ea77b4e7",
   "metadata": {},
   "source": [
    "Question5\n",
    "Create a function that validates whether three given integers form a Pythagorean triplet. The sum of the squares of the two smallest integers must equal the square of the largest number to be validated.\n",
    "\n",
    "\n",
    "Examples\n",
    "\n",
    "is_triplet(3, 4, 5) ➞ True\n",
    "- 3² + 4² = 25\n",
    "- 5² = 25\n",
    "\n",
    "is_triplet(13, 5, 12) ➞ True\n",
    "- 5² + 12² = 169\n",
    "- 13² = 169\n",
    "\n",
    "is_triplet(1, 2, 3) ➞ False\n",
    "- 1² + 2² = 5\n",
    "- 3² = 9\n",
    "\n",
    "Notes\n",
    "\n",
    "Numbers may not be given in a sorted order.\n"
   ]
  },
  {
   "cell_type": "code",
   "execution_count": 4,
   "id": "5d498403",
   "metadata": {},
   "outputs": [],
   "source": [
    "def is_triplet(a, b, c):\n",
    "    if a > b and a > c:\n",
    "        sq_sum = b**2 + c**2\n",
    "        if sq_sum != a**2:\n",
    "            return False\n",
    "    elif b > a and b > c:\n",
    "        sq_sum_1 = a**2 + c**2\n",
    "        if sq_sum_1 != b**2:\n",
    "            return False\n",
    "    else:\n",
    "        sq_sum_2 = a**2 + b**2\n",
    "        if sq_sum_2 != c**2:\n",
    "            return False\n",
    "    return True"
   ]
  },
  {
   "cell_type": "code",
   "execution_count": 5,
   "id": "1640b014",
   "metadata": {},
   "outputs": [
    {
     "data": {
      "text/plain": [
       "True"
      ]
     },
     "execution_count": 5,
     "metadata": {},
     "output_type": "execute_result"
    }
   ],
   "source": [
    "is_triplet(3, 4, 5)"
   ]
  },
  {
   "cell_type": "code",
   "execution_count": 6,
   "id": "b090326f",
   "metadata": {},
   "outputs": [
    {
     "data": {
      "text/plain": [
       "True"
      ]
     },
     "execution_count": 6,
     "metadata": {},
     "output_type": "execute_result"
    }
   ],
   "source": [
    "is_triplet(13, 5, 12)"
   ]
  },
  {
   "cell_type": "code",
   "execution_count": 7,
   "id": "b066b87b",
   "metadata": {},
   "outputs": [
    {
     "data": {
      "text/plain": [
       "False"
      ]
     },
     "execution_count": 7,
     "metadata": {},
     "output_type": "execute_result"
    }
   ],
   "source": [
    "is_triplet(1, 2, 3)"
   ]
  },
  {
   "cell_type": "code",
   "execution_count": 8,
   "id": "ff817e0e",
   "metadata": {},
   "outputs": [
    {
     "data": {
      "text/plain": [
       "True"
      ]
     },
     "execution_count": 8,
     "metadata": {},
     "output_type": "execute_result"
    }
   ],
   "source": [
    "is_triplet(80, 82, 18)"
   ]
  },
  {
   "cell_type": "markdown",
   "id": "905c4b60",
   "metadata": {},
   "source": []
  },
  {
   "cell_type": "code",
   "execution_count": null,
   "id": "2531a58d",
   "metadata": {},
   "outputs": [],
   "source": []
  },
  {
   "cell_type": "code",
   "execution_count": null,
   "id": "b8a92c81",
   "metadata": {},
   "outputs": [],
   "source": []
  },
  {
   "cell_type": "markdown",
   "id": "4189c066",
   "metadata": {},
   "source": []
  },
  {
   "cell_type": "code",
   "execution_count": null,
   "id": "e3edd366",
   "metadata": {},
   "outputs": [],
   "source": []
  },
  {
   "cell_type": "code",
   "execution_count": null,
   "id": "e38990db",
   "metadata": {},
   "outputs": [],
   "source": []
  },
  {
   "cell_type": "markdown",
   "id": "30ab5a54",
   "metadata": {},
   "source": []
  },
  {
   "cell_type": "code",
   "execution_count": null,
   "id": "7bd47d9b",
   "metadata": {},
   "outputs": [],
   "source": []
  },
  {
   "cell_type": "code",
   "execution_count": null,
   "id": "a72cc384",
   "metadata": {},
   "outputs": [],
   "source": []
  },
  {
   "cell_type": "markdown",
   "id": "4bfea69f",
   "metadata": {},
   "source": []
  },
  {
   "cell_type": "code",
   "execution_count": null,
   "id": "bccd7235",
   "metadata": {},
   "outputs": [],
   "source": []
  },
  {
   "cell_type": "code",
   "execution_count": null,
   "id": "aca20c8a",
   "metadata": {},
   "outputs": [],
   "source": []
  },
  {
   "cell_type": "markdown",
   "id": "7346d8bc",
   "metadata": {},
   "source": []
  },
  {
   "cell_type": "code",
   "execution_count": null,
   "id": "5b0e9890",
   "metadata": {},
   "outputs": [],
   "source": []
  },
  {
   "cell_type": "code",
   "execution_count": null,
   "id": "dbc5c30a",
   "metadata": {},
   "outputs": [],
   "source": []
  },
  {
   "cell_type": "markdown",
   "id": "367c5599",
   "metadata": {},
   "source": []
  },
  {
   "cell_type": "code",
   "execution_count": null,
   "id": "10a3a7f0",
   "metadata": {},
   "outputs": [],
   "source": []
  },
  {
   "cell_type": "code",
   "execution_count": null,
   "id": "73809834",
   "metadata": {},
   "outputs": [],
   "source": []
  },
  {
   "cell_type": "markdown",
   "id": "dbc486fa",
   "metadata": {},
   "source": []
  },
  {
   "cell_type": "code",
   "execution_count": null,
   "id": "c45d792f",
   "metadata": {},
   "outputs": [],
   "source": []
  },
  {
   "cell_type": "code",
   "execution_count": null,
   "id": "b87393b2",
   "metadata": {},
   "outputs": [],
   "source": []
  },
  {
   "cell_type": "markdown",
   "id": "a337a305",
   "metadata": {},
   "source": []
  },
  {
   "cell_type": "code",
   "execution_count": null,
   "id": "8a6595bf",
   "metadata": {},
   "outputs": [],
   "source": []
  },
  {
   "cell_type": "code",
   "execution_count": null,
   "id": "b15d6b12",
   "metadata": {},
   "outputs": [],
   "source": []
  },
  {
   "cell_type": "markdown",
   "id": "2f369a6e",
   "metadata": {},
   "source": []
  },
  {
   "cell_type": "code",
   "execution_count": null,
   "id": "f5fe365a",
   "metadata": {},
   "outputs": [],
   "source": []
  },
  {
   "cell_type": "code",
   "execution_count": null,
   "id": "7f3f3982",
   "metadata": {},
   "outputs": [],
   "source": []
  },
  {
   "cell_type": "markdown",
   "id": "327fa0ad",
   "metadata": {},
   "source": []
  },
  {
   "cell_type": "code",
   "execution_count": null,
   "id": "a67a7feb",
   "metadata": {},
   "outputs": [],
   "source": []
  },
  {
   "cell_type": "code",
   "execution_count": null,
   "id": "773bbb9d",
   "metadata": {},
   "outputs": [],
   "source": []
  },
  {
   "cell_type": "markdown",
   "id": "dfd4d581",
   "metadata": {},
   "source": []
  },
  {
   "cell_type": "code",
   "execution_count": null,
   "id": "6ebf0a92",
   "metadata": {},
   "outputs": [],
   "source": []
  },
  {
   "cell_type": "code",
   "execution_count": null,
   "id": "e9cf506a",
   "metadata": {},
   "outputs": [],
   "source": []
  },
  {
   "cell_type": "code",
   "execution_count": null,
   "id": "5d515ca3",
   "metadata": {},
   "outputs": [],
   "source": []
  }
 ],
 "metadata": {
  "kernelspec": {
   "display_name": "Python 3 (ipykernel)",
   "language": "python",
   "name": "python3"
  },
  "language_info": {
   "codemirror_mode": {
    "name": "ipython",
    "version": 3
   },
   "file_extension": ".py",
   "mimetype": "text/x-python",
   "name": "python",
   "nbconvert_exporter": "python",
   "pygments_lexer": "ipython3",
   "version": "3.9.10"
  }
 },
 "nbformat": 4,
 "nbformat_minor": 5
}
