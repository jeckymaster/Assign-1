{
 "cells": [
  {
   "cell_type": "markdown",
   "id": "46057ea4",
   "metadata": {},
   "source": [
    "1. To what does a relative path refer?"
   ]
  },
  {
   "cell_type": "markdown",
   "id": "1a2f61e1",
   "metadata": {},
   "source": [
    "    It is a path that specifies the location of a file or directory relative to the location of the program or file that is referencing it.\n",
    "\n",
    "    A relative path refers to a file or directory location relative to the current working directory or another known location in the file system. It specifies the path to a file or directory starting from the current directory or another reference point, rather than starting from the root directory of the file system.\n",
    "\n",
    "    For example, if the current directory is /home/user/Documents, a relative path to a file named example.txt located in the same directory would be ./example.txt, while a relative path to a file named file.txt located in a subdirectory named data would be ./data/file.txt."
   ]
  },
  {
   "cell_type": "markdown",
   "id": "0c59ff40",
   "metadata": {},
   "source": [
    "2. What does an absolute path start with your operating system?"
   ]
  },
  {
   "cell_type": "markdown",
   "id": "088357ff",
   "metadata": {},
   "source": [
    "    An absolute path start with drive name followed by a colon ':' in the windows operating systems."
   ]
  },
  {
   "cell_type": "markdown",
   "id": "62932314",
   "metadata": {},
   "source": [
    "3. What do the functions os.getcwd() and os.chdir() do?"
   ]
  },
  {
   "cell_type": "markdown",
   "id": "8379a8f2",
   "metadata": {},
   "source": [
    "    os.getcwd(): This function returns a string representing the current working directory of the Python script or program that is being executed. The returned string is the absolute path to the current working directory.\n",
    "\n",
    "    os.chdir(path): This function changes the current working directory to the path specified as an argument. The path parameter can be an absolute or a relative path to the directory that should become the new working directory.\n",
    "    \n",
    "    they both are the part of python module name 'os'."
   ]
  },
  {
   "cell_type": "markdown",
   "id": "ad1bd135",
   "metadata": {},
   "source": [
    "4. What are the . and .. folders?"
   ]
  },
  {
   "cell_type": "markdown",
   "id": "35c8fc18",
   "metadata": {},
   "source": [
    "    The . directory is a reference to the current working directory. and\n",
    "    The .. directory is a reference to the parent directory of the current working directory."
   ]
  },
  {
   "cell_type": "markdown",
   "id": "8e6653b8",
   "metadata": {},
   "source": [
    "5. In C:\\bacon\\eggs\\spam.txt, which part is the dir name, and which part is the base name?"
   ]
  },
  {
   "cell_type": "markdown",
   "id": "e3ce0b28",
   "metadata": {},
   "source": [
    "    \"C:\\bacon\\eggs\" is the directory that contains the file \"spam.txt\".\n",
    "    The base name is \"spam.txt\"."
   ]
  },
  {
   "cell_type": "markdown",
   "id": "509b4255",
   "metadata": {},
   "source": [
    "6. What are the three “mode” arguments that can be passed to the open() function?"
   ]
  },
  {
   "cell_type": "markdown",
   "id": "4beaa5f0",
   "metadata": {},
   "source": [
    "    \"r\" (read mode): This mode opens a file for reading. It is the default mode if no mode argument is specified. If the file does not exist, an error will occur.\n",
    "\n",
    "    \"w\" (write mode): This mode opens a file for writing. If the file already exists, it will be truncated (emptied). If the file does not exist, it will be created.\n",
    "\n",
    "    \"a\" (append mode): This mode opens a file for writing, but appends new content to the end of the file instead of overwriting existing content. If the file does not exist, it will be created."
   ]
  },
  {
   "cell_type": "markdown",
   "id": "90420cc5",
   "metadata": {},
   "source": [
    "7. What happens if an existing file is opened in write mode?"
   ]
  },
  {
   "cell_type": "markdown",
   "id": "9a4991fc",
   "metadata": {},
   "source": [
    "    If an existing file is opened in write mode using the 'w' argument in the 'open()' function, the contents of the file will be truncated to zero length, and any existing data in the file will be lost. In other words, the file will be emptied before any new data is written to it."
   ]
  },
  {
   "cell_type": "markdown",
   "id": "801197ba",
   "metadata": {},
   "source": [
    "8. How do you tell the difference between read() and readlines()?"
   ]
  },
  {
   "cell_type": "markdown",
   "id": "ae85748c",
   "metadata": {},
   "source": [
    "    'read()' reads the entire content of the file and returns it as a string. If we do not pass an argument to the read() method, it will read the entire content of the file at once. if the number of bytes specified to read as an argument to the read() method. then it will only read those bytes and returns it as a string.\n",
    "\n",
    "    readlines() reads the entire content of the file and returns it as a list of strings, where each line of the file is a separate string in the list. "
   ]
  },
  {
   "cell_type": "markdown",
   "id": "596a7824",
   "metadata": {},
   "source": [
    "9. What data structure does a shelf value resemble?"
   ]
  },
  {
   "cell_type": "markdown",
   "id": "7715e96d",
   "metadata": {},
   "source": [
    "    A shelf value resembles a dictionary value; it has keys and values, along with keys() and values() methods that work similarly to the dictionary methods of the same names."
   ]
  }
 ],
 "metadata": {
  "kernelspec": {
   "display_name": "Python 3 (ipykernel)",
   "language": "python",
   "name": "python3"
  },
  "language_info": {
   "codemirror_mode": {
    "name": "ipython",
    "version": 3
   },
   "file_extension": ".py",
   "mimetype": "text/x-python",
   "name": "python",
   "nbconvert_exporter": "python",
   "pygments_lexer": "ipython3",
   "version": "3.9.12"
  }
 },
 "nbformat": 4,
 "nbformat_minor": 5
}
