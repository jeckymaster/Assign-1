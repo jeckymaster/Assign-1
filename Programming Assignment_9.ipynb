{
 "cells": [
  {
   "cell_type": "markdown",
   "id": "c3e71b0a",
   "metadata": {},
   "source": [
    "1. Write a Python program to check if the given number is a Disarium Number?"
   ]
  },
  {
   "cell_type": "code",
   "execution_count": 2,
   "id": "fc84d612",
   "metadata": {},
   "outputs": [],
   "source": [
    "def is_disarium(n):\n",
    "    n_str = str(n)\n",
    "    digit_sum = sum(int(digit)**(index+1) for index, digit in enumerate(n_str))\n",
    "    \n",
    "    if digit_sum == n:\n",
    "        return True\n",
    "    else:\n",
    "        return False"
   ]
  },
  {
   "cell_type": "code",
   "execution_count": 6,
   "id": "665ccaf4",
   "metadata": {},
   "outputs": [
    {
     "name": "stdout",
     "output_type": "stream",
     "text": [
      "Enter the number to check for Disarium:88\n",
      "88 is not a Disarium Number\n"
     ]
    }
   ],
   "source": [
    "num = int(input(\"Enter the number to check for Disarium:\"))\n",
    "if is_disarium(num):\n",
    "    print(num, \"is a Disarium Number\")\n",
    "else:\n",
    "    print(num, \"is not a Disarium Number\")"
   ]
  },
  {
   "cell_type": "markdown",
   "id": "6a00e4fd",
   "metadata": {},
   "source": [
    "2. Write a Python program to print all disarium numbers between 1 to 100?"
   ]
  },
  {
   "cell_type": "code",
   "execution_count": 13,
   "id": "83cf7d14",
   "metadata": {},
   "outputs": [
    {
     "name": "stdout",
     "output_type": "stream",
     "text": [
      "1 2 3 4 5 6 7 8 9 89 "
     ]
    }
   ],
   "source": [
    "disarium_nums=[]\n",
    "for i in range (1,100):\n",
    "    if is_disarium(i):\n",
    "        disarium_nums.append(i)\n",
    "for j in disarium_nums:\n",
    "    print(j, end=\" \")"
   ]
  },
  {
   "cell_type": "code",
   "execution_count": null,
   "id": "ceb8218f",
   "metadata": {},
   "outputs": [],
   "source": []
  },
  {
   "cell_type": "markdown",
   "id": "18aabcf8",
   "metadata": {},
   "source": [
    "3. Write a Python program to check if the given number is Happy Number?"
   ]
  },
  {
   "cell_type": "code",
   "execution_count": 17,
   "id": "93170299",
   "metadata": {},
   "outputs": [],
   "source": [
    "def is_happy(n):\n",
    "    seen_numbers = set()  # Set to store seen numbers \n",
    "    while True:\n",
    "        n_str = str(n)\n",
    "        sum_of_squares = sum(int(digit) ** 2 for digit in n_str)\n",
    "        \n",
    "        if sum_of_squares == 1:\n",
    "            return True        \n",
    "        \n",
    "        if sum_of_squares in seen_numbers:\n",
    "            return False        \n",
    "        \n",
    "        seen_numbers.add(sum_of_squares)        \n",
    "        n = sum_of_squares"
   ]
  },
  {
   "cell_type": "code",
   "execution_count": 19,
   "id": "eb6d2c00",
   "metadata": {},
   "outputs": [
    {
     "name": "stdout",
     "output_type": "stream",
     "text": [
      "Enter the number to check for Happy:20\n",
      "20 is not a Happy Number\n"
     ]
    }
   ],
   "source": [
    "num = int(input(\"Enter the number to check for Happy:\"))\n",
    "if is_happy(num):\n",
    "    print(num, \"is a Happy Number\")\n",
    "else:\n",
    "    print(num, \"is not a Happy Number\")"
   ]
  },
  {
   "cell_type": "code",
   "execution_count": null,
   "id": "13e5b990",
   "metadata": {},
   "outputs": [],
   "source": []
  },
  {
   "cell_type": "markdown",
   "id": "e339b7af",
   "metadata": {},
   "source": [
    "4. Write a Python program to print all happy numbers between 1 and 100?"
   ]
  },
  {
   "cell_type": "code",
   "execution_count": 21,
   "id": "304eafb8",
   "metadata": {},
   "outputs": [
    {
     "name": "stdout",
     "output_type": "stream",
     "text": [
      "1 7 10 13 19 23 28 31 32 44 49 68 70 79 82 86 91 94 97 "
     ]
    }
   ],
   "source": [
    "happy_nums=[]\n",
    "for i in range (1,100):\n",
    "    if is_happy(i):\n",
    "        happy_nums.append(i)\n",
    "for j in happy_nums:\n",
    "    print(j, end=\" \")"
   ]
  },
  {
   "cell_type": "code",
   "execution_count": null,
   "id": "a884e451",
   "metadata": {},
   "outputs": [],
   "source": []
  },
  {
   "cell_type": "markdown",
   "id": "ea77b4e7",
   "metadata": {},
   "source": [
    "5. Write a Python program to determine whether the given number is a Harshad Number?"
   ]
  },
  {
   "cell_type": "code",
   "execution_count": 28,
   "id": "28919b03",
   "metadata": {},
   "outputs": [],
   "source": [
    "def is_harshad(n):\n",
    "    n_str = str(n)\n",
    "    digit_sum = sum(int(digit) for digit in n_str)\n",
    "    div = n % digit_sum\n",
    "    if div == 0:\n",
    "        return True\n",
    "    else:\n",
    "        return False"
   ]
  },
  {
   "cell_type": "code",
   "execution_count": 30,
   "id": "6315ef94",
   "metadata": {},
   "outputs": [
    {
     "name": "stdout",
     "output_type": "stream",
     "text": [
      "Enter the number to check for Happy:24\n",
      "24 is a Happy Number\n"
     ]
    }
   ],
   "source": [
    "num = int(input(\"Enter the number to check for Happy:\"))\n",
    "if is_harshad(num):\n",
    "    print(num, \"is a Happy Number\")\n",
    "else:\n",
    "    print(num, \"is not a Happy Number\")"
   ]
  },
  {
   "cell_type": "code",
   "execution_count": null,
   "id": "1640b014",
   "metadata": {},
   "outputs": [],
   "source": []
  },
  {
   "cell_type": "markdown",
   "id": "905c4b60",
   "metadata": {},
   "source": [
    "6. Write a Python program to print all pronic numbers between 1 and 100?"
   ]
  },
  {
   "cell_type": "code",
   "execution_count": 33,
   "id": "2531a58d",
   "metadata": {},
   "outputs": [],
   "source": [
    "def is_pronic(start, end):\n",
    "    pronic_nums = []\n",
    "    \n",
    "    for num in range(start, end+1):\n",
    "        for i in range(1, int(num**0.5)+1):\n",
    "            if i * (i + 1) == num:\n",
    "                pronic_nums.append(num)\n",
    "    \n",
    "    print(\"Pronic numbers between\", start, \"and\", end, \":\")\n",
    "    print(pronic_nums)"
   ]
  },
  {
   "cell_type": "code",
   "execution_count": 35,
   "id": "b8a92c81",
   "metadata": {},
   "outputs": [
    {
     "name": "stdout",
     "output_type": "stream",
     "text": [
      "Pronic numbers between 1 and 100 :\n",
      "[2, 6, 12, 20, 30, 42, 56, 72, 90]\n"
     ]
    }
   ],
   "source": [
    "is_pronic(1, 100)"
   ]
  },
  {
   "cell_type": "markdown",
   "id": "4189c066",
   "metadata": {},
   "source": []
  },
  {
   "cell_type": "code",
   "execution_count": null,
   "id": "e3edd366",
   "metadata": {},
   "outputs": [],
   "source": []
  },
  {
   "cell_type": "code",
   "execution_count": null,
   "id": "e38990db",
   "metadata": {},
   "outputs": [],
   "source": []
  },
  {
   "cell_type": "markdown",
   "id": "30ab5a54",
   "metadata": {},
   "source": []
  },
  {
   "cell_type": "code",
   "execution_count": null,
   "id": "7bd47d9b",
   "metadata": {},
   "outputs": [],
   "source": []
  },
  {
   "cell_type": "code",
   "execution_count": null,
   "id": "a72cc384",
   "metadata": {},
   "outputs": [],
   "source": []
  },
  {
   "cell_type": "markdown",
   "id": "4bfea69f",
   "metadata": {},
   "source": []
  },
  {
   "cell_type": "code",
   "execution_count": null,
   "id": "bccd7235",
   "metadata": {},
   "outputs": [],
   "source": []
  },
  {
   "cell_type": "code",
   "execution_count": null,
   "id": "aca20c8a",
   "metadata": {},
   "outputs": [],
   "source": []
  },
  {
   "cell_type": "markdown",
   "id": "7346d8bc",
   "metadata": {},
   "source": []
  },
  {
   "cell_type": "code",
   "execution_count": null,
   "id": "5b0e9890",
   "metadata": {},
   "outputs": [],
   "source": []
  },
  {
   "cell_type": "code",
   "execution_count": null,
   "id": "dbc5c30a",
   "metadata": {},
   "outputs": [],
   "source": []
  },
  {
   "cell_type": "markdown",
   "id": "367c5599",
   "metadata": {},
   "source": []
  },
  {
   "cell_type": "code",
   "execution_count": null,
   "id": "10a3a7f0",
   "metadata": {},
   "outputs": [],
   "source": []
  },
  {
   "cell_type": "code",
   "execution_count": null,
   "id": "73809834",
   "metadata": {},
   "outputs": [],
   "source": []
  },
  {
   "cell_type": "markdown",
   "id": "dbc486fa",
   "metadata": {},
   "source": []
  },
  {
   "cell_type": "code",
   "execution_count": null,
   "id": "c45d792f",
   "metadata": {},
   "outputs": [],
   "source": []
  },
  {
   "cell_type": "code",
   "execution_count": null,
   "id": "b87393b2",
   "metadata": {},
   "outputs": [],
   "source": []
  },
  {
   "cell_type": "markdown",
   "id": "a337a305",
   "metadata": {},
   "source": []
  },
  {
   "cell_type": "code",
   "execution_count": null,
   "id": "8a6595bf",
   "metadata": {},
   "outputs": [],
   "source": []
  },
  {
   "cell_type": "code",
   "execution_count": null,
   "id": "b15d6b12",
   "metadata": {},
   "outputs": [],
   "source": []
  },
  {
   "cell_type": "markdown",
   "id": "2f369a6e",
   "metadata": {},
   "source": []
  },
  {
   "cell_type": "code",
   "execution_count": null,
   "id": "f5fe365a",
   "metadata": {},
   "outputs": [],
   "source": []
  },
  {
   "cell_type": "code",
   "execution_count": null,
   "id": "7f3f3982",
   "metadata": {},
   "outputs": [],
   "source": []
  },
  {
   "cell_type": "markdown",
   "id": "327fa0ad",
   "metadata": {},
   "source": []
  },
  {
   "cell_type": "code",
   "execution_count": null,
   "id": "a67a7feb",
   "metadata": {},
   "outputs": [],
   "source": []
  },
  {
   "cell_type": "code",
   "execution_count": null,
   "id": "773bbb9d",
   "metadata": {},
   "outputs": [],
   "source": []
  },
  {
   "cell_type": "markdown",
   "id": "dfd4d581",
   "metadata": {},
   "source": []
  },
  {
   "cell_type": "code",
   "execution_count": null,
   "id": "6ebf0a92",
   "metadata": {},
   "outputs": [],
   "source": []
  },
  {
   "cell_type": "code",
   "execution_count": null,
   "id": "e9cf506a",
   "metadata": {},
   "outputs": [],
   "source": []
  },
  {
   "cell_type": "code",
   "execution_count": null,
   "id": "5d515ca3",
   "metadata": {},
   "outputs": [],
   "source": []
  }
 ],
 "metadata": {
  "kernelspec": {
   "display_name": "Python 3 (ipykernel)",
   "language": "python",
   "name": "python3"
  },
  "language_info": {
   "codemirror_mode": {
    "name": "ipython",
    "version": 3
   },
   "file_extension": ".py",
   "mimetype": "text/x-python",
   "name": "python",
   "nbconvert_exporter": "python",
   "pygments_lexer": "ipython3",
   "version": "3.9.10"
  }
 },
 "nbformat": 4,
 "nbformat_minor": 5
}
