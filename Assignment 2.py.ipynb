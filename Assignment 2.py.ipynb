{
 "cells": [
  {
   "cell_type": "markdown",
   "id": "f63c21fc",
   "metadata": {},
   "source": [
    "1.What are the two values of the Boolean data type? How do you write them?"
   ]
  },
  {
   "cell_type": "markdown",
   "id": "b5990136",
   "metadata": {},
   "source": [
    "Ans: Two value of boolean data types are 1 and 0. we can write them as \"True\" and \"False\""
   ]
  },
  {
   "cell_type": "markdown",
   "id": "512bb7a0",
   "metadata": {},
   "source": [
    "2. What are the three different types of Boolean operators?\n",
    "\n",
    "Ans : Or , And, and Not"
   ]
  },
  {
   "cell_type": "markdown",
   "id": "36f34ec6",
   "metadata": {},
   "source": [
    "3. Make a list of each Boolean operator's truth tables (i.e. every possible combination of Boolean\n",
    "values for the operator and what it evaluate ).\n",
    "\n",
    "\n",
    "0 or 0 = 0\n",
    "\n",
    "0 or 1 = 1\n",
    "\n",
    "1 or 0 = 1\n",
    "\n",
    "1 or 1 = 1\n",
    "\n",
    "\n",
    "0 and 0 = 0\n",
    "\n",
    "0 and 1 = 0\n",
    "\n",
    "0 and 1 = 0\n",
    "\n",
    "1 and 1 = 1\n",
    "\n",
    "0 not = 1\n",
    "\n",
    "1 not = 0"
   ]
  },
  {
   "cell_type": "markdown",
   "id": "f7901bff",
   "metadata": {},
   "source": [
    "# 4. What are the values of the following expressions?\n",
    "(5 &gt; 4) and (3 == 5)\n",
    "not (5 &gt; 4)\n",
    "(5 &gt; 4) or (3 == 5)\n",
    "not ((5 &gt; 4) or (3 == 5))\n",
    "(True and True) and (True == False)\n",
    "(not False) or (not True)"
   ]
  },
  {
   "cell_type": "code",
   "execution_count": 4,
   "id": "81b4f130",
   "metadata": {},
   "outputs": [
    {
     "name": "stdout",
     "output_type": "stream",
     "text": [
      "False\n",
      "False\n",
      "True\n",
      "False\n",
      "False\n",
      "True\n"
     ]
    }
   ],
   "source": [
    "a = (5 > 4) and (3 == 5)\n",
    "b = not (5 > 4)\n",
    "c = (5 > 4) or (3 == 5)\n",
    "d = not ((5 > 4) or (3 == 5))\n",
    "e = (True and True) and (True == False)\n",
    "f = (not False) or (not True)\n",
    "\n",
    "print(a)\n",
    "print(b)\n",
    "print(c)\n",
    "print(d)\n",
    "print(e)\n",
    "print(f)"
   ]
  },
  {
   "cell_type": "markdown",
   "id": "231d224c",
   "metadata": {},
   "source": [
    "#5. What are the six comparison operators?\n",
    "\n",
    "Equal to (==), \n",
    "Not equal to (!=), \n",
    "Less than equal to (<=), \n",
    "Greater than equal to (>=), \n",
    "Less than (<), \n",
    "Greater than (>)"
   ]
  },
  {
   "cell_type": "code",
   "execution_count": null,
   "id": "884ccfe7",
   "metadata": {},
   "outputs": [],
   "source": [
    "#6. How do you tell the difference between the equal to and assignment operators?Describe a\n",
    "condition and when you would use one.\n",
    "\n",
    "== is equal to operator to compare between two element where as = is an assignment operator to assign the value to the variable.\n",
    "\n",
    "like in a code\n",
    "\n",
    "a = 10 \n",
    "b = 11 here we are assigning the values to variables a and b.\n",
    "\n",
    "a == b here we are comparing between the a and b."
   ]
  },
  {
   "cell_type": "code",
   "execution_count": null,
   "id": "7acbb92f",
   "metadata": {},
   "outputs": [],
   "source": [
    "#7. Identify the three blocks in this code:\n",
    "\n"
   ]
  },
  {
   "cell_type": "code",
   "execution_count": 9,
   "id": "0ae71368",
   "metadata": {},
   "outputs": [
    {
     "ename": "IndentationError",
     "evalue": "expected an indented block (2373325787.py, line 3)",
     "output_type": "error",
     "traceback": [
      "\u001b[1;36m  Input \u001b[1;32mIn [9]\u001b[1;36m\u001b[0m\n\u001b[1;33m    print('eggs')\u001b[0m\n\u001b[1;37m    ^\u001b[0m\n\u001b[1;31mIndentationError\u001b[0m\u001b[1;31m:\u001b[0m expected an indented block\n"
     ]
    }
   ],
   "source": [
    "spam = 0\n",
    "if spam == 10:\n",
    "print('eggs')\n",
    "if spam > 5:\n",
    "print('bacon')\n",
    "else:\n",
    "print('ham')\n",
    "print('spam')\n",
    "print('spam')"
   ]
  },
  {
   "cell_type": "code",
   "execution_count": 6,
   "id": "1b5efcb7",
   "metadata": {},
   "outputs": [
    {
     "name": "stdout",
     "output_type": "stream",
     "text": [
      "ham\n",
      "spam\n",
      "spam\n"
     ]
    }
   ],
   "source": [
    "spam = 0\n",
    "if spam == 10:\n",
    "    print('eggs')\n",
    "if spam > 5:\n",
    "    print('bacon')\n",
    "else:\n",
    "    print('ham')\n",
    "    print('spam')\n",
    "    print('spam')"
   ]
  },
  {
   "cell_type": "markdown",
   "id": "21c6f651",
   "metadata": {},
   "source": [
    "There were indented blocks"
   ]
  },
  {
   "cell_type": "code",
   "execution_count": null,
   "id": "fae2aaaa",
   "metadata": {},
   "outputs": [],
   "source": [
    "#8. Write code that prints Hello if 1 is stored in spam, prints Howdy if 2 is stored \n",
    "#in spam, and prints Greetings! if anything else is stored in spam."
   ]
  },
  {
   "cell_type": "code",
   "execution_count": 23,
   "id": "fa0c3a88",
   "metadata": {},
   "outputs": [
    {
     "name": "stdout",
     "output_type": "stream",
     "text": [
      "1\n",
      "Hello\n"
     ]
    }
   ],
   "source": [
    "spam = int(input())\n",
    "if spam == 1:\n",
    "    print(\"Hello\")\n",
    "elif spam == 2:\n",
    "    print(\"Howdy\")\n",
    "else:\n",
    "    print(\"Greeting\")\n",
    "    "
   ]
  },
  {
   "cell_type": "code",
   "execution_count": null,
   "id": "5e4b4224",
   "metadata": {},
   "outputs": [],
   "source": [
    "#9.If your programme is stuck in an endless loop, what keys you’ll press?\n",
    "\n",
    "#interrupt the kernel (stop) button or 'break'"
   ]
  },
  {
   "cell_type": "code",
   "execution_count": null,
   "id": "91346b52",
   "metadata": {},
   "outputs": [],
   "source": [
    "#10. How can you tell the difference between break and continue?\n",
    "\n",
    "#Break key stop remaining all the iterations in the loop where as continue key only terminate the current iteration."
   ]
  },
  {
   "cell_type": "code",
   "execution_count": 4,
   "id": "8de7e9ee",
   "metadata": {},
   "outputs": [],
   "source": [
    "#11. In a for loop, what is the difference between range(10), range(0, 10), and range(0, 10, 1)?\n",
    "\n",
    "#There is not difference between range(10), range(0,10), and range(0,10,1) because python takes up to three arguments. here all same"
   ]
  },
  {
   "cell_type": "code",
   "execution_count": 8,
   "id": "443251b9",
   "metadata": {},
   "outputs": [
    {
     "name": "stdout",
     "output_type": "stream",
     "text": [
      "0 1 2 3 4 5 6 7 8 9 10 "
     ]
    }
   ],
   "source": [
    "# 12. Write a short program that prints the numbers 1 to 10 using a for loop. \n",
    "# Then write an equivalent program that prints the numbers 1 to 10 using a while loop.\n",
    "\n",
    "for i in range(0,11):\n",
    "    print(i,end=\" \")"
   ]
  },
  {
   "cell_type": "markdown",
   "id": "1ff3530a",
   "metadata": {},
   "source": [
    "13. If you had a function named bacon() inside a module named spam, how would you call it after importing spam?"
   ]
  },
  {
   "cell_type": "code",
   "execution_count": null,
   "id": "00ad5333",
   "metadata": {},
   "outputs": [],
   "source": [
    "spam.bacon()"
   ]
  }
 ],
 "metadata": {
  "kernelspec": {
   "display_name": "Python 3 (ipykernel)",
   "language": "python",
   "name": "python3"
  },
  "language_info": {
   "codemirror_mode": {
    "name": "ipython",
    "version": 3
   },
   "file_extension": ".py",
   "mimetype": "text/x-python",
   "name": "python",
   "nbconvert_exporter": "python",
   "pygments_lexer": "ipython3",
   "version": "3.9.12"
  }
 },
 "nbformat": 4,
 "nbformat_minor": 5
}
