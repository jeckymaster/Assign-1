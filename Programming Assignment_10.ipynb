{
 "cells": [
  {
   "cell_type": "markdown",
   "id": "c3e71b0a",
   "metadata": {},
   "source": [
    "1. Write a Python program to find sum of elements in list?"
   ]
  },
  {
   "cell_type": "code",
   "execution_count": 25,
   "id": "fc84d612",
   "metadata": {},
   "outputs": [],
   "source": [
    "def sum_list(lst):\n",
    "    total = 0\n",
    "    for i in lst:\n",
    "        total += i\n",
    "    return total"
   ]
  },
  {
   "cell_type": "code",
   "execution_count": 26,
   "id": "665ccaf4",
   "metadata": {},
   "outputs": [
    {
     "name": "stdout",
     "output_type": "stream",
     "text": [
      "Enter numbers separted by space: 1 2 3 \n",
      "The sum of given list [1, 2, 3] is: 6\n"
     ]
    }
   ],
   "source": [
    "in_str = input(\"Enter numbers separted by space: \")\n",
    "in_list = in_str.split()\n",
    "input_list = [int(i) for i in in_list] # converting string into integers\n",
    "total = sum_list(input_list)\n",
    "print(f\"The sum of given list {input_list} is: {total}\")"
   ]
  },
  {
   "cell_type": "code",
   "execution_count": null,
   "id": "d093a85c",
   "metadata": {},
   "outputs": [],
   "source": []
  },
  {
   "cell_type": "markdown",
   "id": "6a00e4fd",
   "metadata": {},
   "source": [
    "2. Write a Python program to Multiply all numbers in the list?"
   ]
  },
  {
   "cell_type": "code",
   "execution_count": 27,
   "id": "83cf7d14",
   "metadata": {},
   "outputs": [],
   "source": [
    "def multiply_list(lst):\n",
    "    total = 1\n",
    "    for i in lst:\n",
    "        total *= i\n",
    "    return total"
   ]
  },
  {
   "cell_type": "code",
   "execution_count": 28,
   "id": "ceb8218f",
   "metadata": {},
   "outputs": [
    {
     "name": "stdout",
     "output_type": "stream",
     "text": [
      "Enter numbers separted by space: 5 2 6\n",
      "The product of given list [5, 2, 6] is: 60\n"
     ]
    }
   ],
   "source": [
    "in_str1 = input(\"Enter numbers separted by space: \")\n",
    "in_list1 = in_str1.split()\n",
    "input_list1 = [int(i) for i in in_list1] # converting string into integers\n",
    "total1 = multiply_list(input_list1)\n",
    "print(f\"The product of given list {input_list1} is: {total1}\")"
   ]
  },
  {
   "cell_type": "markdown",
   "id": "18aabcf8",
   "metadata": {},
   "source": [
    "3. Write a Python program to find smallest number in a list?"
   ]
  },
  {
   "cell_type": "code",
   "execution_count": 29,
   "id": "28919b03",
   "metadata": {},
   "outputs": [],
   "source": [
    "def find_min(lst):\n",
    "    mini = lst[0]\n",
    "    for i in lst:\n",
    "        if mini > i:\n",
    "            mini = i\n",
    "        \n",
    "    return mini"
   ]
  },
  {
   "cell_type": "code",
   "execution_count": 37,
   "id": "6315ef94",
   "metadata": {},
   "outputs": [
    {
     "name": "stdout",
     "output_type": "stream",
     "text": [
      "Enter numbers separted by space: 5 2 3\n",
      "The samllest number in the list [5, 2, 3] is: 2\n"
     ]
    }
   ],
   "source": [
    "in_str2 = input(\"Enter numbers separted by space: \")\n",
    "in_list2 = in_str2.split()\n",
    "input_list2 = [int(i) for i in in_list2] # converting string into integers\n",
    "small = find_min(input_list2)\n",
    "print(f\"The samllest number in the list {input_list2} is: {small}\")"
   ]
  },
  {
   "cell_type": "markdown",
   "id": "e339b7af",
   "metadata": {},
   "source": [
    "4. Write a Python program to find largest number in a list?"
   ]
  },
  {
   "cell_type": "code",
   "execution_count": 34,
   "id": "304eafb8",
   "metadata": {},
   "outputs": [],
   "source": [
    "def find_max(lst):\n",
    "    maxi = lst[0]\n",
    "    for i in lst:\n",
    "        if maxi < i:\n",
    "            maxi = i\n",
    "        \n",
    "    return maxi"
   ]
  },
  {
   "cell_type": "code",
   "execution_count": 38,
   "id": "a884e451",
   "metadata": {},
   "outputs": [
    {
     "name": "stdout",
     "output_type": "stream",
     "text": [
      "Enter numbers separted by space: 5 6 2\n",
      "The largest number in the list [5, 6, 2] is: 6\n"
     ]
    }
   ],
   "source": [
    "in_str3 = input(\"Enter numbers separted by space: \")\n",
    "in_list3 = in_str3.split()\n",
    "input_list3 = [int(i) for i in in_list3] # converting string into integers\n",
    "large = find_max(input_list3)\n",
    "print(f\"The largest number in the list {input_list3} is: {large}\")"
   ]
  },
  {
   "cell_type": "markdown",
   "id": "ea77b4e7",
   "metadata": {},
   "source": [
    "5. Write a Python program to find second largest number in a list?"
   ]
  },
  {
   "cell_type": "code",
   "execution_count": 48,
   "id": "5d498403",
   "metadata": {},
   "outputs": [],
   "source": [
    "def find_2nd_large(lst):\n",
    "    lst.sort()\n",
    "    large_2nd = lst[-2]\n",
    "    return large_2nd"
   ]
  },
  {
   "cell_type": "code",
   "execution_count": 50,
   "id": "1640b014",
   "metadata": {},
   "outputs": [
    {
     "name": "stdout",
     "output_type": "stream",
     "text": [
      "Enter numbers separted by space: 5 6 7 2 10 4 9\n",
      "The largest number in the list [2, 4, 5, 6, 7, 9, 10] is: 9\n"
     ]
    }
   ],
   "source": [
    "in_str4 = input(\"Enter numbers separted by space: \")\n",
    "in_list4 = in_str4.split()\n",
    "input_list4 = [int(i) for i in in_list4] # converting string into integers\n",
    "large2 = find_2nd_large(input_list4)\n",
    "print(f\"The largest number in the list {input_list4} is: {large2}\")"
   ]
  },
  {
   "cell_type": "markdown",
   "id": "905c4b60",
   "metadata": {},
   "source": [
    "6. Write a Python program to find N largest elements from a list?"
   ]
  },
  {
   "cell_type": "code",
   "execution_count": 10,
   "id": "2531a58d",
   "metadata": {},
   "outputs": [],
   "source": [
    "def find_nth_large(lst,n):\n",
    "    lst.sort(reverse=True)\n",
    "    large_nth = lst[n-1]\n",
    "    return large_nth"
   ]
  },
  {
   "cell_type": "code",
   "execution_count": 14,
   "id": "b8a92c81",
   "metadata": {},
   "outputs": [
    {
     "name": "stdout",
     "output_type": "stream",
     "text": [
      "Enter numbers separted by space: 4 5 9 10 2 1 8 11 9 13\n",
      "Enter nth large number you want: 5\n",
      "The 5th largest number in the list is: 9\n"
     ]
    }
   ],
   "source": [
    "in_str5 = input(\"Enter numbers separted by space: \")\n",
    "large_n = int(input(\"Enter nth large number you want: \"))\n",
    "in_list5 = in_str5.split()\n",
    "input_list5 = [int(i) for i in in_list5] # converting string into integers\n",
    "large5 = find_nth_large(input_list5, large_n)\n",
    "print(f\"The {large_n}th largest number in the list is: {large5}\")"
   ]
  },
  {
   "cell_type": "markdown",
   "id": "4189c066",
   "metadata": {},
   "source": [
    "7. Write a Python program to print even numbers in a list?"
   ]
  },
  {
   "cell_type": "code",
   "execution_count": 15,
   "id": "e3edd366",
   "metadata": {},
   "outputs": [],
   "source": [
    "def find_even_list(lst):\n",
    "    even = []\n",
    "    for i in lst:\n",
    "        if i % 2 == 0 :\n",
    "            even.append(i)\n",
    "    return even"
   ]
  },
  {
   "cell_type": "code",
   "execution_count": 17,
   "id": "e38990db",
   "metadata": {},
   "outputs": [
    {
     "name": "stdout",
     "output_type": "stream",
     "text": [
      "Enter numbers separted by space: 4 5 9 10 2 1 8 11 9 13\n",
      "The even numbers in the list are: \n",
      "4 10 2 8 "
     ]
    }
   ],
   "source": [
    "in_str6 = input(\"Enter numbers separted by space: \")\n",
    "in_list6 = in_str6.split()\n",
    "input_list6 = [int(i) for i in in_list6]\n",
    "even_n = find_even_list(input_list6)\n",
    "print(f\"The even numbers in the list are: \")\n",
    "for i in even_n:\n",
    "    print(i, end=\" \")"
   ]
  },
  {
   "cell_type": "markdown",
   "id": "30ab5a54",
   "metadata": {},
   "source": [
    "8. Write a Python program to print odd numbers in a List?"
   ]
  },
  {
   "cell_type": "code",
   "execution_count": 18,
   "id": "7bd47d9b",
   "metadata": {},
   "outputs": [],
   "source": [
    "def find_odd_list(lst):\n",
    "    odd = []\n",
    "    for i in lst:\n",
    "        if i % 2 != 0 :\n",
    "            odd.append(i)\n",
    "    return odd"
   ]
  },
  {
   "cell_type": "code",
   "execution_count": 20,
   "id": "a72cc384",
   "metadata": {},
   "outputs": [
    {
     "name": "stdout",
     "output_type": "stream",
     "text": [
      "Enter numbers separted by space: 4 5 9 10 2 1 8 11 9 13\n",
      "The odd numbers in the list are: \n",
      "5 9 1 11 9 13 "
     ]
    }
   ],
   "source": [
    "in_str7 = input(\"Enter numbers separted by space: \")\n",
    "in_list7 = in_str7.split()\n",
    "input_list7 = [int(i) for i in in_list7]\n",
    "odd_n = find_odd_list(input_list7)\n",
    "print(f\"The odd numbers in the list are: \")\n",
    "for i in odd_n:\n",
    "    print(i, end=\" \")"
   ]
  },
  {
   "cell_type": "markdown",
   "id": "4bfea69f",
   "metadata": {},
   "source": [
    "9. Write a Python program to Remove empty List from List?"
   ]
  },
  {
   "cell_type": "code",
   "execution_count": 22,
   "id": "bccd7235",
   "metadata": {},
   "outputs": [],
   "source": [
    "def remove_empty_lists(lst):\n",
    "    return [sublist for sublist in lst if sublist]\n"
   ]
  },
  {
   "cell_type": "code",
   "execution_count": 23,
   "id": "aca20c8a",
   "metadata": {},
   "outputs": [
    {
     "name": "stdout",
     "output_type": "stream",
     "text": [
      "Original list of lists: [[1, 2, 3], [], [4, 5], [], [], [6, 7, 8], []]\n",
      "Filtered list without empty lists: [[1, 2, 3], [4, 5], [6, 7, 8]]\n"
     ]
    }
   ],
   "source": [
    "list_of_lists = [[1, 2, 3], [], [4, 5], [], [], [6, 7, 8], []]\n",
    "filtered_list = remove_empty_lists(list_of_lists)\n",
    "\n",
    "print(\"Original list of lists:\", list_of_lists)\n",
    "print(\"Filtered list without empty lists:\", filtered_list)"
   ]
  },
  {
   "cell_type": "markdown",
   "id": "7346d8bc",
   "metadata": {},
   "source": [
    "10. Write a Python program to Cloning or Copying a list?"
   ]
  },
  {
   "cell_type": "code",
   "execution_count": 24,
   "id": "5b0e9890",
   "metadata": {},
   "outputs": [],
   "source": [
    "def clone_list(lst):\n",
    "    return lst.copy()"
   ]
  },
  {
   "cell_type": "code",
   "execution_count": 25,
   "id": "dbc5c30a",
   "metadata": {},
   "outputs": [
    {
     "name": "stdout",
     "output_type": "stream",
     "text": [
      "Original list: [1, 2, 3, 4, 5]\n",
      "Cloned list: [1, 2, 3, 4, 5]\n"
     ]
    }
   ],
   "source": [
    "original_list = [1, 2, 3, 4, 5]\n",
    "cloned_list = clone_list(original_list)\n",
    "\n",
    "print(\"Original list:\", original_list)\n",
    "print(\"Cloned list:\", cloned_list)"
   ]
  },
  {
   "cell_type": "markdown",
   "id": "367c5599",
   "metadata": {},
   "source": [
    "11. Write a Python program to Count occurrences of an element in a list?"
   ]
  },
  {
   "cell_type": "code",
   "execution_count": 37,
   "id": "10a3a7f0",
   "metadata": {},
   "outputs": [],
   "source": [
    "def count_occur(lst, element):\n",
    "    count_n = lst.count(element)\n",
    "    return count_n\n",
    "    "
   ]
  },
  {
   "cell_type": "code",
   "execution_count": 32,
   "id": "73809834",
   "metadata": {},
   "outputs": [],
   "source": [
    "l1 = [1, 2, 3, 4, 5, 5,5,2,2,2,2,4,4,4,4,4,4,1,1]"
   ]
  },
  {
   "cell_type": "code",
   "execution_count": 40,
   "id": "c45d792f",
   "metadata": {},
   "outputs": [
    {
     "name": "stdout",
     "output_type": "stream",
     "text": [
      "Enter numbers separted by space: 1 2 3 4 5 5 5 2 2 2 2 4 4 4 4 4 6 7 2 2 2 4 4 \n",
      "Enter number you want to find occurance: 4\n",
      "4 is 8 times in the list\n"
     ]
    }
   ],
   "source": [
    "in_str9 = input(\"Enter numbers separted by space: \")\n",
    "num = int(input(\"Enter number you want to find occurance: \"))\n",
    "in_list9 = in_str9.split()\n",
    "input_list9 = [int(i) for i in in_list9] \n",
    "count_n1 = count_occur(input_list9, num)\n",
    "print(f\"{num} is {count_n1} times in the list\")"
   ]
  },
  {
   "cell_type": "code",
   "execution_count": null,
   "id": "b87393b2",
   "metadata": {},
   "outputs": [],
   "source": []
  },
  {
   "cell_type": "markdown",
   "id": "a337a305",
   "metadata": {},
   "source": []
  },
  {
   "cell_type": "code",
   "execution_count": null,
   "id": "8a6595bf",
   "metadata": {},
   "outputs": [],
   "source": []
  },
  {
   "cell_type": "code",
   "execution_count": null,
   "id": "b15d6b12",
   "metadata": {},
   "outputs": [],
   "source": []
  },
  {
   "cell_type": "markdown",
   "id": "2f369a6e",
   "metadata": {},
   "source": []
  },
  {
   "cell_type": "code",
   "execution_count": null,
   "id": "f5fe365a",
   "metadata": {},
   "outputs": [],
   "source": []
  },
  {
   "cell_type": "code",
   "execution_count": null,
   "id": "7f3f3982",
   "metadata": {},
   "outputs": [],
   "source": []
  },
  {
   "cell_type": "markdown",
   "id": "327fa0ad",
   "metadata": {},
   "source": []
  },
  {
   "cell_type": "code",
   "execution_count": null,
   "id": "a67a7feb",
   "metadata": {},
   "outputs": [],
   "source": []
  },
  {
   "cell_type": "code",
   "execution_count": null,
   "id": "773bbb9d",
   "metadata": {},
   "outputs": [],
   "source": []
  },
  {
   "cell_type": "markdown",
   "id": "dfd4d581",
   "metadata": {},
   "source": []
  },
  {
   "cell_type": "code",
   "execution_count": null,
   "id": "6ebf0a92",
   "metadata": {},
   "outputs": [],
   "source": []
  },
  {
   "cell_type": "code",
   "execution_count": null,
   "id": "e9cf506a",
   "metadata": {},
   "outputs": [],
   "source": []
  },
  {
   "cell_type": "code",
   "execution_count": null,
   "id": "5d515ca3",
   "metadata": {},
   "outputs": [],
   "source": []
  }
 ],
 "metadata": {
  "kernelspec": {
   "display_name": "Python 3 (ipykernel)",
   "language": "python",
   "name": "python3"
  },
  "language_info": {
   "codemirror_mode": {
    "name": "ipython",
    "version": 3
   },
   "file_extension": ".py",
   "mimetype": "text/x-python",
   "name": "python",
   "nbconvert_exporter": "python",
   "pygments_lexer": "ipython3",
   "version": "3.9.10"
  }
 },
 "nbformat": 4,
 "nbformat_minor": 5
}
