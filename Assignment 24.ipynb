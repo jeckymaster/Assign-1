{
 "cells": [
  {
   "cell_type": "markdown",
   "id": "c3e71b0a",
   "metadata": {},
   "source": [
    "1. What is the relationship between def statements and lambda expressions ?"
   ]
  },
  {
   "cell_type": "markdown",
   "id": "962e63ab",
   "metadata": {},
   "source": [
    "Both `def` statements and `lambda` expressions are used to define functions in Python. The main difference is that `def` statements create named functions, while `lambda` expressions create anonymous functions."
   ]
  },
  {
   "cell_type": "markdown",
   "id": "6a00e4fd",
   "metadata": {},
   "source": [
    "2. What is the benefit of lambda?"
   ]
  },
  {
   "cell_type": "markdown",
   "id": "5104ab6d",
   "metadata": {},
   "source": [
    "A `lambda` is an anonymous function that can be defined in a single line. `Lambda` expressions are often used when you need a simple, one-line function and don't want to define a named function explicitly."
   ]
  },
  {
   "cell_type": "markdown",
   "id": "18aabcf8",
   "metadata": {},
   "source": [
    "3. Compare and contrast map, filter, and reduce."
   ]
  },
  {
   "cell_type": "markdown",
   "id": "d5676ddc",
   "metadata": {},
   "source": [
    "`map`, `filter`, and `reduce` are three built-in functions in Python that operate on sequences (such as lists, tuples, or strings) and allow you to perform operations on the elements of those sequences. Although they have some similarities, they have distinct purposes and behaviors:\n",
    "\n",
    "1. `map`: The `map` function applies a given function to each element of a sequence and returns a new sequence containing the results. It takes two arguments: the function to apply and the sequence to operate on. The function is applied to each element in the sequence, and the results are collected into a new sequence of the same length. Here's an example:\n"
   ]
  },
  {
   "cell_type": "code",
   "execution_count": 1,
   "id": "13f0c5a9",
   "metadata": {},
   "outputs": [],
   "source": [
    "numbers = [1, 2, 3, 4, 5]\n",
    "squared_numbers = map(lambda x: x**2, numbers)"
   ]
  },
  {
   "cell_type": "markdown",
   "id": "30ab5a54",
   "metadata": {},
   "source": [
    "2. `filter`: The `filter` function selects elements from a sequence based on a given function that returns a Boolean value (True or False) for each element. It takes two arguments: the function that specifies the filtering condition and the sequence to operate on. The function is applied to each element in the sequence, and only the elements for which the function returns True are included in the resulting sequence. Here's an example:\n"
   ]
  },
  {
   "cell_type": "code",
   "execution_count": 6,
   "id": "5097bb04",
   "metadata": {},
   "outputs": [],
   "source": [
    "numbers = [1, 2, 3, 4, 5]\n",
    "even_numbers = filter(lambda x: x % 2 == 0, numbers)"
   ]
  },
  {
   "cell_type": "markdown",
   "id": "3bb1645b",
   "metadata": {},
   "source": [
    "3. `reduce`: The `reduce` function applies a given function to the elements of a sequence in a cumulative way, reducing the sequence to a single value. It takes two arguments: the function to apply and the sequence to operate on. The function is applied to the first two elements, then to the result and the next element, and so on, until a single value is obtained. To use `reduce`, you need to import it from the `functools` module in Python. Here's an example:\n"
   ]
  },
  {
   "cell_type": "code",
   "execution_count": 8,
   "id": "7ed613b2",
   "metadata": {},
   "outputs": [],
   "source": [
    "from functools import reduce\n",
    "\n",
    "numbers = [1, 2, 3, 4, 5]\n",
    "sum_of_numbers = reduce(lambda x, y: x + y, numbers)"
   ]
  },
  {
   "cell_type": "markdown",
   "id": "16e53c98",
   "metadata": {},
   "source": [
    "To summarize the differences:\n",
    "- `map` applies a function to each element and returns a new sequence.\n",
    "- `filter` selects elements based on a condition and returns a new sequence.\n",
    "- `reduce` applies a function cumulatively to the elements, reducing the sequence to a single value.\n",
    "\n",
    "While `map` and `filter` return sequences, `reduce` returns a single value. `map` and `filter` are generally used when you want to transform or filter elements of a sequence, respectively, whereas `reduce` is useful for aggregating values in a sequence.\n"
   ]
  },
  {
   "cell_type": "markdown",
   "id": "e339b7af",
   "metadata": {},
   "source": [
    "4. What are function annotations, and how are they used?"
   ]
  },
  {
   "cell_type": "markdown",
   "id": "3129f19c",
   "metadata": {},
   "source": [
    "Function annotations in Python allow you to attach metadata to the parameters and return values of a function. They provide a way to add type hints, documentation, or any other arbitrary information to the function signature."
   ]
  },
  {
   "cell_type": "markdown",
   "id": "ea77b4e7",
   "metadata": {},
   "source": [
    "5. What are recursive functions, and how are they used?"
   ]
  },
  {
   "cell_type": "markdown",
   "id": "43e9151a",
   "metadata": {},
   "source": [
    "Recursive functions are functions that call themselves during their execution. They are used to solve problems by breaking them down into smaller, simpler versions of the same problem until a base case is reached, at which point the recursion terminates."
   ]
  },
  {
   "cell_type": "markdown",
   "id": "905c4b60",
   "metadata": {},
   "source": [
    "6. What are some general design guidelines for coding functions?"
   ]
  },
  {
   "cell_type": "markdown",
   "id": "1bfbb622",
   "metadata": {},
   "source": [
    "When coding functions, there are several general design guidelines:\n",
    "\n",
    "1. **Single Responsibility Principle**: Functions should have a clear and single purpose. They should perform one specific task and do it well. Avoid creating functions that try to do too much, as this can make the code harder to understand and maintain.\n",
    "\n",
    "2. **Function Naming**: Choose descriptive and meaningful names for your functions that accurately convey their purpose. Use verbs or verb phrases to indicate actions performed by the function. Make sure the names are consistent and follow a naming convention.\n",
    "\n",
    "3. **Function Length**: Keep functions concise and focused. Long functions are often harder to understand and debug. If a function becomes too long, consider refactoring it into smaller, more manageable functions that each serve a specific purpose.\n",
    "\n",
    "4. **Function Documentation**: Provide clear and concise documentation for your functions. Use docstrings to describe the function's purpose, input parameters, return values, and any exceptions that may be raised. This helps other developers (and yourself) understand how to use the function correctly.\n",
    "\n",
    "5. **Parameter Design**: Choose appropriate names for function parameters that convey their purpose and meaning. Consider using default parameter values when appropriate to provide flexibility and make the function more convenient to use.\n",
    "\n",
    "6. **Avoid Global State**: Functions should be designed to operate on their input parameters and local variables. Minimize the use of global variables, as they can introduce unintended side effects and make the function less reusable and testable.\n",
    "\n",
    "7. **Code Reusability**: Aim for code reuse by creating functions that are modular and can be easily used in different contexts. Avoid duplicating code by factoring out common functionality into separate functions that can be called from multiple places.\n",
    "\n",
    "8. **Error Handling**: Implement proper error handling and consider possible error scenarios. Use appropriate exception handling mechanisms to catch and handle exceptions, providing informative error messages or taking appropriate action.\n",
    "\n",
    "9. **Testing**: Write test cases for your functions to ensure they work correctly under different scenarios and edge cases. Test your functions thoroughly to catch and fix any issues early in the development process.\n",
    "\n",
    "10. **Efficiency**: Optimize functions for performance when necessary. Consider algorithmic complexity, avoid unnecessary computations or redundant operations, and choose appropriate data structures."
   ]
  },
  {
   "cell_type": "markdown",
   "id": "4189c066",
   "metadata": {},
   "source": [
    "7. Name three or more ways that functions can communicate results to a caller."
   ]
  },
  {
   "cell_type": "markdown",
   "id": "c545479a",
   "metadata": {},
   "source": [
    "Functions can communicate results to a caller in various ways. Here are three common ways:\n",
    "\n",
    "1. **Return Statement**: The most common way for a function to communicate its result is through the `return` statement. The function can explicitly specify a value or an expression to be returned. Once the `return` statement is encountered, the function terminates, and the value is passed back to the caller. For example:\n",
    "\n",
    "2. **Modifying Mutable Objects**: Functions can modify mutable objects (e.g., lists, dictionaries) passed as arguments, and the modifications persist outside the function's scope. By modifying the object in place, the function indirectly communicates the result to the caller. For example:\n",
    "\n",
    "3. **Global Variables**: Functions can communicate results by modifying global variables. Although it is generally recommended to minimize the use of global variables, there are scenarios where it may be appropriate. By modifying a global variable, a function can indicate a result or store a value that can be accessed by the caller. For example:\n"
   ]
  },
  {
   "cell_type": "markdown",
   "id": "1ae24417",
   "metadata": {},
   "source": []
  },
  {
   "cell_type": "markdown",
   "id": "1537f668",
   "metadata": {},
   "source": []
  },
  {
   "cell_type": "markdown",
   "id": "4bfea69f",
   "metadata": {},
   "source": []
  },
  {
   "cell_type": "markdown",
   "id": "732e63a6",
   "metadata": {},
   "source": []
  },
  {
   "cell_type": "markdown",
   "id": "7346d8bc",
   "metadata": {},
   "source": []
  },
  {
   "cell_type": "markdown",
   "id": "a4450c92",
   "metadata": {},
   "source": []
  },
  {
   "cell_type": "markdown",
   "id": "07a32291",
   "metadata": {},
   "source": []
  },
  {
   "cell_type": "markdown",
   "id": "7254cf5c",
   "metadata": {},
   "source": []
  },
  {
   "cell_type": "markdown",
   "id": "367c5599",
   "metadata": {},
   "source": []
  },
  {
   "cell_type": "markdown",
   "id": "464de133",
   "metadata": {},
   "source": []
  },
  {
   "cell_type": "markdown",
   "id": "b791eb7b",
   "metadata": {},
   "source": []
  },
  {
   "cell_type": "markdown",
   "id": "dbc486fa",
   "metadata": {},
   "source": []
  },
  {
   "cell_type": "markdown",
   "id": "e5f5a6df",
   "metadata": {},
   "source": []
  },
  {
   "cell_type": "markdown",
   "id": "a1e63c23",
   "metadata": {},
   "source": []
  },
  {
   "cell_type": "markdown",
   "id": "a337a305",
   "metadata": {},
   "source": []
  },
  {
   "cell_type": "markdown",
   "id": "f6ff5b42",
   "metadata": {},
   "source": []
  },
  {
   "cell_type": "markdown",
   "id": "98c64573",
   "metadata": {},
   "source": []
  },
  {
   "cell_type": "markdown",
   "id": "2f369a6e",
   "metadata": {},
   "source": []
  },
  {
   "cell_type": "markdown",
   "id": "e8308bfd",
   "metadata": {},
   "source": []
  },
  {
   "cell_type": "markdown",
   "id": "02d0b8b7",
   "metadata": {},
   "source": []
  },
  {
   "cell_type": "markdown",
   "id": "327fa0ad",
   "metadata": {},
   "source": []
  },
  {
   "cell_type": "markdown",
   "id": "cd41b8d4",
   "metadata": {},
   "source": []
  },
  {
   "cell_type": "markdown",
   "id": "ea48e16b",
   "metadata": {},
   "source": []
  },
  {
   "cell_type": "markdown",
   "id": "dfd4d581",
   "metadata": {},
   "source": []
  },
  {
   "cell_type": "markdown",
   "id": "be56a8a0",
   "metadata": {},
   "source": []
  },
  {
   "cell_type": "markdown",
   "id": "83894195",
   "metadata": {},
   "source": []
  },
  {
   "cell_type": "markdown",
   "id": "f89968d2",
   "metadata": {},
   "source": []
  }
 ],
 "metadata": {
  "kernelspec": {
   "display_name": "Python 3 (ipykernel)",
   "language": "python",
   "name": "python3"
  },
  "language_info": {
   "codemirror_mode": {
    "name": "ipython",
    "version": 3
   },
   "file_extension": ".py",
   "mimetype": "text/x-python",
   "name": "python",
   "nbconvert_exporter": "python",
   "pygments_lexer": "ipython3",
   "version": "3.9.10"
  }
 },
 "nbformat": 4,
 "nbformat_minor": 5
}
