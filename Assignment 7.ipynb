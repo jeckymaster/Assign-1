{
 "cells": [
  {
   "cell_type": "markdown",
   "id": "161be4b0",
   "metadata": {},
   "source": [
    "1. What is the name of the feature responsible for generating Regex objects?"
   ]
  },
  {
   "cell_type": "markdown",
   "id": "15cd2f76",
   "metadata": {},
   "source": [
    "    The re module is responsible for generating Regex objects."
   ]
  },
  {
   "cell_type": "markdown",
   "id": "afab4e09",
   "metadata": {},
   "source": [
    "2. Why do raw strings often appear in Regex objects?"
   ]
  },
  {
   "cell_type": "markdown",
   "id": "28b76120",
   "metadata": {},
   "source": [
    "    Raw strings are often appered in Regex objects to avoid the need for excessive escaping of special characters that have a special meaning in regular expressions."
   ]
  },
  {
   "cell_type": "markdown",
   "id": "652293de",
   "metadata": {},
   "source": [
    "3. What is the return value of the search() method?"
   ]
  },
  {
   "cell_type": "markdown",
   "id": "a93a3670",
   "metadata": {},
   "source": [
    "    The search() method retuns a Match Object if there is match anywhere in the string."
   ]
  },
  {
   "cell_type": "markdown",
   "id": "2de55408",
   "metadata": {},
   "source": [
    "4. From a Match item, how do you get the actual strings that match the pattern?"
   ]
  },
  {
   "cell_type": "markdown",
   "id": "7c37be84",
   "metadata": {},
   "source": [
    "    We can use the group() method to get the actual strings that match the pattern from a Match object in Python."
   ]
  },
  {
   "cell_type": "markdown",
   "id": "85420310",
   "metadata": {},
   "source": [
    "5. In the regex which created from the r'(\\d\\d\\d)-(\\d\\d\\d-\\d\\d\\d\\d)', what does group zero cover?\n",
    "Group 2? Group 1?"
   ]
  },
  {
   "cell_type": "code",
   "execution_count": 12,
   "id": "c0524686",
   "metadata": {},
   "outputs": [
    {
     "name": "stdout",
     "output_type": "stream",
     "text": [
      "886-644-0057\n"
     ]
    }
   ],
   "source": [
    "import re\n",
    "\n",
    "text =\"My mobile number is 886-644-0057.\"\n",
    "pattern= r'(\\d\\d\\d)-(\\d\\d\\d-\\d\\d\\d\\d)'\n",
    "\n",
    "match = re.search(pattern, text)\n",
    "if match:\n",
    "    full_match = match.group()\n",
    "    print(full_match)"
   ]
  },
  {
   "cell_type": "markdown",
   "id": "d66ac203",
   "metadata": {},
   "source": [
    "6. In standard expression syntax, parentheses and intervals have distinct meanings. How can you tell a regex that you want it to fit real parentheses and periods?"
   ]
  },
  {
   "cell_type": "markdown",
   "id": "49914c84",
   "metadata": {},
   "source": [
    "     To match a literal parentheses or period, you can use the escape character '\\' followed by the character you want to match. For example, to match a literal left parenthesis '(', you can use the pattern '\\('. Similarly, to match a literal period ., you can use the pattern '\\.'."
   ]
  },
  {
   "cell_type": "markdown",
   "id": "aae9034d",
   "metadata": {},
   "source": [
    "7. The findall() method returns a string list or a list of string tuples. What causes it to return one of the two options?"
   ]
  },
  {
   "cell_type": "markdown",
   "id": "27769288",
   "metadata": {},
   "source": [
    "    If the regular expression pattern contains no capturing groups (denoted by parentheses), findall() returns a list of strings containing all non-overlapping matches of the pattern in the input string.\n",
    "    If the regular expression pattern contains no capturing groups (denoted by parentheses), findall() returns a list of strings containing all non-overlapping matches of the pattern in the input string."
   ]
  },
  {
   "cell_type": "markdown",
   "id": "403c9f70",
   "metadata": {},
   "source": [
    "8. In standard expressions, what does the | character mean?"
   ]
  },
  {
   "cell_type": "markdown",
   "id": "191de5f8",
   "metadata": {},
   "source": [
    "    The | character is stand for 'alternation' means either of two things will be fine. for examples 'Mango|Banana'."
   ]
  },
  {
   "cell_type": "markdown",
   "id": "4720d29c",
   "metadata": {},
   "source": [
    "9. In regular expressions, what does the character stand for?"
   ]
  },
  {
   "cell_type": "markdown",
   "id": "d107e0d4",
   "metadata": {},
   "source": [
    "    which character?"
   ]
  },
  {
   "cell_type": "markdown",
   "id": "eea33bc9",
   "metadata": {},
   "source": [
    "10. In regular expressions, what is the difference between the + and * characters?"
   ]
  },
  {
   "cell_type": "markdown",
   "id": "9cd42e0c",
   "metadata": {},
   "source": [
    "    In regular expressions \n",
    "        - + use for 'One or more occurrences'\n",
    "        - * use for 'Zero or more occurrences'"
   ]
  },
  {
   "cell_type": "markdown",
   "id": "d0e28a22",
   "metadata": {},
   "source": [
    "11. What is the difference between {4} and {4,5} in regular expression?"
   ]
  },
  {
   "cell_type": "markdown",
   "id": "3470e7f1",
   "metadata": {},
   "source": [
    "    In regular expressions, the curly braces {} are used to specify the number of repetitions of a pattern. The difference between {4} and {4,5} is in the number of times the preceding pattern is expected to occur.\n",
    "\n",
    "    {4} specifies that the preceding pattern should occur exactly four times."
   ]
  },
  {
   "cell_type": "code",
   "execution_count": 19,
   "id": "63ed83eb",
   "metadata": {},
   "outputs": [
    {
     "name": "stdout",
     "output_type": "stream",
     "text": [
      "['have', 'frien', 'name', 'ally']\n"
     ]
    }
   ],
   "source": [
    "import re\n",
    "\n",
    "text = 'I have a friend nameD Sally.'\n",
    "pattern = r'[a-z]{4,5}'\n",
    "\n",
    "matches = re.findall(pattern, text)\n",
    "print(matches)  # prints ['have', 'frien', 'nam', 'Sally']\n",
    "\n"
   ]
  },
  {
   "cell_type": "markdown",
   "id": "456e2077",
   "metadata": {},
   "source": [
    "12. What do you mean by the \\d, \\w, and \\s shorthand character classes signify in regular expressions?"
   ]
  },
  {
   "cell_type": "markdown",
   "id": "fb57028c",
   "metadata": {},
   "source": [
    "    \\d = Returns a match where the string contains digits(numbers from 0-9)\n",
    "    \\w = Returns a match where the string contains any word characters (characters from a to Z, digits from 0-9, and the underscore _ character)\n",
    "    \\s = Returns a match where the string contains a white space character."
   ]
  },
  {
   "cell_type": "markdown",
   "id": "fcb05156",
   "metadata": {},
   "source": [
    "13. What do means by \\D, \\W, and \\S shorthand character classes signify in regular expressions?"
   ]
  },
  {
   "cell_type": "markdown",
   "id": "443ba6aa",
   "metadata": {},
   "source": [
    "    \\D = Returns a match where the string DOES NOT contain digits\n",
    "    \\W = Returns a match where the string DOES NOT contain any word characters\n",
    "    \\S = Returns a match where the string DOES NOT contain a white space character."
   ]
  },
  {
   "cell_type": "markdown",
   "id": "206a17d1",
   "metadata": {},
   "source": [
    "14. What is the difference between .*? and .*?"
   ]
  },
  {
   "cell_type": "markdown",
   "id": "0646b652",
   "metadata": {},
   "source": [
    "not getting looks same\n"
   ]
  },
  {
   "cell_type": "markdown",
   "id": "384c3c10",
   "metadata": {},
   "source": [
    "15. What is the syntax for matching both numbers and lowercase letters with a character class?"
   ]
  },
  {
   "cell_type": "markdown",
   "id": "639bd27d",
   "metadata": {},
   "source": [
    "    [0-9a-z]"
   ]
  },
  {
   "cell_type": "markdown",
   "id": "d16bf283",
   "metadata": {},
   "source": [
    "16. What is the procedure for making a normal expression in regax case insensitive?"
   ]
  },
  {
   "cell_type": "markdown",
   "id": "4a340f57",
   "metadata": {},
   "source": [
    "    To make a regular expression case-insensitive in Python, you can use the 're.IGNORECASE' or 're.I' flag as the second argument to the 're.compile()' function or as the third argument to the 're.search()', 're.match()', or 're.findall()' functions."
   ]
  },
  {
   "cell_type": "markdown",
   "id": "04f0e378",
   "metadata": {},
   "source": [
    "17. What does the . character normally match? What does it match if re.DOTALL is passed as 2nd argument in re.compile()?"
   ]
  },
  {
   "cell_type": "markdown",
   "id": "1c511277",
   "metadata": {},
   "source": [
    "    \".\" chatacter normally match any character (except newline character). However, if the re.DOTALL flag is passed as the second argument to the 're.compile()' function, then the \".\" character will match any character, including a newline character."
   ]
  },
  {
   "cell_type": "markdown",
   "id": "76aadfb6",
   "metadata": {},
   "source": [
    "18. If numReg = re.compile(r'\\d+'), what will numReg.sub('X', '11 drummers, 10 pipers, five rings, 4 hen') return?"
   ]
  },
  {
   "cell_type": "markdown",
   "id": "d74f2b0d",
   "metadata": {},
   "source": [
    "    As it is seen in below that it will return 'X drummers, X pipers, five rings, X hen', In this regular expression, the \\d+ pattern matches one or more consecutive digits. The sub() method replaces all occurrences of this pattern in the input string with the replacement string, which is \"X\" in this case."
   ]
  },
  {
   "cell_type": "code",
   "execution_count": 2,
   "id": "d245be2d",
   "metadata": {},
   "outputs": [],
   "source": [
    "import re\n",
    "numReg = re.compile(r'\\d+')"
   ]
  },
  {
   "cell_type": "code",
   "execution_count": 4,
   "id": "6e74a01d",
   "metadata": {},
   "outputs": [
    {
     "data": {
      "text/plain": [
       "'X drummers, X pipers, five rings, X hen'"
      ]
     },
     "execution_count": 4,
     "metadata": {},
     "output_type": "execute_result"
    }
   ],
   "source": [
    "numReg.sub('X', '11 drummers, 10 pipers, five rings, 4 hen')"
   ]
  },
  {
   "cell_type": "markdown",
   "id": "c29a80e1",
   "metadata": {},
   "source": [
    "19. What does passing re.VERBOSE as the 2nd argument to re.compile() allow to do?"
   ]
  },
  {
   "cell_type": "markdown",
   "id": "ffe352eb",
   "metadata": {},
   "source": [
    "Verbose mode allows you to write more readable and maintainable regular expressions by ignoring whitespace and comments within the regular expression string. In verbose mode, you can use the '#'character to add comments to your regular expression, and you can use whitespace to break up the regular expression into multiple lines."
   ]
  },
  {
   "cell_type": "markdown",
   "id": "58e78173",
   "metadata": {},
   "source": [
    "20. How would you write a regex that match a number with comma for every three digits? It must\n",
    "    match the given following:\n",
    "    '42'\n",
    "    '1,234'\n",
    "    '6,368,745'\n",
    "    - but not the following:\n",
    "    '12,34,567' (which has only two digits between the commas)\n",
    "    '1234' (which lacks commas)\n"
   ]
  },
  {
   "cell_type": "code",
   "execution_count": 9,
   "id": "1fb22f51",
   "metadata": {},
   "outputs": [
    {
     "name": "stdout",
     "output_type": "stream",
     "text": [
      "42 matches the string\n",
      "1,234 matches the string\n",
      "6,368,745 matches the string\n",
      "12,34,567 does not match the string\n",
      "1234 does not match the string\n"
     ]
    }
   ],
   "source": [
    "import re\n",
    "\n",
    "# Define a regular expression to match numbers with commas for every three digits starting with right side\n",
    "\n",
    "pattern = re.compile(r'^\\d{1,3}(,\\d{3})*$')\n",
    "\n",
    "# Test the regular expression with some sample strings\n",
    "strings = ['42', '1,234', '6,368,745', '12,34,567', '1234']\n",
    "for string in strings:\n",
    "    match = pattern.match(string)\n",
    "    if match:\n",
    "        print(f'{string} matches the string')\n",
    "    else:\n",
    "        print(f'{string} does not match the string')"
   ]
  },
  {
   "cell_type": "markdown",
   "id": "f569221f",
   "metadata": {},
   "source": [
    "21. How would you write a regex that matches the full name of someone whose last name is Watanabe? You can assume that the first name that comes before it will always be one word that begins with a capital letter. The regex must match the following:\n",
    "    \n",
    "    'Haruto Watanabe'\n",
    "    'Alice Watanabe'\n",
    "    'RoboCop Watanabe'\n",
    "    - but not the following:\n",
    "    'haruto Watanabe' (where the first name is not capitalized)\n",
    "    'Mr. Watanabe' (where the preceding word has a nonletter character)\n",
    "    'Watanabe' (which has no first name)\n",
    "    'Haruto watanabe' (where Watanabe is not capitalized)\n"
   ]
  },
  {
   "cell_type": "code",
   "execution_count": 10,
   "id": "917b8af3",
   "metadata": {},
   "outputs": [
    {
     "name": "stdout",
     "output_type": "stream",
     "text": [
      "Haruto Watanabe matches the string\n",
      "Alice Watanabe matches the string\n",
      "Robocop Watanabe matches the string\n",
      "haruto Watanabe does not match the string\n",
      "Mr. Watanabe does not match the string\n",
      "Watanabe does not match the string\n",
      "Haruto watanabe does not match the string\n"
     ]
    }
   ],
   "source": [
    "import re\n",
    "\n",
    "# Define a regular expression to match a full name with last name Watanabe\n",
    "pattern = re.compile(r'[A-Z][a-z]*\\sWatanabe')\n",
    "\n",
    "# Test the regular expression with some sample strings\n",
    "strings = ['Haruto Watanabe', \n",
    "           'Alice Watanabe', \n",
    "           'Robocop Watanabe',  \n",
    "           'haruto Watanabe', \n",
    "           'Mr. Watanabe', \n",
    "           'Watanabe', \n",
    "           'Haruto watanabe']\n",
    "for string in strings:\n",
    "    match = pattern.match(string)\n",
    "    if match:\n",
    "        print(f'{string} matches the string')\n",
    "    else:\n",
    "        print(f'{string} does not match the string')\n"
   ]
  },
  {
   "cell_type": "markdown",
   "id": "273d8075",
   "metadata": {},
   "source": [
    "22. How would you write a regex that matches a sentence where the first word is either Alice, Bob, or Carol; the second word is either eats, pets, or throws; the third word is apples, cats, or baseballs; and the sentence ends with a period? This regex should be case-insensitive. It must match the following:\n",
    "\n",
    "    'Alice eats apples.'\n",
    "    'Bob pets cats.'\n",
    "    'Carol throws baseballs.'\n",
    "    'Alice throws Apples.'\n",
    "    'BOB EATS CATS.'\n",
    "     - but not the following:\n",
    "    'RoboCop eats apples.'\n",
    "    'ALICE THROWS FOOTBALLS.'\n",
    "    'Carol eats 7 cats.'\n",
    "\n"
   ]
  },
  {
   "cell_type": "code",
   "execution_count": 12,
   "id": "3f582c2c",
   "metadata": {},
   "outputs": [
    {
     "name": "stdout",
     "output_type": "stream",
     "text": [
      "Alice eats apples. matches the string\n",
      "Bob pets cats. matches the string\n",
      "Carol throws baseballs. matches the string\n",
      "Alice throws Apples. matches the string\n",
      "RoboCop eats apples. does not match the string\n",
      "ALICE THROWS FOOTBALLS. does not match the string\n",
      "Carol eats 7 cats. does not match the string\n"
     ]
    }
   ],
   "source": [
    "import re\n",
    "\n",
    "# Define a regular expression to match a sentence\n",
    "pattern = re.compile(r'^(Alice|Bob|Carol)\\s+(eats|pets|throws)\\s+(apples|cats|baseballs)\\.$', re.IGNORECASE)\n",
    "\n",
    "# Test the regular expression with some sample strings\n",
    "strings = ['Alice eats apples.', \n",
    "           'Bob pets cats.', \n",
    "           'Carol throws baseballs.', \n",
    "           'Alice throws Apples.',\n",
    "           'RoboCop eats apples.', \n",
    "           'ALICE THROWS FOOTBALLS.', \n",
    "           'Carol eats 7 cats.']\n",
    "for string in strings:\n",
    "    match = pattern.match(string)\n",
    "    if match:\n",
    "        print(f'{string} matches the string')\n",
    "    else:\n",
    "        print(f'{string} does not match the string')\n"
   ]
  },
  {
   "cell_type": "code",
   "execution_count": null,
   "id": "7cba8aab",
   "metadata": {},
   "outputs": [],
   "source": []
  }
 ],
 "metadata": {
  "kernelspec": {
   "display_name": "Python 3 (ipykernel)",
   "language": "python",
   "name": "python3"
  },
  "language_info": {
   "codemirror_mode": {
    "name": "ipython",
    "version": 3
   },
   "file_extension": ".py",
   "mimetype": "text/x-python",
   "name": "python",
   "nbconvert_exporter": "python",
   "pygments_lexer": "ipython3",
   "version": "3.9.12"
  }
 },
 "nbformat": 4,
 "nbformat_minor": 5
}
