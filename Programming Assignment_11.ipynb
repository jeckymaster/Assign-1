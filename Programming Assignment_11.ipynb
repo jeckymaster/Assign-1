{
 "cells": [
  {
   "cell_type": "markdown",
   "id": "c3e71b0a",
   "metadata": {},
   "source": [
    "1. Write a Python program to find words which are greater than given length k?"
   ]
  },
  {
   "cell_type": "code",
   "execution_count": 1,
   "id": "fc84d612",
   "metadata": {},
   "outputs": [],
   "source": [
    "def words_lenth(string, k):\n",
    "    words = string.split()\n",
    "    result = []\n",
    "    for i in words:\n",
    "        if len(i) > k:\n",
    "            result.append(i)\n",
    "            \n",
    "    return result"
   ]
  },
  {
   "cell_type": "code",
   "execution_count": 2,
   "id": "665ccaf4",
   "metadata": {},
   "outputs": [
    {
     "name": "stdout",
     "output_type": "stream",
     "text": [
      "Enter the sentence: July is the beautiful month in the whole year\n",
      "Enter the value of k: 4\n",
      "Original String:  July is the beautiful month in the whole year\n",
      "Words greater than length 4:\n",
      "beautiful\n",
      "month\n",
      "whole\n"
     ]
    }
   ],
   "source": [
    "string_in = input(\"Enter the sentence: \")\n",
    "length_k = int(input(\"Enter the value of k: \"))\n",
    "final = words_lenth(string_in, length_k)\n",
    "print(\"Original String: \", string_in)\n",
    "print(f\"Words greater than length {length_k}:\")\n",
    "for i in final:\n",
    "    print(i)"
   ]
  },
  {
   "cell_type": "markdown",
   "id": "6a00e4fd",
   "metadata": {},
   "source": [
    "2. Write a Python program for removing i-th character from a string?"
   ]
  },
  {
   "cell_type": "code",
   "execution_count": 7,
   "id": "83cf7d14",
   "metadata": {},
   "outputs": [],
   "source": [
    "def remove_ith_char(string, i):\n",
    "    return string[:i] + string[i+1:]"
   ]
  },
  {
   "cell_type": "code",
   "execution_count": 11,
   "id": "ceb8218f",
   "metadata": {},
   "outputs": [
    {
     "name": "stdout",
     "output_type": "stream",
     "text": [
      "Enter the string: July is the beautiful month in the whole year\n",
      "Enter the index i th: 8\n",
      "Original String                     : July is the beautiful month in the whole year\n",
      "The string after removal of 8th char: July is he beautiful month in the whole year\n"
     ]
    }
   ],
   "source": [
    "string_in1 = input(\"Enter the string: \")\n",
    "ith_char = int(input(\"Enter the index i th: \"))\n",
    "final = remove_ith_char(string_in1, ith_char)\n",
    "print(f\"Original String                     : {string_in1}\")\n",
    "print(f\"The string after removal of {ith_char}th char: {final}\")"
   ]
  },
  {
   "cell_type": "markdown",
   "id": "18aabcf8",
   "metadata": {},
   "source": [
    "3. Write a Python program to split and join a string?"
   ]
  },
  {
   "cell_type": "code",
   "execution_count": 12,
   "id": "28919b03",
   "metadata": {},
   "outputs": [],
   "source": [
    "def split_and_join(string):\n",
    "    words = string.split() # to split string into words\n",
    "    joined_string = \" \".join(words)\n",
    "\n",
    "    return joined_string"
   ]
  },
  {
   "cell_type": "code",
   "execution_count": 13,
   "id": "6315ef94",
   "metadata": {},
   "outputs": [
    {
     "name": "stdout",
     "output_type": "stream",
     "text": [
      "Enter the string: July is the beautiful month in the whole year\n",
      "Original String : July is the beautiful month in the whole year\n",
      "Joind string    : July is the beautiful month in the whole year\n"
     ]
    }
   ],
   "source": [
    "string_in2 = input(\"Enter the string: \")\n",
    "final = split_and_join(string_in2)\n",
    "\n",
    "print(f\"Original String : {string_in2}\")\n",
    "print(f\"Joind string    : {final}\")"
   ]
  },
  {
   "cell_type": "markdown",
   "id": "e339b7af",
   "metadata": {},
   "source": [
    "4. Write a Python to check if a given string is binary string or not?"
   ]
  },
  {
   "cell_type": "code",
   "execution_count": 14,
   "id": "304eafb8",
   "metadata": {},
   "outputs": [],
   "source": [
    "def is_binary_string(string):\n",
    "    for char in string:\n",
    "        if char != '0' and char != '1':\n",
    "            return False\n",
    "    return True"
   ]
  },
  {
   "cell_type": "code",
   "execution_count": 17,
   "id": "a884e451",
   "metadata": {},
   "outputs": [
    {
     "name": "stdout",
     "output_type": "stream",
     "text": [
      "Enter the string: 1000100111\n",
      "The input string is: 1000100111\n",
      "The given string is a Binary String.\n"
     ]
    }
   ],
   "source": [
    "string_in3 = input(\"Enter the string: \")\n",
    "final = is_binary_string(string_in3)\n",
    "\n",
    "print(f\"The input string is: {string_in3}\")\n",
    "if final:\n",
    "    print(\"The given string is a Binary String.\")\n",
    "else:\n",
    "    print(\"The given string is not a Binary String.\")"
   ]
  },
  {
   "cell_type": "markdown",
   "id": "ea77b4e7",
   "metadata": {},
   "source": [
    "5. Write a Python program to find uncommon words from two Strings?"
   ]
  },
  {
   "cell_type": "code",
   "execution_count": 18,
   "id": "5d498403",
   "metadata": {},
   "outputs": [],
   "source": [
    "def find_uncommon(string1, string2):\n",
    "    set_words1 = set(string1.split()) # create sets of words \n",
    "    set_words2 = set(string2.split())\n",
    "    \n",
    "    uncommons = set_words1.symmetric_difference(set_words2)\n",
    "    \n",
    "    return uncommons"
   ]
  },
  {
   "cell_type": "code",
   "execution_count": 20,
   "id": "1640b014",
   "metadata": {},
   "outputs": [
    {
     "name": "stdout",
     "output_type": "stream",
     "text": [
      "Enter the string1: people love to watch movies in the theatre.\n",
      "Enter the string2: people also love to see the match in the ground.\n",
      "The uncommon words : {'see', 'also', 'theatre.', 'watch', 'match', 'movies', 'ground.'}\n"
     ]
    }
   ],
   "source": [
    "in_str1 = input(\"Enter the string1: \")\n",
    "in_str2 = input(\"Enter the string2: \")\n",
    "final = find_uncommon(in_str1, in_str2)\n",
    "print(f\"The uncommon words : {final}\")"
   ]
  },
  {
   "cell_type": "markdown",
   "id": "905c4b60",
   "metadata": {},
   "source": [
    "6. Write a Python to find all duplicate characters in string?"
   ]
  },
  {
   "cell_type": "code",
   "execution_count": 22,
   "id": "2531a58d",
   "metadata": {},
   "outputs": [],
   "source": [
    "def find_duplicate_characters(string):\n",
    "    duplicate_chars = []\n",
    "    char_count = {}\n",
    "\n",
    "    # Count the occurrences of each character\n",
    "    for char in string:\n",
    "        if char in char_count:\n",
    "            char_count[char] += 1\n",
    "        else:\n",
    "            char_count[char] = 1\n",
    "\n",
    "    # Find the characters with more than one occurrence\n",
    "    for char, count in char_count.items():\n",
    "        if count > 1:\n",
    "            duplicate_chars.append(char)\n",
    "\n",
    "    return duplicate_chars\n",
    "\n"
   ]
  },
  {
   "cell_type": "code",
   "execution_count": 23,
   "id": "b8a92c81",
   "metadata": {},
   "outputs": [
    {
     "name": "stdout",
     "output_type": "stream",
     "text": [
      "Enter the string: my world is my family\n",
      "Input string: my world is my family\n",
      "Duplicate characters: ['m', 'y', ' ', 'l', 'i']\n"
     ]
    }
   ],
   "source": [
    "# Test the function\n",
    "input_string = input(\"Enter the string: \")\n",
    "duplicates = find_duplicate_characters(input_string)\n",
    "\n",
    "print(\"Input string:\", input_string)\n",
    "print(\"Duplicate characters:\", duplicates)\n"
   ]
  },
  {
   "cell_type": "markdown",
   "id": "4189c066",
   "metadata": {},
   "source": [
    "7. Write a Python Program to check if a string contains any special character?"
   ]
  },
  {
   "cell_type": "code",
   "execution_count": 24,
   "id": "e3edd366",
   "metadata": {},
   "outputs": [],
   "source": [
    "import re\n",
    "\n",
    "def has_special_character(string):\n",
    "    pattern = re.compile('[\\W_]+')\n",
    "    if pattern.search(string):\n",
    "        return True\n",
    "    return False"
   ]
  },
  {
   "cell_type": "code",
   "execution_count": 25,
   "id": "e38990db",
   "metadata": {},
   "outputs": [
    {
     "name": "stdout",
     "output_type": "stream",
     "text": [
      "Enter the string: Hello ! my love^\n",
      "Input string: my world is my family\n",
      "The string contains special characters.\n"
     ]
    }
   ],
   "source": [
    "input_string2 = input(\"Enter the string: \")\n",
    "has_special_char = has_special_character(input_string2)\n",
    "\n",
    "print(\"Input string:\", input_string)\n",
    "if has_special_char:\n",
    "    print(\"The string contains special characters.\")\n",
    "else:\n",
    "    print(\"The string does not contain special characters.\")"
   ]
  },
  {
   "cell_type": "markdown",
   "id": "30ab5a54",
   "metadata": {},
   "source": []
  },
  {
   "cell_type": "code",
   "execution_count": null,
   "id": "7bd47d9b",
   "metadata": {},
   "outputs": [],
   "source": []
  },
  {
   "cell_type": "code",
   "execution_count": null,
   "id": "a72cc384",
   "metadata": {},
   "outputs": [],
   "source": []
  },
  {
   "cell_type": "markdown",
   "id": "4bfea69f",
   "metadata": {},
   "source": []
  },
  {
   "cell_type": "code",
   "execution_count": null,
   "id": "bccd7235",
   "metadata": {},
   "outputs": [],
   "source": []
  },
  {
   "cell_type": "code",
   "execution_count": null,
   "id": "aca20c8a",
   "metadata": {},
   "outputs": [],
   "source": []
  },
  {
   "cell_type": "markdown",
   "id": "7346d8bc",
   "metadata": {},
   "source": []
  },
  {
   "cell_type": "code",
   "execution_count": null,
   "id": "5b0e9890",
   "metadata": {},
   "outputs": [],
   "source": []
  },
  {
   "cell_type": "code",
   "execution_count": null,
   "id": "dbc5c30a",
   "metadata": {},
   "outputs": [],
   "source": []
  },
  {
   "cell_type": "markdown",
   "id": "367c5599",
   "metadata": {},
   "source": []
  },
  {
   "cell_type": "code",
   "execution_count": null,
   "id": "10a3a7f0",
   "metadata": {},
   "outputs": [],
   "source": []
  },
  {
   "cell_type": "code",
   "execution_count": null,
   "id": "73809834",
   "metadata": {},
   "outputs": [],
   "source": []
  },
  {
   "cell_type": "markdown",
   "id": "dbc486fa",
   "metadata": {},
   "source": []
  },
  {
   "cell_type": "code",
   "execution_count": null,
   "id": "c45d792f",
   "metadata": {},
   "outputs": [],
   "source": []
  },
  {
   "cell_type": "code",
   "execution_count": null,
   "id": "b87393b2",
   "metadata": {},
   "outputs": [],
   "source": []
  },
  {
   "cell_type": "markdown",
   "id": "a337a305",
   "metadata": {},
   "source": []
  },
  {
   "cell_type": "code",
   "execution_count": null,
   "id": "8a6595bf",
   "metadata": {},
   "outputs": [],
   "source": []
  },
  {
   "cell_type": "code",
   "execution_count": null,
   "id": "b15d6b12",
   "metadata": {},
   "outputs": [],
   "source": []
  },
  {
   "cell_type": "markdown",
   "id": "2f369a6e",
   "metadata": {},
   "source": []
  },
  {
   "cell_type": "code",
   "execution_count": null,
   "id": "f5fe365a",
   "metadata": {},
   "outputs": [],
   "source": []
  },
  {
   "cell_type": "code",
   "execution_count": null,
   "id": "7f3f3982",
   "metadata": {},
   "outputs": [],
   "source": []
  },
  {
   "cell_type": "markdown",
   "id": "327fa0ad",
   "metadata": {},
   "source": []
  },
  {
   "cell_type": "code",
   "execution_count": null,
   "id": "a67a7feb",
   "metadata": {},
   "outputs": [],
   "source": []
  },
  {
   "cell_type": "code",
   "execution_count": null,
   "id": "773bbb9d",
   "metadata": {},
   "outputs": [],
   "source": []
  },
  {
   "cell_type": "markdown",
   "id": "dfd4d581",
   "metadata": {},
   "source": []
  },
  {
   "cell_type": "code",
   "execution_count": null,
   "id": "6ebf0a92",
   "metadata": {},
   "outputs": [],
   "source": []
  },
  {
   "cell_type": "code",
   "execution_count": null,
   "id": "e9cf506a",
   "metadata": {},
   "outputs": [],
   "source": []
  },
  {
   "cell_type": "code",
   "execution_count": null,
   "id": "5d515ca3",
   "metadata": {},
   "outputs": [],
   "source": []
  }
 ],
 "metadata": {
  "kernelspec": {
   "display_name": "Python 3 (ipykernel)",
   "language": "python",
   "name": "python3"
  },
  "language_info": {
   "codemirror_mode": {
    "name": "ipython",
    "version": 3
   },
   "file_extension": ".py",
   "mimetype": "text/x-python",
   "name": "python",
   "nbconvert_exporter": "python",
   "pygments_lexer": "ipython3",
   "version": "3.9.10"
  }
 },
 "nbformat": 4,
 "nbformat_minor": 5
}
