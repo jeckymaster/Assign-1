{
 "cells": [
  {
   "cell_type": "markdown",
   "id": "1cba9af1",
   "metadata": {},
   "source": [
    "1. What advantages do Excel spreadsheets have over CSV spreadsheets?"
   ]
  },
  {
   "cell_type": "markdown",
   "id": "23e82ed6",
   "metadata": {},
   "source": [
    "Excel spreadsheets have several advantages over CSV (Comma Separated Values) spreadsheets:\n",
    "\n",
    "1. Data Formatting: Excel allows for complex formatting of data, including font styles, colors, and borders, making it easier to read and interpret data. This is not possible with CSV files, which only contain raw data separated by commas.\n",
    "\n",
    "2. Calculation capabilities: Excel has built-in functions and formulas that can be used for complex calculations and analysis of data. These functions are not available in CSV files.\n",
    "\n",
    "3. Graphical Representation: Excel can easily create charts and graphs that visually represent the data, making it easier to understand trends and patterns. CSV files cannot do this.\n",
    "\n",
    "4. User interface: Excel has a user-friendly interface that makes it easy to navigate and manipulate data. CSV files require a separate program to view and edit, such as a text editor or spreadsheet software.\n",
    "\n",
    "5. Compatibility: Excel files can be easily shared with others who have Excel installed on their computer, and they can be opened and edited on a variety of devices, including desktops, laptops, and mobile devices. CSV files can also be shared, but they require specific software to view and edit.\n",
    "\n",
    "6. Data Validation: Excel has built-in features for data validation and error checking, which helps to ensure that the data entered is accurate and consistent. This is not possible with CSV files."
   ]
  },
  {
   "cell_type": "markdown",
   "id": "965fedf6",
   "metadata": {},
   "source": [
    "2. What do you pass to csv.reader() and csv.writer() to create reader and writer objects?"
   ]
  },
  {
   "cell_type": "markdown",
   "id": "7c831d91",
   "metadata": {},
   "source": [
    "To create a reader object using csv.reader(), we need to pass a file object containing the CSV data to the csv.reader() function.\n",
    "\n",
    "import csv\n",
    "\n",
    "with open('data.csv', 'r') as file:\n",
    "    reader = csv.reader(file)\n",
    "\n",
    "To create a writer object using csv.writer(), we also need to pass a file object to the csv.writer() function.\n",
    "\n",
    "\n",
    "with open('output.csv', 'w', newline='') as file:\n",
    "    writer = csv.writer(file)\n"
   ]
  },
  {
   "cell_type": "markdown",
   "id": "627b4935",
   "metadata": {},
   "source": [
    "3. What modes do File objects for reader and writer objects need to be opened in?"
   ]
  },
  {
   "cell_type": "markdown",
   "id": "b103102e",
   "metadata": {},
   "source": [
    "Reader objects: The file object used for a csv.reader() object should be opened in read mode ('r'). This allows the csv.reader() object to read the CSV data from the file.\n",
    "\n",
    "import csv\n",
    "\n",
    "with open('data.csv', 'r') as file:\n",
    "    reader = csv.reader(file)\n",
    "\n",
    "Writer objects: The file object used for a csv.writer() object should be opened in write mode ('w'). This allows the csv.writer() object to write CSV data to the file.\n",
    "\n",
    "import csv\n",
    "\n",
    "with open('output.csv', 'w', newline='') as file:\n",
    "    writer = csv.writer(file)\n"
   ]
  },
  {
   "cell_type": "markdown",
   "id": "1e1fbad0",
   "metadata": {},
   "source": [
    "4. What method takes a list argument and writes it to a CSV file?"
   ]
  },
  {
   "cell_type": "markdown",
   "id": "ee89a6b4",
   "metadata": {},
   "source": [
    "The writerow() method of a csv.writer() object takes a list argument and writes it as a row in a CSV file."
   ]
  },
  {
   "cell_type": "code",
   "execution_count": 1,
   "id": "fc115923",
   "metadata": {},
   "outputs": [],
   "source": [
    "import csv\n",
    "\n",
    "data = [\n",
    "    ['Name', 'Age', 'Gender'],\n",
    "    ['Nisha', '25', 'Female'],\n",
    "    ['Jagruti', '30', 'Female'],\n",
    "    ['Vinod', '40', 'Male'],\n",
    "    ['Shahrukh', '20', 'Male']\n",
    "]\n",
    "\n",
    "with open('output.csv', 'w', newline='') as file:\n",
    "    writer = csv.writer(file)\n",
    "    for row in data:\n",
    "        writer.writerow(row)"
   ]
  },
  {
   "cell_type": "markdown",
   "id": "33029a2c",
   "metadata": {},
   "source": [
    "5. What do the keyword arguments delimiter and line terminator do?"
   ]
  },
  {
   "cell_type": "markdown",
   "id": "35a39f06",
   "metadata": {},
   "source": [
    "The delimiter and lineterminator are optional keyword arguments that can be passed to the csv.writer() function to customize the format of the CSV file that is generated.\n",
    "\n",
    "'delimiter': This argument specifies the character or sequence of characters that should be used to separate the values in each row of the CSV file. By default, the delimiter is a comma (,), but it can be set to any character or sequence of characters that is suitable for your data. For example, you could set the delimiter to a tab character ('\\t') to generate a tab-delimited file."
   ]
  },
  {
   "cell_type": "code",
   "execution_count": null,
   "id": "17f9616a",
   "metadata": {},
   "outputs": [],
   "source": [
    "import csv\n",
    "\n",
    "data = [\n",
    "    ['Name', 'Age', 'Gender'],\n",
    "    ['Nisha', '25', 'Female'],\n",
    "    ['Jagruti', '30', 'Female'],\n",
    "    ['Vinod', '40', 'Male'],\n",
    "    ['Shahrukh', '20', 'Male']\n",
    "]\n",
    "\n",
    "with open('output.csv', 'w', newline='') as file:\n",
    "    writer = csv.writer(file, delimiter='\\t')\n",
    "    for row in data:\n",
    "        writer.writerow(row)\n"
   ]
  },
  {
   "cell_type": "markdown",
   "id": "d7436164",
   "metadata": {},
   "source": [
    "'lineterminator': This argument specifies the character or sequence of characters that should be used to terminate each row of the CSV file. By default, the line terminator is a newline character ('\\n'), but it can be set to any character or sequence of characters that is suitable for your data."
   ]
  },
  {
   "cell_type": "code",
   "execution_count": null,
   "id": "5ddcefa7",
   "metadata": {},
   "outputs": [],
   "source": [
    "import csv\n",
    "\n",
    "data = [\n",
    "    ['Name', 'Age', 'Gender'],\n",
    "    ['Nisha', '25', 'Female'],\n",
    "    ['Jagruti', '30', 'Female'],\n",
    "    ['Vinod', '40', 'Male'],\n",
    "    ['Shahrukh', '20', 'Male']\n",
    "]\n",
    "\n",
    "with open('output.csv', 'w', newline='') as file:\n",
    "    writer = csv.writer(file, lineterminator='\\r\\n')\n",
    "    for row in data:\n",
    "        writer.writerow(row)\n"
   ]
  },
  {
   "cell_type": "markdown",
   "id": "0fc9ddd0",
   "metadata": {},
   "source": [
    "6. What function takes a string of JSON data and returns a Python data structure?"
   ]
  },
  {
   "cell_type": "markdown",
   "id": "664fe547",
   "metadata": {},
   "source": [
    "The json.loads() function is used to parse a string of JSON data and convert it into a Python data structure, such as a list or dictionary. "
   ]
  },
  {
   "cell_type": "code",
   "execution_count": 2,
   "id": "9a54afbd",
   "metadata": {},
   "outputs": [
    {
     "name": "stdout",
     "output_type": "stream",
     "text": [
      "{'name': 'Janki', 'age': 20, 'city': 'Vadodara'}\n"
     ]
    }
   ],
   "source": [
    "import json\n",
    "\n",
    "json_data = '{\"name\": \"Janki\", \"age\": 20, \"city\": \"Vadodara\"}'\n",
    "\n",
    "python_data = json.loads(json_data)\n",
    "\n",
    "print(python_data)\n"
   ]
  },
  {
   "cell_type": "markdown",
   "id": "89eba0a5",
   "metadata": {},
   "source": [
    "7. What function takes a Python data structure and returns a string of JSON data?"
   ]
  },
  {
   "cell_type": "markdown",
   "id": "aac24a67",
   "metadata": {},
   "source": [
    "The json.dumps() function is used to serialize a Python data structure into a JSON formatted string."
   ]
  },
  {
   "cell_type": "code",
   "execution_count": 3,
   "id": "b8e2ca71",
   "metadata": {},
   "outputs": [
    {
     "name": "stdout",
     "output_type": "stream",
     "text": [
      "{\"name\": \"Janki\", \"age\": 20, \"city\": \"Vadodara\"}\n"
     ]
    }
   ],
   "source": [
    "import json\n",
    "\n",
    "python_data = {\n",
    "    \"name\": \"Janki\",\n",
    "    \"age\": 20,\n",
    "    \"city\": \"Vadodara\"\n",
    "}\n",
    "\n",
    "json_data = json.dumps(python_data)\n",
    "\n",
    "print(json_data)\n"
   ]
  },
  {
   "cell_type": "code",
   "execution_count": null,
   "id": "d50cc01c",
   "metadata": {},
   "outputs": [],
   "source": []
  }
 ],
 "metadata": {
  "kernelspec": {
   "display_name": "Python 3 (ipykernel)",
   "language": "python",
   "name": "python3"
  },
  "language_info": {
   "codemirror_mode": {
    "name": "ipython",
    "version": 3
   },
   "file_extension": ".py",
   "mimetype": "text/x-python",
   "name": "python",
   "nbconvert_exporter": "python",
   "pygments_lexer": "ipython3",
   "version": "3.9.12"
  }
 },
 "nbformat": 4,
 "nbformat_minor": 5
}
